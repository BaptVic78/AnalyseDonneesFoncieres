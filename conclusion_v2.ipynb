{
 "cells": [
  {
   "cell_type": "markdown",
   "id": "151f564a",
   "metadata": {},
   "source": [
    "# CONCLUSION\n",
    "\n"
   ]
  },
  {
   "cell_type": "markdown",
   "id": "68ca9046",
   "metadata": {},
   "source": [
    "import et ouverture du fichier"
   ]
  },
  {
   "cell_type": "code",
   "execution_count": null,
   "id": "1f25cd8f",
   "metadata": {},
   "outputs": [],
   "source": [
    "import pandas as pd\n",
    "import ipywidgets as widgets\n",
    "from IPython.display import display, clear_output\n",
    "import numpy as np\n",
    "\n",
    "import plotly.express as px\n",
    "import plotly.graph_objects as go\n",
    "\n",
    "\n",
    "\n",
    "try:\n",
    "    df = pd.read_csv('dvf_loyers.csv', sep=';')\n",
    "except FileNotFoundError:\n",
    "    print(\"Erreur: Le fichier 'dvf_loyers.csv' est introuvable.\")\n",
    "    print(\"Veuillez vous assurer que le fichier est dans le même répertoire que votre notebook.\")\n",
    "    # Crée un DataFrame vide pour éviter d'autres erreurs si le fichier n'est pas trouvé\n",
    "    df = pd.DataFrame(columns=['valeur_fonciere', 'surface_reelle_bati', 'loyer_ref_m2', 'adresse_nom_voie', 'nom_commune', 'loyer_majore_m2', 'loyer_minore_m2'])"
   ]
  },
  {
   "cell_type": "markdown",
   "id": "9d68faab",
   "metadata": {},
   "source": [
    "Nettoyer les données"
   ]
  },
  {
   "cell_type": "code",
   "execution_count": null,
   "id": "6bb37dd1",
   "metadata": {},
   "outputs": [],
   "source": [
    "df = df.dropna(subset=['valeur_fonciere', 'surface_reelle_bati', 'loyer_ref_m2', 'loyer_majore_m2', 'loyer_minore_m2'])\n",
    "df = df[df['surface_reelle_bati'] > 0]\n",
    "df = df[df['loyer_ref_m2'] > 0]"
   ]
  },
  {
   "cell_type": "markdown",
   "id": "6459586b",
   "metadata": {},
   "source": [
    "Créer la liste des biens pour le menu déroulant"
   ]
  },
  {
   "cell_type": "code",
   "execution_count": null,
   "id": "4b04cdae",
   "metadata": {},
   "outputs": [],
   "source": [
    "df['bien_label'] = df.apply(\n",
    "    lambda row: f\"{row['adresse_nom_voie']}, {row['nom_commune']} - {row['valeur_fonciere']:,.0f}€ - {row['surface_reelle_bati']:.0f}m²\",\n",
    "    axis=1\n",
    ")\n",
    "quartiers = [\"Tous\"] + sorted(df[\"nom_commune\"].unique().tolist())"
   ]
  },
  {
   "cell_type": "markdown",
   "id": "65d6eca9",
   "metadata": {},
   "source": [
    "Widgets de paramètres"
   ]
  },
  {
   "cell_type": "code",
   "execution_count": null,
   "id": "5f08985d",
   "metadata": {},
   "outputs": [],
   "source": [
    "quartier_selector = widgets.Dropdown(\n",
    "    options=quartiers,\n",
    "    value=\"Tous\",\n",
    "    description=\"Quartier :\",\n",
    "    style={'description_width': '150px'},\n",
    "    layout=widgets.Layout(width='90%')\n",
    ")\n",
    "bien_selector = widgets.Dropdown(\n",
    "    options=list(zip(df['bien_label'], df.index)),\n",
    "    description='Bien:',\n",
    "    style={'description_width': '150px'},\n",
    "    layout=widgets.Layout(width='90%')\n",
    ")\n",
    "\n",
    "apport_slider = widgets.IntSlider(\n",
    "    value=50000,\n",
    "    min=0,\n",
    "    max=500000,  # Cette valeur max sera maintenant dynamique\n",
    "    step=5000,\n",
    "    description='Apport (€):',\n",
    "    style={'description_width': '150px'},\n",
    "    layout=widgets.Layout(width='80%')\n",
    ")\n",
    "\n",
    "taux_slider = widgets.FloatSlider(\n",
    "    value=3.5,\n",
    "    min=0.0,\n",
    "    max=15.0,\n",
    "    step=0.1,\n",
    "    description='Taux prêt (%):',\n",
    "    style={'description_width': '150px'},\n",
    "    layout=widgets.Layout(width='80%')\n",
    ")\n",
    "\n",
    "duree_slider = widgets.IntSlider(\n",
    "    value=25,\n",
    "    min=5,\n",
    "    max=30,\n",
    "    step=1,\n",
    "    description='Durée (années):',\n",
    "    style={'description_width': '150px'},\n",
    "    layout=widgets.Layout(width='80%')\n",
    ")\n",
    "\n",
    "output = widgets.Output()"
   ]
  },
  {
   "cell_type": "markdown",
   "id": "19cea354",
   "metadata": {},
   "source": [
    "fonction de calcule des mensualité banquaire"
   ]
  },
  {
   "cell_type": "code",
   "execution_count": null,
   "id": "7a3b49a4",
   "metadata": {},
   "outputs": [],
   "source": [
    "def calculer_mensualite(capital, taux_annuel, duree_annees):\n",
    "    \"\"\"Calcule la mensualité d'un prêt\"\"\"\n",
    "    if capital <= 0:\n",
    "        return 0\n",
    "    taux_mensuel = taux_annuel / 100 / 12\n",
    "    nb_mois = duree_annees * 12\n",
    "    if taux_mensuel == 0:\n",
    "        return capital / nb_mois\n",
    "    mensualite = capital * (taux_mensuel * (1 + taux_mensuel)**nb_mois) / ((1 + taux_mensuel)**nb_mois - 1)\n",
    "    return mensualite"
   ]
  },
  {
   "cell_type": "markdown",
   "id": "261be876",
   "metadata": {},
   "source": [
    "fonction de filtrage en fonction du quartier"
   ]
  },
  {
   "cell_type": "code",
   "execution_count": null,
   "id": "781afce8",
   "metadata": {},
   "outputs": [],
   "source": [
    "def mettre_a_jour_biens(change=None):\n",
    "    \"\"\"Met à jour la liste des biens selon le quartier sélectionné\"\"\"\n",
    "    selected_quartier = quartier_selector.value\n",
    "    \n",
    "    if selected_quartier == \"Tous\":\n",
    "        df_filtre = df\n",
    "    else:\n",
    "        df_filtre = df[df[\"nom_commune\"] == selected_quartier]\n",
    "    \n",
    "    # Met à jour le dropdown des biens\n",
    "    bien_selector.options = list(zip(df_filtre['bien_label'], df_filtre.index))\n",
    "    \n",
    "    # Sélectionne le premier bien du filtre si dispo\n",
    "    if len(df_filtre) > 0:\n",
    "        bien_selector.value = df_filtre.index[0]\n"
   ]
  },
  {
   "cell_type": "markdown",
   "id": "181c2d33",
   "metadata": {},
   "source": [
    "fonction d'affichage"
   ]
  },
  {
   "cell_type": "code",
   "execution_count": null,
   "id": "cd2ace6b",
   "metadata": {},
   "outputs": [],
   "source": [
    "def afficher_resultats(change=None):\n",
    "    \"\"\"Affiche les résultats de la simulation\"\"\"\n",
    "    with output:\n",
    "        clear_output(wait=True)\n",
    "        \n",
    "        # S'assurer qu'il y a des données à traiter\n",
    "        if df.empty or bien_selector.value is None:\n",
    "            print(\"Aucune donnée à afficher. Veuillez vérifier le chargement du fichier CSV.\")\n",
    "            return\n",
    "            \n",
    "        # Récupérer le bien sélectionné\n",
    "        idx = bien_selector.value\n",
    "        bien = df.loc[idx]\n",
    "        \n",
    "        # Paramètres de financement\n",
    "        prix_achat = bien['valeur_fonciere']\n",
    "\n",
    "        # --- MODIFICATION ---\n",
    "        # 1. Mettre à jour la valeur maximale du curseur d'apport avec le prix du bien\n",
    "        apport_slider.max = prix_achat\n",
    "        \n",
    "        # 2. Si l'apport actuel est supérieur au prix du bien, le ramener au maximum possible\n",
    "        if apport_slider.value > prix_achat:\n",
    "            apport_slider.value = prix_achat\n",
    "        # --- FIN DE LA MODIFICATION ---\n",
    "            \n",
    "        apport = apport_slider.value\n",
    "        taux = taux_slider.value\n",
    "        duree = duree_slider.value\n",
    "        \n",
    "        # Calculs\n",
    "        montant_emprunte = max(0, prix_achat - apport)\n",
    "        mensualite_pret = calculer_mensualite(montant_emprunte, taux, duree)\n",
    "        cout_total_credit = mensualite_pret * duree * 12\n",
    "        cout_total_projet = cout_total_credit + apport\n",
    "        \n",
    "        # Calculs des loyers\n",
    "        surface = bien['surface_reelle_bati']\n",
    "        loyer_estime = surface * bien['loyer_ref_m2']\n",
    "        loyer_majore = surface * bien['loyer_majore_m2']\n",
    "        loyer_minore = surface * bien['loyer_minore_m2']\n",
    "        \n",
    "        # Charges estimées (25% du loyer)\n",
    "        charges_estimees = loyer_estime * 0.25\n",
    "        \n",
    "        # Cash-flow\n",
    "        cashflow_net = loyer_estime - mensualite_pret\n",
    "        cashflow_max = loyer_majore - mensualite_pret\n",
    "        \n",
    "        # Rendements\n",
    "        rendement_brut = (loyer_estime * 12 / prix_achat) * 100 if prix_achat > 0 else 0\n",
    "        rendement_locatif_majore = (loyer_majore * 12 / prix_achat) * 100 if prix_achat > 0 else 0\n",
    "        \n",
    "        # Affichage formaté\n",
    "        print(\"\\n\" + \"-\"*80)\n",
    "        print(\"FINANCEMENT\")\n",
    "        print(\"-\"*80)\n",
    "        apport_pourcentage = (apport / prix_achat * 100) if prix_achat > 0 else 0\n",
    "        print(f\"Apport personnel:     {apport:>15,.0f} € ({apport_pourcentage:.1f}%)\")\n",
    "        print(f\"Montant emprunté:     {montant_emprunte:>15,.0f} €\")\n",
    "        print(f\"Mensualité du prêt:   {mensualite_pret:>15,.0f} €/mois\")\n",
    "        print(f\"Coût total du crédit: {cout_total_credit:>15,.0f} €\")\n",
    "        print(f\"Coût total du projet: {cout_total_projet:>15,.0f} € (Apport + Coût crédit)\")\n",
    "\n",
    "\n",
    "        print(\"\\n\" + \"-\"*80)\n",
    "        print(\"LOYERS ET RENTABILITÉ\")\n",
    "        print(\"-\"*80)\n",
    "        print(f\"Loyer MINORÉ:         {loyer_minore:>15,.0f} €/mois\")\n",
    "        print(f\"Loyer de RÉFÉRENCE:   {loyer_estime:>15,.0f} €/mois\")\n",
    "        print(f\"Loyer MAJORÉ:         {loyer_majore:>15,.0f} €/mois\\n\")\n",
    "\n",
    "        print(f\"Loyer annuel (réf.):  {loyer_estime*12:>15,.0f} €\")\n",
    "        print(f\"Loyer/m² (réf.):      {bien['loyer_ref_m2']:>15.2f} €\")\n",
    "        print(f\"Charges locatives:    {charges_estimees:>15,.0f} €/mois (estimé à 25%)\")\n",
    "        print(f\"(refacturées au locataire)\")\n",
    "        \n",
    "        cashflow_status_net = \"POSITIF\" if cashflow_net >= 0 else \"NÉGATIF\"\n",
    "        print(f\"\\nCash-flow net (réf.): {cashflow_net:>15,.0f} €/mois ({cashflow_status_net})\")\n",
    "        cashflow_status_max = \"POSITIF\" if cashflow_max >= 0 else \"NÉGATIF\"\n",
    "        print(f\"Cash-flow max (majoré):{cashflow_max:>15,.0f} €/mois ({cashflow_status_max})\")\n",
    "        \n",
    "        print(f\"\\nRendement brut (réf.):     {rendement_brut:>12.2f} %\")\n",
    "        print(f\"Rendement brut (majoré):   {rendement_locatif_majore:>12.2f} %\")\n"
   ]
  },
  {
   "cell_type": "code",
   "execution_count": null,
   "id": "eb65a02d",
   "metadata": {},
   "outputs": [],
   "source": [
    "# Observer les changements\n",
    "quartier_selector.observe(mettre_a_jour_biens, names='value')\n",
    "bien_selector.observe(afficher_resultats, names='value')\n",
    "apport_slider.observe(afficher_resultats, names='value')\n",
    "taux_slider.observe(afficher_resultats, names='value')\n",
    "duree_slider.observe(afficher_resultats, names='value')"
   ]
  },
  {
   "cell_type": "markdown",
   "id": "97f538f5",
   "metadata": {},
   "source": [
    "affichage"
   ]
  },
  {
   "cell_type": "code",
   "execution_count": null,
   "id": "0a5c83fd",
   "metadata": {},
   "outputs": [
    {
     "data": {
      "application/vnd.jupyter.widget-view+json": {
       "model_id": "e4ac23ceeede41c2a3cb1725fde45381",
       "version_major": 2,
       "version_minor": 0
      },
      "text/plain": [
       "Dropdown(description='Quartier :', layout=Layout(width='90%'), options=('Tous', 'Paris 10e Arrondissement', 'P…"
      ]
     },
     "metadata": {},
     "output_type": "display_data"
    },
    {
     "data": {
      "application/vnd.jupyter.widget-view+json": {
       "model_id": "8c344c6347174274b74acf6bd962b8a3",
       "version_major": 2,
       "version_minor": 0
      },
      "text/plain": [
       "Dropdown(description='Bien:', layout=Layout(width='90%'), options=(('PAS BASFOUR, Paris 2e Arrondissement - 17…"
      ]
     },
     "metadata": {},
     "output_type": "display_data"
    },
    {
     "data": {
      "application/vnd.jupyter.widget-view+json": {
       "model_id": "4bfff7685d164d1d8bbcd903891f975d",
       "version_major": 2,
       "version_minor": 0
      },
      "text/plain": [
       "IntSlider(value=50000, description='Apport (€):', layout=Layout(width='80%'), max=500000, step=5000, style=Sli…"
      ]
     },
     "metadata": {},
     "output_type": "display_data"
    },
    {
     "data": {
      "application/vnd.jupyter.widget-view+json": {
       "model_id": "7587e5aa516644f1abf20714413a5b3e",
       "version_major": 2,
       "version_minor": 0
      },
      "text/plain": [
       "FloatSlider(value=3.5, description='Taux prêt (%):', layout=Layout(width='80%'), max=15.0, style=SliderStyle(d…"
      ]
     },
     "metadata": {},
     "output_type": "display_data"
    },
    {
     "data": {
      "application/vnd.jupyter.widget-view+json": {
       "model_id": "5f1aefcb664643b699c3fb6dd425500a",
       "version_major": 2,
       "version_minor": 0
      },
      "text/plain": [
       "IntSlider(value=25, description='Durée (années):', layout=Layout(width='80%'), max=30, min=5, style=SliderStyl…"
      ]
     },
     "metadata": {},
     "output_type": "display_data"
    },
    {
     "data": {
      "application/vnd.jupyter.widget-view+json": {
       "model_id": "e9b6ac03a60a4165867889232cdd61c7",
       "version_major": 2,
       "version_minor": 0
      },
      "text/plain": [
       "Output()"
      ]
     },
     "metadata": {},
     "output_type": "display_data"
    }
   ],
   "source": [
    "# Affichage des widgets\n",
    "display(quartier_selector)\n",
    "display(bien_selector)\n",
    "display(apport_slider)\n",
    "display(taux_slider)\n",
    "display(duree_slider)\n",
    "display(output)\n",
    "\n",
    "# Affichage initial\n",
    "afficher_resultats()"
   ]
  },
  {
   "cell_type": "markdown",
   "id": "030ff8e7",
   "metadata": {},
   "source": [
    "recuperation des données pour la partie carte"
   ]
  },
  {
   "cell_type": "code",
   "execution_count": null,
   "id": "23cd8d54",
   "metadata": {},
   "outputs": [],
   "source": [
    "for col in ['longitude','latitude','valeur_fonciere','surface_reelle_bati','loyer_ref_m2']:\n",
    "    df[col] = pd.to_numeric(df[col], errors='coerce')\n",
    "df.dropna(subset=['latitude','longitude','surface_reelle_bati','loyer_ref_m2','valeur_fonciere'], inplace=True)\n",
    "\n",
    "df['Loyer_Mensuel_Estime'] = df['surface_reelle_bati'] * df['loyer_ref_m2']"
   ]
  },
  {
   "cell_type": "markdown",
   "id": "a6fa14b2",
   "metadata": {},
   "source": [
    "ajout du filtre budget"
   ]
  },
  {
   "cell_type": "code",
   "execution_count": null,
   "id": "b20cae0b",
   "metadata": {},
   "outputs": [],
   "source": [
    "\n",
    "\n",
    "budget_slider = widgets.IntSlider(\n",
    "    value=300000, min=0, max=1_000_000, step=10_000,\n",
    "    description='Budget (€):',\n",
    "    style={'description_width': '150px'},\n",
    "    layout=widgets.Layout(width='80%')\n",
    ")\n"
   ]
  },
  {
   "cell_type": "code",
   "execution_count": null,
   "id": "443f43d6",
   "metadata": {},
   "outputs": [],
   "source": [
    "# ==================== Zones ====================\n",
    "calc_output = widgets.Output()\n",
    "click_output = widgets.Output()\n",
    "map_output = widgets.Output()"
   ]
  },
  {
   "cell_type": "markdown",
   "id": "e695cf1e",
   "metadata": {},
   "source": [
    "fonction pour connaitre ses mensualité maximun"
   ]
  },
  {
   "cell_type": "code",
   "execution_count": null,
   "id": "b0572fe1",
   "metadata": {},
   "outputs": [],
   "source": [
    "# ==================== Fonctions ====================\n",
    "def mensualite_vect(capital, taux_annuel, duree_annees):\n",
    "    capital = np.asarray(capital, dtype=float)\n",
    "    n = int(duree_annees) * 12\n",
    "    tm = (taux_annuel / 100.0) / 12.0\n",
    "    if tm == 0:\n",
    "        return np.where(capital > 0, capital / n, 0.0)\n",
    "    num = tm * (1 + tm)**n\n",
    "    den = (1 + tm)**n - 1\n",
    "    return np.where(capital > 0, capital * (num / den), 0.0)"
   ]
  },
  {
   "cell_type": "markdown",
   "id": "3b8a3b34",
   "metadata": {},
   "source": [
    "fonction de rendement, affichage en couleur en fonction du rendement du bien"
   ]
  },
  {
   "cell_type": "code",
   "execution_count": null,
   "id": "050a0e8d",
   "metadata": {},
   "outputs": [],
   "source": [
    "def render(change=None):\n",
    "    budget = budget_slider.value\n",
    "    apport  = apport_slider.value\n",
    "    taux    = taux_slider.value\n",
    "    duree   = duree_slider.value\n",
    "\n",
    "    dff = df[df['valeur_fonciere'] <= budget].copy()\n",
    "    if dff.empty:\n",
    "        with calc_output:\n",
    "            clear_output(wait=True)\n",
    "            print(f\"Aucun bien ≤ {budget:,.0f} €.\")\n",
    "        with map_output:\n",
    "            clear_output(wait=True)\n",
    "            print(\"Aucune donnée à afficher.\")\n",
    "        return\n",
    "\n",
    "    dff['Capital_Emprunte'] = (dff['valeur_fonciere'] - apport).clip(lower=0)\n",
    "    dff['Mensualite'] = mensualite_vect(dff['Capital_Emprunte'].values, taux, duree)\n",
    "    dff['Cashflow_Net'] = dff['Loyer_Mensuel_Estime'] - dff['Mensualite']\n",
    "\n",
    "    nb_total = len(dff)\n",
    "    nb_pos = int((dff['Cashflow_Net'] >= 0).sum())\n",
    "\n",
    "    with calc_output:\n",
    "        clear_output(wait=True)\n",
    "        print(f\"Budget projet :       {budget:,.0f} €\")\n",
    "        print(f\"Apport personnel :     {apport:,.0f} €\")\n",
    "        print(f\"Taux nominal :           {taux:.2f} %\")\n",
    "        print(f\"Durée :                  {duree} ans\")\n",
    "        print(\"—\" * 42)\n",
    "        print(f\"Biens affichés : {nb_total} | Cash-flow ≥ 0 : {nb_pos} ({nb_pos/nb_total:.0%})\")\n",
    "\n",
    "    # Palette plus expressive (Violet -> Rouge -> Orange -> Vert)\n",
    "    custom_colors = [\n",
    "        (0.00, \"#4B0082\"),  # violet profond\n",
    "        (0.25, \"#8B0000\"),  # rouge foncé\n",
    "        (0.45, \"#FF8C00\"),  # orange (juste sous 0)\n",
    "        (0.55, \"#FFFF99\"),  # jaune clair (autour de 0)\n",
    "        (0.75, \"#7FFF00\"),  # vert clair\n",
    "        (1.00, \"#006400\")   # vert foncé\n",
    "    ]\n",
    "\n",
    "    # Étendue de couleur étendue : -2000 à +2000 €/mois\n",
    "    cmin, cmax = -2000, 2000\n",
    "\n",
    "    fig = px.scatter_mapbox(\n",
    "        dff,\n",
    "        lat=\"latitude\", lon=\"longitude\",\n",
    "        size=\"surface_reelle_bati\", size_max=20,\n",
    "        color=\"Cashflow_Net\",\n",
    "        color_continuous_scale=custom_colors,\n",
    "        range_color=[cmin, cmax],\n",
    "        hover_name=\"adresse_nom_voie\",\n",
    "        center={\"lat\": dff['latitude'].mean(), \"lon\": dff['longitude'].mean()},\n",
    "        zoom=11,\n",
    "        mapbox_style=\"open-street-map\",\n",
    "        height=650,\n",
    "        title=f\"DVF + Loyers — Cash-flow net mensuel (€/mois)\"\n",
    "    )\n",
    "\n",
    "    fig.update_layout(\n",
    "        margin=dict(l=0, r=0, t=60, b=0),\n",
    "        coloraxis_colorbar=dict(\n",
    "            title=\"Cash-flow net (€/mois)\",\n",
    "            tickvals=[-2000,-1000,0,1000,2000],\n",
    "            ticktext=[\"< -2000\",\"-1000\",\"0\",\"+1000\",\"> +2000\"]\n",
    "        )\n",
    "    )\n",
    "\n",
    "    gofig = go.FigureWidget(fig)\n",
    "\n",
    "    def on_point_click(trace, points, state):\n",
    "        with click_output:\n",
    "            clear_output(wait=True)\n",
    "            if not points.point_inds:\n",
    "                return\n",
    "            i = points.point_inds[0]\n",
    "            row = dff.iloc[i]\n",
    "            print(\"—— Fiche bien ——\")\n",
    "            print(f\"Adresse : {row.get('adresse_nom_voie','N/A')}, {row.get('nom_commune','N/A')}\")\n",
    "            print(f\"Prix : {row['valeur_fonciere']:,.0f} €  |  Surface : {row['surface_reelle_bati']:,.1f} m²\")\n",
    "            print(f\"Loyer estimé : {row['Loyer_Mensuel_Estime']:,.0f} €/mois\")\n",
    "            print(f\"Mensualité : {row['Mensualite']:,.0f} €/mois\")\n",
    "            print(f\"Cash-flow net : {row['Cashflow_Net']:,.0f} €/mois\")\n",
    "\n",
    "    if len(gofig.data):\n",
    "        gofig.data[0].on_click(on_point_click)\n",
    "\n",
    "    with map_output:\n",
    "        clear_output(wait=True)\n",
    "        display(gofig)\n"
   ]
  },
  {
   "cell_type": "markdown",
   "id": "934aaba0",
   "metadata": {},
   "source": [
    "permet de relancer les fonctions quand les sliders bouge"
   ]
  },
  {
   "cell_type": "code",
   "execution_count": null,
   "id": "64602e4f",
   "metadata": {},
   "outputs": [],
   "source": [
    "# ==================== Wiring ====================\n",
    "for w in (apport_slider, budget_slider, taux_slider, duree_slider):\n",
    "    w.observe(render, names='value')"
   ]
  },
  {
   "cell_type": "markdown",
   "id": "92208954",
   "metadata": {},
   "source": [
    "affichage "
   ]
  },
  {
   "cell_type": "code",
   "execution_count": null,
   "id": "5e33eab2",
   "metadata": {},
   "outputs": [
    {
     "data": {
      "application/vnd.jupyter.widget-view+json": {
       "model_id": "5fcd4ea1ba294068b2c003232a24a165",
       "version_major": 2,
       "version_minor": 0
      },
      "text/plain": [
       "IntSlider(value=300000, description='Budget (€):', layout=Layout(width='80%'), max=1000000, step=10000, style=…"
      ]
     },
     "metadata": {},
     "output_type": "display_data"
    },
    {
     "data": {
      "application/vnd.jupyter.widget-view+json": {
       "model_id": "4bfff7685d164d1d8bbcd903891f975d",
       "version_major": 2,
       "version_minor": 0
      },
      "text/plain": [
       "IntSlider(value=50000, description='Apport (€):', layout=Layout(width='80%'), max=170000, step=5000, style=Sli…"
      ]
     },
     "metadata": {},
     "output_type": "display_data"
    },
    {
     "data": {
      "application/vnd.jupyter.widget-view+json": {
       "model_id": "7587e5aa516644f1abf20714413a5b3e",
       "version_major": 2,
       "version_minor": 0
      },
      "text/plain": [
       "FloatSlider(value=3.5, description='Taux prêt (%):', layout=Layout(width='80%'), max=15.0, style=SliderStyle(d…"
      ]
     },
     "metadata": {},
     "output_type": "display_data"
    },
    {
     "data": {
      "application/vnd.jupyter.widget-view+json": {
       "model_id": "5f1aefcb664643b699c3fb6dd425500a",
       "version_major": 2,
       "version_minor": 0
      },
      "text/plain": [
       "IntSlider(value=25, description='Durée (années):', layout=Layout(width='80%'), max=30, min=5, style=SliderStyl…"
      ]
     },
     "metadata": {},
     "output_type": "display_data"
    },
    {
     "data": {
      "application/vnd.jupyter.widget-view+json": {
       "model_id": "35fd82d8b0eb436faaac598101dc07a9",
       "version_major": 2,
       "version_minor": 0
      },
      "text/plain": [
       "Output()"
      ]
     },
     "metadata": {},
     "output_type": "display_data"
    },
    {
     "data": {
      "application/vnd.jupyter.widget-view+json": {
       "model_id": "4511e7883b2943d39eb03e2e224ef270",
       "version_major": 2,
       "version_minor": 0
      },
      "text/plain": [
       "Output()"
      ]
     },
     "metadata": {},
     "output_type": "display_data"
    },
    {
     "data": {
      "application/vnd.jupyter.widget-view+json": {
       "model_id": "368328503d0b446684d7cd7ed05b3c78",
       "version_major": 2,
       "version_minor": 0
      },
      "text/plain": [
       "Output()"
      ]
     },
     "metadata": {},
     "output_type": "display_data"
    }
   ],
   "source": [
    "display(budget_slider)\n",
    "display(apport_slider)\n",
    "display(taux_slider)\n",
    "display(duree_slider)\n",
    "display(calc_output)\n",
    "display(click_output)\n",
    "display(map_output)\n",
    "\n",
    "render()"
   ]
  }
 ],
 "metadata": {
  "language_info": {
   "name": "python"
  }
 },
 "nbformat": 4,
 "nbformat_minor": 5
}
