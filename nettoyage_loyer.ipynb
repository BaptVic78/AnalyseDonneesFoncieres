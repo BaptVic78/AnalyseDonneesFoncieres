{
 "cells": [
  {
   "cell_type": "markdown",
   "id": "6eb8ab9d",
   "metadata": {},
   "source": [
    "# Nettoyage BDD Loyer"
   ]
  },
  {
   "cell_type": "code",
   "execution_count": 11,
   "id": "3a7b3a13",
   "metadata": {},
   "outputs": [],
   "source": [
    "import pandas as pd"
   ]
  },
  {
   "cell_type": "code",
   "execution_count": 12,
   "id": "1207047e",
   "metadata": {},
   "outputs": [],
   "source": [
    "df = pd.read_csv(\"loyers.csv\", sep=';', encoding='utf-8')"
   ]
  },
  {
   "cell_type": "markdown",
   "id": "4e4a9820",
   "metadata": {},
   "source": [
    "##### On supprime les colonnes inutiles"
   ]
  },
  {
   "cell_type": "code",
   "execution_count": 13,
   "id": "1b54bda9",
   "metadata": {},
   "outputs": [],
   "source": [
    "colonnes_a_supprimer = [\"Secteurs géographiques\", \"Numéro du quartier\", \"Ville\",\"geo_shape\"]\n",
    "df = df.drop(columns=colonnes_a_supprimer, errors='ignore')"
   ]
  },
  {
   "cell_type": "markdown",
   "id": "7e158a1b",
   "metadata": {},
   "source": [
    "##### Le dataframe ne contient pas de valeurs NaN ou null, ni de doublons"
   ]
  },
  {
   "cell_type": "markdown",
   "id": "3e239b05",
   "metadata": {},
   "source": [
    "##### Nettoyage des coordonnées GPS (format \"lat, lon\")"
   ]
  },
  {
   "cell_type": "code",
   "execution_count": null,
   "id": "105ae833",
   "metadata": {},
   "outputs": [],
   "source": [
    "df[['lat', 'lon']] = df['geo_point_2d'].str.split(',', expand=True)\n",
    "df['lat'] = df['lat'].astype(float)\n",
    "df['lon'] = df['lon'].astype(float)"
   ]
  },
  {
   "cell_type": "markdown",
   "id": "ccbd91af",
   "metadata": {},
   "source": [
    "suppression de la colonne 'geo_point_2d'"
   ]
  },
  {
   "cell_type": "code",
   "execution_count": 17,
   "id": "9d24745c",
   "metadata": {},
   "outputs": [],
   "source": [
    "df = df.drop('geo_point_2d', axis=1)"
   ]
  },
  {
   "cell_type": "code",
   "execution_count": 18,
   "id": "e02ddf9c",
   "metadata": {},
   "outputs": [
    {
     "data": {
      "text/html": [
       "<div>\n",
       "<style scoped>\n",
       "    .dataframe tbody tr th:only-of-type {\n",
       "        vertical-align: middle;\n",
       "    }\n",
       "\n",
       "    .dataframe tbody tr th {\n",
       "        vertical-align: top;\n",
       "    }\n",
       "\n",
       "    .dataframe thead th {\n",
       "        text-align: right;\n",
       "    }\n",
       "</style>\n",
       "<table border=\"1\" class=\"dataframe\">\n",
       "  <thead>\n",
       "    <tr style=\"text-align: right;\">\n",
       "      <th></th>\n",
       "      <th>Année</th>\n",
       "      <th>Nom du quartier</th>\n",
       "      <th>Nombre de pièces principales</th>\n",
       "      <th>Epoque de construction</th>\n",
       "      <th>Type de location</th>\n",
       "      <th>Loyers de référence</th>\n",
       "      <th>Loyers de référence majorés</th>\n",
       "      <th>Loyers de référence minorés</th>\n",
       "      <th>Numéro INSEE du quartier</th>\n",
       "      <th>lat</th>\n",
       "      <th>lon</th>\n",
       "    </tr>\n",
       "  </thead>\n",
       "  <tbody>\n",
       "    <tr>\n",
       "      <th>0</th>\n",
       "      <td>2024</td>\n",
       "      <td>Porte-Saint-Martin</td>\n",
       "      <td>3</td>\n",
       "      <td>Apres 1990</td>\n",
       "      <td>meublé</td>\n",
       "      <td>25.5</td>\n",
       "      <td>30.6</td>\n",
       "      <td>17.9</td>\n",
       "      <td>7511039</td>\n",
       "      <td>48.871245</td>\n",
       "      <td>2.361504</td>\n",
       "    </tr>\n",
       "    <tr>\n",
       "      <th>1</th>\n",
       "      <td>2024</td>\n",
       "      <td>Bercy</td>\n",
       "      <td>1</td>\n",
       "      <td>1946-1970</td>\n",
       "      <td>meublé</td>\n",
       "      <td>28.8</td>\n",
       "      <td>34.6</td>\n",
       "      <td>20.2</td>\n",
       "      <td>7511247</td>\n",
       "      <td>48.835209</td>\n",
       "      <td>2.386210</td>\n",
       "    </tr>\n",
       "    <tr>\n",
       "      <th>2</th>\n",
       "      <td>2025</td>\n",
       "      <td>Chaussée-d'Antin</td>\n",
       "      <td>2</td>\n",
       "      <td>1946-1970</td>\n",
       "      <td>non meublé</td>\n",
       "      <td>28.5</td>\n",
       "      <td>34.2</td>\n",
       "      <td>20.0</td>\n",
       "      <td>7510934</td>\n",
       "      <td>48.873547</td>\n",
       "      <td>2.332269</td>\n",
       "    </tr>\n",
       "    <tr>\n",
       "      <th>3</th>\n",
       "      <td>2025</td>\n",
       "      <td>Notre-Dame-des-Champs</td>\n",
       "      <td>3</td>\n",
       "      <td>Apres 1990</td>\n",
       "      <td>non meublé</td>\n",
       "      <td>30.2</td>\n",
       "      <td>36.2</td>\n",
       "      <td>21.1</td>\n",
       "      <td>7510623</td>\n",
       "      <td>48.846428</td>\n",
       "      <td>2.327357</td>\n",
       "    </tr>\n",
       "    <tr>\n",
       "      <th>4</th>\n",
       "      <td>2023</td>\n",
       "      <td>Muette</td>\n",
       "      <td>4</td>\n",
       "      <td>Apres 1990</td>\n",
       "      <td>meublé</td>\n",
       "      <td>29.3</td>\n",
       "      <td>35.2</td>\n",
       "      <td>20.5</td>\n",
       "      <td>7511662</td>\n",
       "      <td>48.863275</td>\n",
       "      <td>2.259936</td>\n",
       "    </tr>\n",
       "  </tbody>\n",
       "</table>\n",
       "</div>"
      ],
      "text/plain": [
       "   Année        Nom du quartier  Nombre de pièces principales  \\\n",
       "0   2024     Porte-Saint-Martin                             3   \n",
       "1   2024                  Bercy                             1   \n",
       "2   2025       Chaussée-d'Antin                             2   \n",
       "3   2025  Notre-Dame-des-Champs                             3   \n",
       "4   2023                 Muette                             4   \n",
       "\n",
       "  Epoque de construction Type de location  Loyers de référence  \\\n",
       "0             Apres 1990           meublé                 25.5   \n",
       "1              1946-1970           meublé                 28.8   \n",
       "2              1946-1970       non meublé                 28.5   \n",
       "3             Apres 1990       non meublé                 30.2   \n",
       "4             Apres 1990           meublé                 29.3   \n",
       "\n",
       "   Loyers de référence majorés  Loyers de référence minorés  \\\n",
       "0                         30.6                         17.9   \n",
       "1                         34.6                         20.2   \n",
       "2                         34.2                         20.0   \n",
       "3                         36.2                         21.1   \n",
       "4                         35.2                         20.5   \n",
       "\n",
       "   Numéro INSEE du quartier        lat       lon  \n",
       "0                   7511039  48.871245  2.361504  \n",
       "1                   7511247  48.835209  2.386210  \n",
       "2                   7510934  48.873547  2.332269  \n",
       "3                   7510623  48.846428  2.327357  \n",
       "4                   7511662  48.863275  2.259936  "
      ]
     },
     "execution_count": 18,
     "metadata": {},
     "output_type": "execute_result"
    }
   ],
   "source": [
    "df.head()"
   ]
  },
  {
   "cell_type": "markdown",
   "id": "41918e5e",
   "metadata": {},
   "source": [
    "Création d'un CSV de notre base nettoyé"
   ]
  },
  {
   "cell_type": "code",
   "execution_count": 19,
   "id": "179d82b6",
   "metadata": {},
   "outputs": [],
   "source": [
    "\n",
    "# (Optionnel) Sauvegarde du fichier nettoyé\n",
    "df.to_csv(\"loyers_nettoye.csv\", sep=';', index=False, encoding='utf-8')"
   ]
  },
  {
   "cell_type": "markdown",
   "id": "ce1a544e",
   "metadata": {},
   "source": [
    "## Aperçu BDD"
   ]
  },
  {
   "cell_type": "code",
   "execution_count": 9,
   "id": "1cf24ddc",
   "metadata": {},
   "outputs": [
    {
     "data": {
      "text/plain": [
       "<bound method NDFrame.head of        Année        Nom du quartier  Nombre de pièces principales  \\\n",
       "0       2024     Porte-Saint-Martin                             3   \n",
       "1       2024                  Bercy                             1   \n",
       "2       2025       Chaussée-d'Antin                             2   \n",
       "3       2025  Notre-Dame-des-Champs                             3   \n",
       "4       2023                 Muette                             4   \n",
       "...      ...                    ...                           ...   \n",
       "17915   2022           Palais-Royal                             2   \n",
       "17916   2022             Notre-Dame                             1   \n",
       "17917   2022                Gaillon                             1   \n",
       "17918   2023           Montparnasse                             2   \n",
       "17919   2023            Javel 15Art                             2   \n",
       "\n",
       "      Epoque de construction Type de location  Loyers de référence  \\\n",
       "0                 Apres 1990           meublé                 25.5   \n",
       "1                  1946-1970           meublé                 28.8   \n",
       "2                  1946-1970       non meublé                 28.5   \n",
       "3                 Apres 1990       non meublé                 30.2   \n",
       "4                 Apres 1990           meublé                 29.3   \n",
       "...                      ...              ...                  ...   \n",
       "17915             Avant 1946           meublé                 32.6   \n",
       "17916             Apres 1990           meublé                 35.9   \n",
       "17917             Apres 1990       non meublé                 31.9   \n",
       "17918              1971-1990           meublé                 26.7   \n",
       "17919             Avant 1946       non meublé                 25.0   \n",
       "\n",
       "       Loyers de référence majorés  Loyers de référence minorés  \\\n",
       "0                            30.60                        17.90   \n",
       "1                            34.60                        20.20   \n",
       "2                            34.20                        20.00   \n",
       "3                            36.20                        21.10   \n",
       "4                            35.20                        20.50   \n",
       "...                            ...                          ...   \n",
       "17915                        39.12                        22.82   \n",
       "17916                        43.08                        25.13   \n",
       "17917                        38.28                        22.33   \n",
       "17918                        32.00                        18.70   \n",
       "17919                        30.00                        17.50   \n",
       "\n",
       "       Numéro INSEE du quartier                            geo_point_2d  \\\n",
       "0                       7511039   48.87124465089237, 2.3615036473450113   \n",
       "1                       7511247  48.835209049865114, 2.3862100842120184   \n",
       "2                       7510934    48.87354738020911, 2.332268868869704   \n",
       "3                       7510623    48.84642759400415, 2.327356878234607   \n",
       "4                       7511662    48.86327454383974, 2.259935831704838   \n",
       "...                         ...                                     ...   \n",
       "17915                   7510103   48.86465997810256, 2.3363089189653063   \n",
       "17916                   7510416  48.852895586218004, 2.3527750121216795   \n",
       "17917                   7510205  48.869306638088744, 2.3334318076581146   \n",
       "17918                   7511453     48.8376230959726, 2.331783822887114   \n",
       "17919                   7511560   48.83906040108164, 2.2780763469189345   \n",
       "\n",
       "             lat       lon  \n",
       "0      48.871245  2.361504  \n",
       "1      48.835209  2.386210  \n",
       "2      48.873547  2.332269  \n",
       "3      48.846428  2.327357  \n",
       "4      48.863275  2.259936  \n",
       "...          ...       ...  \n",
       "17915  48.864660  2.336309  \n",
       "17916  48.852896  2.352775  \n",
       "17917  48.869307  2.333432  \n",
       "17918  48.837623  2.331784  \n",
       "17919  48.839060  2.278076  \n",
       "\n",
       "[17920 rows x 12 columns]>"
      ]
     },
     "execution_count": 9,
     "metadata": {},
     "output_type": "execute_result"
    }
   ],
   "source": [
    "df.head"
   ]
  },
  {
   "cell_type": "code",
   "execution_count": 15,
   "id": "e192bad3",
   "metadata": {},
   "outputs": [
    {
     "name": "stdout",
     "output_type": "stream",
     "text": [
      "<class 'pandas.core.frame.DataFrame'>\n",
      "RangeIndex: 17920 entries, 0 to 17919\n",
      "Data columns (total 12 columns):\n",
      " #   Column                        Non-Null Count  Dtype  \n",
      "---  ------                        --------------  -----  \n",
      " 0   Année                         17920 non-null  int64  \n",
      " 1   Nom du quartier               17920 non-null  object \n",
      " 2   Nombre de pièces principales  17920 non-null  int64  \n",
      " 3   Epoque de construction        17920 non-null  object \n",
      " 4   Type de location              17920 non-null  object \n",
      " 5   Loyers de référence           17920 non-null  float64\n",
      " 6   Loyers de référence majorés   17920 non-null  float64\n",
      " 7   Loyers de référence minorés   17920 non-null  float64\n",
      " 8   Numéro INSEE du quartier      17920 non-null  int64  \n",
      " 9   geo_point_2d                  17920 non-null  object \n",
      " 10  lat                           17920 non-null  float64\n",
      " 11  lon                           17920 non-null  float64\n",
      "dtypes: float64(5), int64(3), object(4)\n",
      "memory usage: 1.6+ MB\n"
     ]
    }
   ],
   "source": [
    "df.info()"
   ]
  }
 ],
 "metadata": {
  "kernelspec": {
   "display_name": "base",
   "language": "python",
   "name": "python3"
  },
  "language_info": {
   "codemirror_mode": {
    "name": "ipython",
    "version": 3
   },
   "file_extension": ".py",
   "mimetype": "text/x-python",
   "name": "python",
   "nbconvert_exporter": "python",
   "pygments_lexer": "ipython3",
   "version": "3.13.5"
  }
 },
 "nbformat": 4,
 "nbformat_minor": 5
}
