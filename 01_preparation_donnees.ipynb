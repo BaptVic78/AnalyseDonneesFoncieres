{
 "cells": [
  {
   "cell_type": "markdown",
   "id": "ca0cf7fa",
   "metadata": {},
   "source": [
    "# Préparation et nettoyage des données DVF\n",
    "\n",
    "**Objectif** : préparer un jeu de données propre pour l'analyse des **locaux commerciaux / boutiques** à **Paris** (arrondissements, prix/m², année, géolocalisation).\n",
    "\n"
   ]
  },
  {
   "cell_type": "code",
   "execution_count": 30,
   "id": "b833645a",
   "metadata": {},
   "outputs": [],
   "source": [
    "import pandas as pd\n",
    "import numpy as np\n",
    "import os"
   ]
  },
  {
   "cell_type": "code",
   "execution_count": 45,
   "id": "e16e937f",
   "metadata": {},
   "outputs": [
    {
     "name": "stderr",
     "output_type": "stream",
     "text": [
      "C:\\Users\\victo\\AppData\\Local\\Temp\\ipykernel_13904\\2023539279.py:1: DtypeWarning: Columns (8,10,12,14,16,17,18,20,22,24,35,36) have mixed types. Specify dtype option on import or set low_memory=False.\n",
      "  df = pd.read_csv('dvf.csv')\n"
     ]
    }
   ],
   "source": [
    "df = pd.read_csv('dvf.csv')"
   ]
  },
  {
   "cell_type": "markdown",
   "id": "7c614cdb",
   "metadata": {},
   "source": [
    "##### on filtre les colonnes importantes"
   ]
  },
  {
   "cell_type": "code",
   "execution_count": 46,
   "id": "ade3ec0e",
   "metadata": {},
   "outputs": [],
   "source": [
    "colonnes_importantes = [\n",
    "    'date_mutation',\n",
    "    'valeur_fonciere',\n",
    "    'code_postal',\n",
    "    'type_local',\n",
    "    'surface_reelle_bati',\n",
    "    'nombre_pieces_principales',\n",
    "    'longitude',\n",
    "    'latitude',\n",
    "    'adresse_nom_voie',\n",
    "    'nom_commune'\n",
    "]\n",
    "\n",
    "df = df[colonnes_importantes]"
   ]
  },
  {
   "cell_type": "markdown",
   "id": "5a3b2564",
   "metadata": {},
   "source": [
    "##### On enlève les lignes qui contiennent des valeurs NaN"
   ]
  },
  {
   "cell_type": "code",
   "execution_count": 47,
   "id": "c5e5745c",
   "metadata": {},
   "outputs": [],
   "source": [
    "df = df.dropna(subset=['valeur_fonciere', 'surface_reelle_bati', \n",
    "                       'nombre_pieces_principales',\n",
    "                       'latitude', 'longitude'])"
   ]
  },
  {
   "cell_type": "code",
   "execution_count": 48,
   "id": "2176c7c4",
   "metadata": {},
   "outputs": [
    {
     "data": {
      "text/plain": [
       "date_mutation                 0\n",
       "valeur_fonciere               0\n",
       "code_postal                  79\n",
       "type_local                    0\n",
       "surface_reelle_bati           0\n",
       "nombre_pieces_principales     0\n",
       "longitude                     0\n",
       "latitude                      0\n",
       "adresse_nom_voie              4\n",
       "nom_commune                   0\n",
       "dtype: int64"
      ]
     },
     "execution_count": 48,
     "metadata": {},
     "output_type": "execute_result"
    }
   ],
   "source": [
    "df.isna().sum()"
   ]
  },
  {
   "cell_type": "markdown",
   "id": "a8ca16f2",
   "metadata": {},
   "source": [
    "##### On modifie le typage data en datetime"
   ]
  },
  {
   "cell_type": "code",
   "execution_count": 49,
   "id": "2d3aa08d",
   "metadata": {},
   "outputs": [],
   "source": [
    "df['date_mutation'] = pd.to_datetime(df['date_mutation'], errors='coerce')"
   ]
  },
  {
   "cell_type": "markdown",
   "id": "8156051e",
   "metadata": {},
   "source": [
    "##### On ne retient que le type : \"Local industriel. commercial ou assimilé\""
   ]
  },
  {
   "cell_type": "code",
   "execution_count": 50,
   "id": "97c96cc8",
   "metadata": {},
   "outputs": [],
   "source": [
    "type_autorise = ['Local industriel. commercial ou assimilé']\n",
    "mask_type = df['type_local'].isin(type_autorise)\n",
    "df = df[mask_type]"
   ]
  },
  {
   "cell_type": "markdown",
   "id": "b8c8efc2",
   "metadata": {},
   "source": [
    "##### Puis on retire du dataframe la colonne \"type_local\""
   ]
  },
  {
   "cell_type": "code",
   "execution_count": 51,
   "id": "ede05669",
   "metadata": {},
   "outputs": [],
   "source": [
    "df = df.drop('type_local', axis=1)"
   ]
  },
  {
   "cell_type": "markdown",
   "id": "0aad3112",
   "metadata": {},
   "source": [
    "##### On s'intéresse uniquement au département de Paris"
   ]
  },
  {
   "cell_type": "code",
   "execution_count": 52,
   "id": "0b118ae4",
   "metadata": {},
   "outputs": [],
   "source": [
    "mask_paris = df['code_postal'].astype(str).str.startswith('75')\n",
    "df = df[mask_paris]"
   ]
  },
  {
   "cell_type": "markdown",
   "id": "eb650033",
   "metadata": {},
   "source": [
    "##### Création d'une feature prix m²"
   ]
  },
  {
   "cell_type": "code",
   "execution_count": 53,
   "id": "5a3e6c8d",
   "metadata": {},
   "outputs": [],
   "source": [
    "df['prix_m2'] = df['valeur_fonciere'] / df['surface_reelle_bati']"
   ]
  },
  {
   "cell_type": "markdown",
   "id": "3487239b",
   "metadata": {},
   "source": [
    "##### On supprime les valeurs aberrantes au m²"
   ]
  },
  {
   "cell_type": "code",
   "execution_count": 54,
   "id": "cb8fa493",
   "metadata": {},
   "outputs": [],
   "source": [
    "df = df[(df['prix_m2'] > 500) & (df['prix_m2'] < 50000)]"
   ]
  },
  {
   "cell_type": "markdown",
   "id": "fe01d335",
   "metadata": {},
   "source": [
    "##### Extraction de l'arrondissement (normalisation de code_postal)"
   ]
  },
  {
   "cell_type": "code",
   "execution_count": 55,
   "id": "d25f2691",
   "metadata": {},
   "outputs": [],
   "source": [
    "df['code_postal'] = df['code_postal'].astype(int).astype(str).str.zfill(5)\n",
    "df['arrondissement'] = pd.to_numeric(df['code_postal'].str[-2:], errors='coerce')\n",
    "df.loc[~df['arrondissement'].between(1,20), 'arrondissement'] = np.nan\n",
    "df['arrondissement'] = df['arrondissement'].dropna().astype(int)"
   ]
  },
  {
   "cell_type": "markdown",
   "id": "47ea6013",
   "metadata": {},
   "source": [
    "##### on supprime la colonne code_postal (c'est toujours Paris)"
   ]
  },
  {
   "cell_type": "code",
   "execution_count": 56,
   "id": "3bd761f9",
   "metadata": {},
   "outputs": [],
   "source": [
    "df = df.drop('code_postal', axis=1)"
   ]
  },
  {
   "cell_type": "markdown",
   "id": "f81df050",
   "metadata": {},
   "source": [
    "##### Certains nom de communes ne sont pas Paris. On les supprime"
   ]
  },
  {
   "cell_type": "code",
   "execution_count": 59,
   "id": "1ee29ff1",
   "metadata": {},
   "outputs": [],
   "source": [
    "df = df[df['nom_commune'].str.startswith('Paris')]"
   ]
  },
  {
   "cell_type": "markdown",
   "id": "d84629ac",
   "metadata": {},
   "source": [
    "enregistrement du fichier csv clean"
   ]
  },
  {
   "cell_type": "code",
   "execution_count": 61,
   "id": "3f5a06de",
   "metadata": {},
   "outputs": [],
   "source": [
    "df.to_csv(\"dvf_nettoye.csv\", sep=';', index=False, encoding='utf-8')"
   ]
  },
  {
   "cell_type": "markdown",
   "id": "7693ffeb",
   "metadata": {},
   "source": [
    "# Nettoyage BDD Loyer"
   ]
  },
  {
   "cell_type": "code",
   "execution_count": null,
   "id": "72a6ec93",
   "metadata": {},
   "outputs": [],
   "source": [
    "df = pd.read_csv(\"loyers.csv\", sep=';', encoding='utf-8')"
   ]
  },
  {
   "cell_type": "markdown",
   "id": "90886a6a",
   "metadata": {},
   "source": [
    "##### On supprime les colonnes inutiles"
   ]
  },
  {
   "cell_type": "code",
   "execution_count": null,
   "id": "0aee5a01",
   "metadata": {},
   "outputs": [],
   "source": [
    "colonnes_a_supprimer = [\"Secteurs géographiques\", \"Numéro du quartier\", \"Ville\",\"geo_shape\"]\n",
    "df = df.drop(columns=colonnes_a_supprimer, errors='ignore')"
   ]
  },
  {
   "cell_type": "markdown",
   "id": "9355f62e",
   "metadata": {},
   "source": [
    "##### Le dataframe ne contient pas de valeurs NaN ou null, ni de doublons"
   ]
  },
  {
   "cell_type": "markdown",
   "id": "9a16127d",
   "metadata": {},
   "source": [
    "##### Nettoyage des coordonnées GPS (format \"lat, lon\")"
   ]
  },
  {
   "cell_type": "code",
   "execution_count": null,
   "id": "7f58b1c1",
   "metadata": {},
   "outputs": [],
   "source": [
    "df[['lat', 'lon']] = df['geo_point_2d'].str.split(',', expand=True)\n",
    "df['lat'] = df['lat'].astype(float)\n",
    "df['lon'] = df['lon'].astype(float)"
   ]
  },
  {
   "cell_type": "markdown",
   "id": "e2e3f6e6",
   "metadata": {},
   "source": [
    "suppression de la colonne 'geo_point_2d'"
   ]
  },
  {
   "cell_type": "code",
   "execution_count": null,
   "id": "ad8b572f",
   "metadata": {},
   "outputs": [],
   "source": [
    "df = df.drop('geo_point_2d', axis=1)"
   ]
  },
  {
   "cell_type": "code",
   "execution_count": null,
   "id": "07f4754d",
   "metadata": {},
   "outputs": [
    {
     "data": {
      "text/html": [
       "<div>\n",
       "<style scoped>\n",
       "    .dataframe tbody tr th:only-of-type {\n",
       "        vertical-align: middle;\n",
       "    }\n",
       "\n",
       "    .dataframe tbody tr th {\n",
       "        vertical-align: top;\n",
       "    }\n",
       "\n",
       "    .dataframe thead th {\n",
       "        text-align: right;\n",
       "    }\n",
       "</style>\n",
       "<table border=\"1\" class=\"dataframe\">\n",
       "  <thead>\n",
       "    <tr style=\"text-align: right;\">\n",
       "      <th></th>\n",
       "      <th>Année</th>\n",
       "      <th>Nom du quartier</th>\n",
       "      <th>Nombre de pièces principales</th>\n",
       "      <th>Epoque de construction</th>\n",
       "      <th>Type de location</th>\n",
       "      <th>Loyers de référence</th>\n",
       "      <th>Loyers de référence majorés</th>\n",
       "      <th>Loyers de référence minorés</th>\n",
       "      <th>Numéro INSEE du quartier</th>\n",
       "      <th>lat</th>\n",
       "      <th>lon</th>\n",
       "    </tr>\n",
       "  </thead>\n",
       "  <tbody>\n",
       "    <tr>\n",
       "      <th>0</th>\n",
       "      <td>2024</td>\n",
       "      <td>Porte-Saint-Martin</td>\n",
       "      <td>3</td>\n",
       "      <td>Apres 1990</td>\n",
       "      <td>meublé</td>\n",
       "      <td>25.5</td>\n",
       "      <td>30.6</td>\n",
       "      <td>17.9</td>\n",
       "      <td>7511039</td>\n",
       "      <td>48.871245</td>\n",
       "      <td>2.361504</td>\n",
       "    </tr>\n",
       "    <tr>\n",
       "      <th>1</th>\n",
       "      <td>2024</td>\n",
       "      <td>Bercy</td>\n",
       "      <td>1</td>\n",
       "      <td>1946-1970</td>\n",
       "      <td>meublé</td>\n",
       "      <td>28.8</td>\n",
       "      <td>34.6</td>\n",
       "      <td>20.2</td>\n",
       "      <td>7511247</td>\n",
       "      <td>48.835209</td>\n",
       "      <td>2.386210</td>\n",
       "    </tr>\n",
       "    <tr>\n",
       "      <th>2</th>\n",
       "      <td>2025</td>\n",
       "      <td>Chaussée-d'Antin</td>\n",
       "      <td>2</td>\n",
       "      <td>1946-1970</td>\n",
       "      <td>non meublé</td>\n",
       "      <td>28.5</td>\n",
       "      <td>34.2</td>\n",
       "      <td>20.0</td>\n",
       "      <td>7510934</td>\n",
       "      <td>48.873547</td>\n",
       "      <td>2.332269</td>\n",
       "    </tr>\n",
       "    <tr>\n",
       "      <th>3</th>\n",
       "      <td>2025</td>\n",
       "      <td>Notre-Dame-des-Champs</td>\n",
       "      <td>3</td>\n",
       "      <td>Apres 1990</td>\n",
       "      <td>non meublé</td>\n",
       "      <td>30.2</td>\n",
       "      <td>36.2</td>\n",
       "      <td>21.1</td>\n",
       "      <td>7510623</td>\n",
       "      <td>48.846428</td>\n",
       "      <td>2.327357</td>\n",
       "    </tr>\n",
       "    <tr>\n",
       "      <th>4</th>\n",
       "      <td>2023</td>\n",
       "      <td>Muette</td>\n",
       "      <td>4</td>\n",
       "      <td>Apres 1990</td>\n",
       "      <td>meublé</td>\n",
       "      <td>29.3</td>\n",
       "      <td>35.2</td>\n",
       "      <td>20.5</td>\n",
       "      <td>7511662</td>\n",
       "      <td>48.863275</td>\n",
       "      <td>2.259936</td>\n",
       "    </tr>\n",
       "  </tbody>\n",
       "</table>\n",
       "</div>"
      ],
      "text/plain": [
       "   Année        Nom du quartier  Nombre de pièces principales  \\\n",
       "0   2024     Porte-Saint-Martin                             3   \n",
       "1   2024                  Bercy                             1   \n",
       "2   2025       Chaussée-d'Antin                             2   \n",
       "3   2025  Notre-Dame-des-Champs                             3   \n",
       "4   2023                 Muette                             4   \n",
       "\n",
       "  Epoque de construction Type de location  Loyers de référence  \\\n",
       "0             Apres 1990           meublé                 25.5   \n",
       "1              1946-1970           meublé                 28.8   \n",
       "2              1946-1970       non meublé                 28.5   \n",
       "3             Apres 1990       non meublé                 30.2   \n",
       "4             Apres 1990           meublé                 29.3   \n",
       "\n",
       "   Loyers de référence majorés  Loyers de référence minorés  \\\n",
       "0                         30.6                         17.9   \n",
       "1                         34.6                         20.2   \n",
       "2                         34.2                         20.0   \n",
       "3                         36.2                         21.1   \n",
       "4                         35.2                         20.5   \n",
       "\n",
       "   Numéro INSEE du quartier        lat       lon  \n",
       "0                   7511039  48.871245  2.361504  \n",
       "1                   7511247  48.835209  2.386210  \n",
       "2                   7510934  48.873547  2.332269  \n",
       "3                   7510623  48.846428  2.327357  \n",
       "4                   7511662  48.863275  2.259936  "
      ]
     },
     "metadata": {},
     "output_type": "display_data"
    }
   ],
   "source": [
    "df.head()"
   ]
  },
  {
   "cell_type": "markdown",
   "id": "46bae676",
   "metadata": {},
   "source": [
    "Création d'un CSV de notre base nettoyé"
   ]
  },
  {
   "cell_type": "code",
   "execution_count": null,
   "id": "6a26aff3",
   "metadata": {},
   "outputs": [],
   "source": [
    "df.to_csv(\"loyers_nettoye.csv\", sep=';', index=False, encoding='utf-8')"
   ]
  }
 ],
 "metadata": {
  "kernelspec": {
   "display_name": "base",
   "language": "python",
   "name": "python3"
  },
  "language_info": {
   "codemirror_mode": {
    "name": "ipython",
    "version": 3
   },
   "file_extension": ".py",
   "mimetype": "text/x-python",
   "name": "python",
   "nbconvert_exporter": "python",
   "pygments_lexer": "ipython3",
   "version": "3.13.5"
  }
 },
 "nbformat": 4,
 "nbformat_minor": 5
}
