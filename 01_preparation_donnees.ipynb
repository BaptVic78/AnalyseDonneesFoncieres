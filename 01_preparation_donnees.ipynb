{
 "cells": [
  {
   "cell_type": "markdown",
   "id": "ca0cf7fa",
   "metadata": {},
   "source": [
    "# Préparation et nettoyage des données DVF\n",
    "\n",
    "**Objectif** : préparer un jeu de données propre pour l'analyse des **locaux commerciaux / boutiques** à **Paris** (arrondissements, prix/m², année, géolocalisation).\n",
    "\n"
   ]
  },
  {
   "cell_type": "markdown",
   "id": "a683b5eb",
   "metadata": {},
   "source": [
    "## Fichier à télécharger :"
   ]
  },
  {
   "cell_type": "markdown",
   "id": "ff0f140b",
   "metadata": {},
   "source": [
    "Dataset DVF (téléchargement csv.gz DVF2020-2024):\n",
    "https://www.data.gouv.fr/datasets/demandes-de-valeurs-foncieres-geolocalisees"
   ]
  },
  {
   "cell_type": "code",
   "execution_count": 1,
   "id": "b833645a",
   "metadata": {},
   "outputs": [],
   "source": [
    "import pandas as pd\n",
    "import numpy as np\n",
    "import os"
   ]
  },
  {
   "cell_type": "markdown",
   "id": "5548fb41",
   "metadata": {},
   "source": [
    "#### Lecture du fichier dvf.csv\n",
    "\n",
    "On définit en premier lieu les **colonnes utiles** qui vont nous servir pour l'extraction et le nettoyage des données, dans le but d'**optimiser la lecture du fichier csv** qui est assez lourd (*+3Go*). Toujours dans le même objectif, la lecture se fait par **chunk** de 100000 lignes. Durant le processus, on réalise :\n",
    "- La suppression des valeurs NaN\n",
    "- La modification du type de la colonne 'date_mutation' en datetime\n",
    "- La reduction des données au type \"Local industriel, commercial ou assimilé\"\n",
    "- La filtration pour conserver uniquement les biens sur Paris"
   ]
  },
  {
   "cell_type": "code",
   "execution_count": 2,
   "id": "e16e937f",
   "metadata": {},
   "outputs": [],
   "source": [
    "# Define columns to read upfront\n",
    "colonnes_a_lire = [\n",
    "    'date_mutation',\n",
    "    'valeur_fonciere',\n",
    "    'code_postal',\n",
    "    'type_local',\n",
    "    'surface_reelle_bati',\n",
    "    'nombre_pieces_principales',\n",
    "    'longitude',\n",
    "    'latitude',\n",
    "    'adresse_nom_voie',\n",
    "    'nom_commune'\n",
    "]\n",
    "\n",
    "# Process CSV in chunks\n",
    "chunk_size = 100000\n",
    "filtered_chunks = []\n",
    "\n",
    "for i, chunk in enumerate(pd.read_csv('dvf.csv', \n",
    "                                       usecols=colonnes_a_lire,\n",
    "                                       chunksize=chunk_size,\n",
    "                                       low_memory=False)):\n",
    "    \n",
    "    # Drop NaN values and create explicit copy\n",
    "    chunk = chunk.dropna(subset=['valeur_fonciere', 'surface_reelle_bati', \n",
    "                                  'nombre_pieces_principales',\n",
    "                                  'latitude', 'longitude']).copy()\n",
    "    \n",
    "    # Convert date\n",
    "    chunk['date_mutation'] = pd.to_datetime(chunk['date_mutation'], errors='coerce')\n",
    "    \n",
    "    # Filter by type_local\n",
    "    chunk = chunk[chunk['type_local'] == 'Local industriel. commercial ou assimilé'].copy()\n",
    "    \n",
    "    # Filter Paris postal codes\n",
    "    chunk = chunk[chunk['code_postal'].astype(str).str.startswith('75')].copy()\n",
    "    \n",
    "    if len(chunk) > 0:\n",
    "        filtered_chunks.append(chunk)\n",
    "\n",
    "# Combine all filtered chunks\n",
    "df = pd.concat(filtered_chunks, ignore_index=True)"
   ]
  },
  {
   "cell_type": "markdown",
   "id": "5a3b2564",
   "metadata": {},
   "source": [
    "##### On vérifie si les colonnes restantes contiennent des valeurs NaN"
   ]
  },
  {
   "cell_type": "code",
   "execution_count": 3,
   "id": "2176c7c4",
   "metadata": {},
   "outputs": [
    {
     "data": {
      "text/plain": [
       "date_mutation                0\n",
       "valeur_fonciere              0\n",
       "adresse_nom_voie             0\n",
       "code_postal                  0\n",
       "nom_commune                  0\n",
       "type_local                   0\n",
       "surface_reelle_bati          0\n",
       "nombre_pieces_principales    0\n",
       "longitude                    0\n",
       "latitude                     0\n",
       "dtype: int64"
      ]
     },
     "execution_count": 3,
     "metadata": {},
     "output_type": "execute_result"
    }
   ],
   "source": [
    "df.isna().sum()"
   ]
  },
  {
   "cell_type": "markdown",
   "id": "b8c8efc2",
   "metadata": {},
   "source": [
    "##### Puis on retire du dataframe la colonne \"type_local\""
   ]
  },
  {
   "cell_type": "code",
   "execution_count": 4,
   "id": "ede05669",
   "metadata": {},
   "outputs": [],
   "source": [
    "df = df.drop('type_local', axis=1)"
   ]
  },
  {
   "cell_type": "markdown",
   "id": "eb650033",
   "metadata": {},
   "source": [
    "##### Création d'une feature prix m²"
   ]
  },
  {
   "cell_type": "code",
   "execution_count": 5,
   "id": "5a3e6c8d",
   "metadata": {},
   "outputs": [],
   "source": [
    "df['prix_m2'] = df['valeur_fonciere'] / df['surface_reelle_bati']"
   ]
  },
  {
   "cell_type": "markdown",
   "id": "3487239b",
   "metadata": {},
   "source": [
    "##### On supprime les valeurs aberrantes au m²"
   ]
  },
  {
   "cell_type": "code",
   "execution_count": 6,
   "id": "cb8fa493",
   "metadata": {},
   "outputs": [],
   "source": [
    "df = df[(df['prix_m2'] > 500) & (df['prix_m2'] < 50000)]"
   ]
  },
  {
   "cell_type": "markdown",
   "id": "fe01d335",
   "metadata": {},
   "source": [
    "##### Extraction de l'arrondissement (normalisation de code_postal)"
   ]
  },
  {
   "cell_type": "code",
   "execution_count": 7,
   "id": "d25f2691",
   "metadata": {},
   "outputs": [],
   "source": [
    "df['code_postal'] = df['code_postal'].astype(int).astype(str).str.zfill(5)\n",
    "df['arrondissement'] = pd.to_numeric(df['code_postal'].str[-2:], errors='coerce')\n",
    "df.loc[~df['arrondissement'].between(1,20), 'arrondissement'] = np.nan\n",
    "df['arrondissement'] = df['arrondissement'].dropna().astype(int)"
   ]
  },
  {
   "cell_type": "markdown",
   "id": "47ea6013",
   "metadata": {},
   "source": [
    "##### On supprime la colonne code_postal (c'est toujours Paris)"
   ]
  },
  {
   "cell_type": "code",
   "execution_count": 8,
   "id": "3bd761f9",
   "metadata": {},
   "outputs": [],
   "source": [
    "df = df.drop('code_postal', axis=1)"
   ]
  },
  {
   "cell_type": "markdown",
   "id": "f81df050",
   "metadata": {},
   "source": [
    "##### Certains noms de communes ne sont pas Paris, il faut donc les supprimer"
   ]
  },
  {
   "cell_type": "code",
   "execution_count": 9,
   "id": "1ee29ff1",
   "metadata": {},
   "outputs": [
    {
     "data": {
      "text/plain": [
       "(17586, 10)"
      ]
     },
     "execution_count": 9,
     "metadata": {},
     "output_type": "execute_result"
    }
   ],
   "source": [
    "df = df[df['nom_commune'].str.startswith('Paris')]\n",
    "df.shape"
   ]
  },
  {
   "cell_type": "markdown",
   "id": "7693ffeb",
   "metadata": {},
   "source": [
    "# Nettoyage BDD Loyer"
   ]
  },
  {
   "cell_type": "code",
   "execution_count": 10,
   "id": "72a6ec93",
   "metadata": {},
   "outputs": [],
   "source": [
    "loyer_df = pd.read_csv(\"loyers.csv\", sep=';', encoding='utf-8')"
   ]
  },
  {
   "cell_type": "markdown",
   "id": "90886a6a",
   "metadata": {},
   "source": [
    "##### On supprime les colonnes inutiles"
   ]
  },
  {
   "cell_type": "code",
   "execution_count": 11,
   "id": "0aee5a01",
   "metadata": {},
   "outputs": [],
   "source": [
    "colonnes_a_supprimer = [\"Secteurs géographiques\", \"Numéro du quartier\", \"Ville\",\"geo_shape\"]\n",
    "loyer_df = loyer_df.drop(columns=colonnes_a_supprimer, errors='ignore')"
   ]
  },
  {
   "cell_type": "markdown",
   "id": "9355f62e",
   "metadata": {},
   "source": [
    "##### Le dataframe ne contient pas de valeurs NaN ou null, ni de doublons"
   ]
  },
  {
   "cell_type": "markdown",
   "id": "9a16127d",
   "metadata": {},
   "source": [
    "##### Nettoyage des coordonnées GPS (format \"lat, lon\")"
   ]
  },
  {
   "cell_type": "code",
   "execution_count": 12,
   "id": "7f58b1c1",
   "metadata": {},
   "outputs": [],
   "source": [
    "loyer_df[['lat', 'lon']] = loyer_df['geo_point_2d'].str.split(',', expand=True)\n",
    "loyer_df['lat'] = loyer_df['lat'].astype(float)\n",
    "loyer_df['lon'] = loyer_df['lon'].astype(float)"
   ]
  },
  {
   "cell_type": "markdown",
   "id": "e2e3f6e6",
   "metadata": {},
   "source": [
    "##### Suppression de la colonne 'geo_point_2d'"
   ]
  },
  {
   "cell_type": "code",
   "execution_count": 13,
   "id": "ad8b572f",
   "metadata": {},
   "outputs": [],
   "source": [
    "loyer_df = loyer_df.drop('geo_point_2d', axis=1)"
   ]
  },
  {
   "cell_type": "code",
   "execution_count": 14,
   "id": "07f4754d",
   "metadata": {},
   "outputs": [
    {
     "data": {
      "text/html": [
       "<div>\n",
       "<style scoped>\n",
       "    .dataframe tbody tr th:only-of-type {\n",
       "        vertical-align: middle;\n",
       "    }\n",
       "\n",
       "    .dataframe tbody tr th {\n",
       "        vertical-align: top;\n",
       "    }\n",
       "\n",
       "    .dataframe thead th {\n",
       "        text-align: right;\n",
       "    }\n",
       "</style>\n",
       "<table border=\"1\" class=\"dataframe\">\n",
       "  <thead>\n",
       "    <tr style=\"text-align: right;\">\n",
       "      <th></th>\n",
       "      <th>date_mutation</th>\n",
       "      <th>valeur_fonciere</th>\n",
       "      <th>adresse_nom_voie</th>\n",
       "      <th>nom_commune</th>\n",
       "      <th>surface_reelle_bati</th>\n",
       "      <th>nombre_pieces_principales</th>\n",
       "      <th>longitude</th>\n",
       "      <th>latitude</th>\n",
       "      <th>prix_m2</th>\n",
       "      <th>arrondissement</th>\n",
       "    </tr>\n",
       "  </thead>\n",
       "  <tbody>\n",
       "    <tr>\n",
       "      <th>26</th>\n",
       "      <td>2020-01-06</td>\n",
       "      <td>878378.0</td>\n",
       "      <td>BD DE LA MADELEINE</td>\n",
       "      <td>Paris 1er Arrondissement</td>\n",
       "      <td>43.0</td>\n",
       "      <td>0.0</td>\n",
       "      <td>2.326882</td>\n",
       "      <td>48.869331</td>\n",
       "      <td>20427.395349</td>\n",
       "      <td>1.0</td>\n",
       "    </tr>\n",
       "    <tr>\n",
       "      <th>27</th>\n",
       "      <td>2020-01-13</td>\n",
       "      <td>475000.0</td>\n",
       "      <td>RUE DE WASHINGTON</td>\n",
       "      <td>Paris 8e Arrondissement</td>\n",
       "      <td>50.0</td>\n",
       "      <td>0.0</td>\n",
       "      <td>2.301658</td>\n",
       "      <td>48.872630</td>\n",
       "      <td>9500.000000</td>\n",
       "      <td>8.0</td>\n",
       "    </tr>\n",
       "    <tr>\n",
       "      <th>28</th>\n",
       "      <td>2020-01-03</td>\n",
       "      <td>800000.0</td>\n",
       "      <td>BD DE SEBASTOPOL</td>\n",
       "      <td>Paris 3e Arrondissement</td>\n",
       "      <td>125.0</td>\n",
       "      <td>0.0</td>\n",
       "      <td>2.351054</td>\n",
       "      <td>48.863055</td>\n",
       "      <td>6400.000000</td>\n",
       "      <td>3.0</td>\n",
       "    </tr>\n",
       "    <tr>\n",
       "      <th>29</th>\n",
       "      <td>2020-01-06</td>\n",
       "      <td>710000.0</td>\n",
       "      <td>RUE SAINT HONORE</td>\n",
       "      <td>Paris 1er Arrondissement</td>\n",
       "      <td>30.0</td>\n",
       "      <td>0.0</td>\n",
       "      <td>2.326348</td>\n",
       "      <td>48.866939</td>\n",
       "      <td>23666.666667</td>\n",
       "      <td>1.0</td>\n",
       "    </tr>\n",
       "    <tr>\n",
       "      <th>31</th>\n",
       "      <td>2020-01-09</td>\n",
       "      <td>17400000.0</td>\n",
       "      <td>RUE DU FAUBOURG SAINT HONORE</td>\n",
       "      <td>Paris 8e Arrondissement</td>\n",
       "      <td>387.0</td>\n",
       "      <td>0.0</td>\n",
       "      <td>2.309755</td>\n",
       "      <td>48.873496</td>\n",
       "      <td>44961.240310</td>\n",
       "      <td>8.0</td>\n",
       "    </tr>\n",
       "  </tbody>\n",
       "</table>\n",
       "</div>"
      ],
      "text/plain": [
       "   date_mutation  valeur_fonciere              adresse_nom_voie  \\\n",
       "26    2020-01-06         878378.0            BD DE LA MADELEINE   \n",
       "27    2020-01-13         475000.0             RUE DE WASHINGTON   \n",
       "28    2020-01-03         800000.0              BD DE SEBASTOPOL   \n",
       "29    2020-01-06         710000.0              RUE SAINT HONORE   \n",
       "31    2020-01-09       17400000.0  RUE DU FAUBOURG SAINT HONORE   \n",
       "\n",
       "                 nom_commune  surface_reelle_bati  nombre_pieces_principales  \\\n",
       "26  Paris 1er Arrondissement                 43.0                        0.0   \n",
       "27   Paris 8e Arrondissement                 50.0                        0.0   \n",
       "28   Paris 3e Arrondissement                125.0                        0.0   \n",
       "29  Paris 1er Arrondissement                 30.0                        0.0   \n",
       "31   Paris 8e Arrondissement                387.0                        0.0   \n",
       "\n",
       "    longitude   latitude       prix_m2  arrondissement  \n",
       "26   2.326882  48.869331  20427.395349             1.0  \n",
       "27   2.301658  48.872630   9500.000000             8.0  \n",
       "28   2.351054  48.863055   6400.000000             3.0  \n",
       "29   2.326348  48.866939  23666.666667             1.0  \n",
       "31   2.309755  48.873496  44961.240310             8.0  "
      ]
     },
     "execution_count": 14,
     "metadata": {},
     "output_type": "execute_result"
    }
   ],
   "source": [
    "df.head()"
   ]
  },
  {
   "cell_type": "markdown",
   "id": "02c443ce",
   "metadata": {},
   "source": [
    "# Jointure du dataframe des deux dataframes"
   ]
  },
  {
   "cell_type": "code",
   "execution_count": 15,
   "id": "27bd41dd",
   "metadata": {},
   "outputs": [],
   "source": [
    "from scipy.spatial import cKDTree"
   ]
  },
  {
   "cell_type": "code",
   "execution_count": 16,
   "id": "14155fa9",
   "metadata": {},
   "outputs": [],
   "source": [
    "coords_quartiers = loyer_df[['lat', 'lon']].values\n",
    "tree = cKDTree(coords_quartiers)"
   ]
  },
  {
   "cell_type": "code",
   "execution_count": 17,
   "id": "358a0be0",
   "metadata": {},
   "outputs": [],
   "source": [
    "coords_dvf = df[['latitude', 'longitude']].values"
   ]
  },
  {
   "cell_type": "code",
   "execution_count": 18,
   "id": "d96cb02d",
   "metadata": {},
   "outputs": [],
   "source": [
    "distances, indices = tree.query(coords_dvf)"
   ]
  },
  {
   "cell_type": "markdown",
   "id": "6797c496",
   "metadata": {},
   "source": [
    "#### Ajouter les colonnes au DataFrame DVF"
   ]
  },
  {
   "cell_type": "code",
   "execution_count": 19,
   "id": "e073df24",
   "metadata": {},
   "outputs": [],
   "source": [
    "df['quartier'] = loyer_df.iloc[indices]['Nom du quartier'].values\n",
    "df['numero_insee_quartier'] = loyer_df.iloc[indices]['Numéro INSEE du quartier'].values\n",
    "df['loyer_ref_m2'] = loyer_df.iloc[indices]['Loyers de référence'].values\n",
    "df['loyer_majore_m2'] = loyer_df.iloc[indices]['Loyers de référence majorés'].values\n",
    "df['loyer_minore_m2'] = loyer_df.iloc[indices]['Loyers de référence minorés'].values\n",
    "df['distance_quartier_m'] = distances * 111000  # Conversion approximative en mètres"
   ]
  },
  {
   "cell_type": "markdown",
   "id": "160885de",
   "metadata": {},
   "source": [
    "#### Checking s'il y a pas des lignes ou le quartier est loin de la réalité"
   ]
  },
  {
   "cell_type": "code",
   "execution_count": 20,
   "id": "eb9f868f",
   "metadata": {},
   "outputs": [],
   "source": [
    "df = df[df['distance_quartier_m'] <= 1000]"
   ]
  },
  {
   "cell_type": "code",
   "execution_count": 21,
   "id": "ac7ce757",
   "metadata": {},
   "outputs": [
    {
     "data": {
      "text/html": [
       "<div>\n",
       "<style scoped>\n",
       "    .dataframe tbody tr th:only-of-type {\n",
       "        vertical-align: middle;\n",
       "    }\n",
       "\n",
       "    .dataframe tbody tr th {\n",
       "        vertical-align: top;\n",
       "    }\n",
       "\n",
       "    .dataframe thead th {\n",
       "        text-align: right;\n",
       "    }\n",
       "</style>\n",
       "<table border=\"1\" class=\"dataframe\">\n",
       "  <thead>\n",
       "    <tr style=\"text-align: right;\">\n",
       "      <th></th>\n",
       "      <th>date_mutation</th>\n",
       "      <th>valeur_fonciere</th>\n",
       "      <th>adresse_nom_voie</th>\n",
       "      <th>nom_commune</th>\n",
       "      <th>surface_reelle_bati</th>\n",
       "      <th>nombre_pieces_principales</th>\n",
       "      <th>longitude</th>\n",
       "      <th>latitude</th>\n",
       "      <th>prix_m2</th>\n",
       "      <th>arrondissement</th>\n",
       "      <th>quartier</th>\n",
       "      <th>numero_insee_quartier</th>\n",
       "      <th>loyer_ref_m2</th>\n",
       "      <th>loyer_majore_m2</th>\n",
       "      <th>loyer_minore_m2</th>\n",
       "      <th>distance_quartier_m</th>\n",
       "    </tr>\n",
       "  </thead>\n",
       "  <tbody>\n",
       "    <tr>\n",
       "      <th>26</th>\n",
       "      <td>2020-01-06</td>\n",
       "      <td>878378.0</td>\n",
       "      <td>BD DE LA MADELEINE</td>\n",
       "      <td>Paris 1er Arrondissement</td>\n",
       "      <td>43.0</td>\n",
       "      <td>0.0</td>\n",
       "      <td>2.326882</td>\n",
       "      <td>48.869331</td>\n",
       "      <td>20427.395349</td>\n",
       "      <td>1.0</td>\n",
       "      <td>Place-Vendôme</td>\n",
       "      <td>7510104</td>\n",
       "      <td>29.3</td>\n",
       "      <td>35.16</td>\n",
       "      <td>20.51</td>\n",
       "      <td>318.554490</td>\n",
       "    </tr>\n",
       "    <tr>\n",
       "      <th>27</th>\n",
       "      <td>2020-01-13</td>\n",
       "      <td>475000.0</td>\n",
       "      <td>RUE DE WASHINGTON</td>\n",
       "      <td>Paris 8e Arrondissement</td>\n",
       "      <td>50.0</td>\n",
       "      <td>0.0</td>\n",
       "      <td>2.301658</td>\n",
       "      <td>48.872630</td>\n",
       "      <td>9500.000000</td>\n",
       "      <td>8.0</td>\n",
       "      <td>Faubourg-du-Roule</td>\n",
       "      <td>7510830</td>\n",
       "      <td>22.8</td>\n",
       "      <td>27.40</td>\n",
       "      <td>16.00</td>\n",
       "      <td>320.218020</td>\n",
       "    </tr>\n",
       "    <tr>\n",
       "      <th>28</th>\n",
       "      <td>2020-01-03</td>\n",
       "      <td>800000.0</td>\n",
       "      <td>BD DE SEBASTOPOL</td>\n",
       "      <td>Paris 3e Arrondissement</td>\n",
       "      <td>125.0</td>\n",
       "      <td>0.0</td>\n",
       "      <td>2.351054</td>\n",
       "      <td>48.863055</td>\n",
       "      <td>6400.000000</td>\n",
       "      <td>3.0</td>\n",
       "      <td>Sainte-Avoie</td>\n",
       "      <td>7510312</td>\n",
       "      <td>31.8</td>\n",
       "      <td>38.16</td>\n",
       "      <td>22.26</td>\n",
       "      <td>425.130070</td>\n",
       "    </tr>\n",
       "    <tr>\n",
       "      <th>29</th>\n",
       "      <td>2020-01-06</td>\n",
       "      <td>710000.0</td>\n",
       "      <td>RUE SAINT HONORE</td>\n",
       "      <td>Paris 1er Arrondissement</td>\n",
       "      <td>30.0</td>\n",
       "      <td>0.0</td>\n",
       "      <td>2.326348</td>\n",
       "      <td>48.866939</td>\n",
       "      <td>23666.666667</td>\n",
       "      <td>1.0</td>\n",
       "      <td>Place-Vendôme</td>\n",
       "      <td>7510104</td>\n",
       "      <td>29.3</td>\n",
       "      <td>35.16</td>\n",
       "      <td>20.51</td>\n",
       "      <td>248.094155</td>\n",
       "    </tr>\n",
       "    <tr>\n",
       "      <th>31</th>\n",
       "      <td>2020-01-09</td>\n",
       "      <td>17400000.0</td>\n",
       "      <td>RUE DU FAUBOURG SAINT HONORE</td>\n",
       "      <td>Paris 8e Arrondissement</td>\n",
       "      <td>387.0</td>\n",
       "      <td>0.0</td>\n",
       "      <td>2.309755</td>\n",
       "      <td>48.873496</td>\n",
       "      <td>44961.240310</td>\n",
       "      <td>8.0</td>\n",
       "      <td>Faubourg-du-Roule</td>\n",
       "      <td>7510830</td>\n",
       "      <td>22.8</td>\n",
       "      <td>27.40</td>\n",
       "      <td>16.00</td>\n",
       "      <td>629.632252</td>\n",
       "    </tr>\n",
       "  </tbody>\n",
       "</table>\n",
       "</div>"
      ],
      "text/plain": [
       "   date_mutation  valeur_fonciere              adresse_nom_voie  \\\n",
       "26    2020-01-06         878378.0            BD DE LA MADELEINE   \n",
       "27    2020-01-13         475000.0             RUE DE WASHINGTON   \n",
       "28    2020-01-03         800000.0              BD DE SEBASTOPOL   \n",
       "29    2020-01-06         710000.0              RUE SAINT HONORE   \n",
       "31    2020-01-09       17400000.0  RUE DU FAUBOURG SAINT HONORE   \n",
       "\n",
       "                 nom_commune  surface_reelle_bati  nombre_pieces_principales  \\\n",
       "26  Paris 1er Arrondissement                 43.0                        0.0   \n",
       "27   Paris 8e Arrondissement                 50.0                        0.0   \n",
       "28   Paris 3e Arrondissement                125.0                        0.0   \n",
       "29  Paris 1er Arrondissement                 30.0                        0.0   \n",
       "31   Paris 8e Arrondissement                387.0                        0.0   \n",
       "\n",
       "    longitude   latitude       prix_m2  arrondissement           quartier  \\\n",
       "26   2.326882  48.869331  20427.395349             1.0      Place-Vendôme   \n",
       "27   2.301658  48.872630   9500.000000             8.0  Faubourg-du-Roule   \n",
       "28   2.351054  48.863055   6400.000000             3.0       Sainte-Avoie   \n",
       "29   2.326348  48.866939  23666.666667             1.0      Place-Vendôme   \n",
       "31   2.309755  48.873496  44961.240310             8.0  Faubourg-du-Roule   \n",
       "\n",
       "    numero_insee_quartier  loyer_ref_m2  loyer_majore_m2  loyer_minore_m2  \\\n",
       "26                7510104          29.3            35.16            20.51   \n",
       "27                7510830          22.8            27.40            16.00   \n",
       "28                7510312          31.8            38.16            22.26   \n",
       "29                7510104          29.3            35.16            20.51   \n",
       "31                7510830          22.8            27.40            16.00   \n",
       "\n",
       "    distance_quartier_m  \n",
       "26           318.554490  \n",
       "27           320.218020  \n",
       "28           425.130070  \n",
       "29           248.094155  \n",
       "31           629.632252  "
      ]
     },
     "execution_count": 21,
     "metadata": {},
     "output_type": "execute_result"
    }
   ],
   "source": [
    "df.head()"
   ]
  },
  {
   "cell_type": "code",
   "execution_count": 22,
   "id": "33c4e2c9",
   "metadata": {},
   "outputs": [
    {
     "data": {
      "text/plain": [
       "0.0    16486\n",
       "Name: nombre_pieces_principales, dtype: int64"
      ]
     },
     "execution_count": 22,
     "metadata": {},
     "output_type": "execute_result"
    }
   ],
   "source": [
    "df['nombre_pieces_principales'].value_counts()"
   ]
  },
  {
   "cell_type": "markdown",
   "id": "273964eb",
   "metadata": {},
   "source": [
    "#### Création du fichier final dvf_loyers.csv"
   ]
  },
  {
   "cell_type": "code",
   "execution_count": 23,
   "id": "6efefa71",
   "metadata": {},
   "outputs": [
    {
     "data": {
      "text/plain": [
       "(16486, 16)"
      ]
     },
     "execution_count": 23,
     "metadata": {},
     "output_type": "execute_result"
    }
   ],
   "source": [
    "df.to_csv(\"dvf_loyers.csv\", sep=\";\", encoding=\"utf-8\", index=False)\n",
    "df.shape"
   ]
  },
  {
   "cell_type": "markdown",
   "id": "89bb6c84",
   "metadata": {},
   "source": [
    "### Ouverture et préparation du fichier Commerces"
   ]
  },
  {
   "cell_type": "code",
   "execution_count": 31,
   "id": "ae39ad14",
   "metadata": {},
   "outputs": [
    {
     "name": "stdout",
     "output_type": "stream",
     "text": [
      "✅ Données nettoyées : (55890, 3)\n",
      "       longitude   latitude categorie_commerce\n",
      "46133   2.419019  48.846524           optician\n",
      "46350   2.400633  48.885848         restaurant\n",
      "46362   2.414612  48.879459            clothes\n",
      "46509   2.393475  48.815530             bakery\n",
      "46821   2.373102  48.817713         restaurant\n"
     ]
    }
   ],
   "source": [
    "import pandas as pd\n",
    "\n",
    "# 1️⃣ Chargement du fichier des commerces\n",
    "# (adapter le chemin selon ton environnement)\n",
    "commerce = pd.read_csv(\"commerce.csv\", sep=';', encoding_errors='replace')\n",
    "\n",
    "# 2️⃣ Sélection des colonnes utiles\n",
    "commerce = commerce[['X', 'Y', 'type']].copy()\n",
    "\n",
    "# 3️⃣ Renommage clair des colonnes\n",
    "commerce.rename(columns={'X': 'longitude', 'Y': 'latitude', 'type': 'categorie_commerce'}, inplace=True)\n",
    "\n",
    "# 4️⃣ Nettoyage des données\n",
    "# Suppression des lignes avec valeurs manquantes\n",
    "commerce = commerce.dropna(subset=['longitude', 'latitude', 'categorie_commerce'])\n",
    "\n",
    "# Suppression des doublons (même point + même catégorie)\n",
    "commerce = commerce.drop_duplicates(subset=['longitude', 'latitude', 'categorie_commerce'])\n",
    "\n",
    "# Filtrage des coordonnées aberrantes\n",
    "# À Paris : latitude entre 48.80 et 48.90, longitude entre 2.25 et 2.42\n",
    "commerce = commerce[\n",
    "    (commerce['latitude'].between(48.80, 48.90)) &\n",
    "    (commerce['longitude'].between(2.25, 2.42))\n",
    "]\n",
    "\n",
    "# Suppression des types génériques ou vides\n",
    "commerce = commerce[commerce['categorie_commerce'].str.strip() != '']\n",
    "\n",
    "# (Optionnel) Nettoyage des majuscules / minuscules\n",
    "commerce['categorie_commerce'] = commerce['categorie_commerce'].str.strip().str.lower()\n",
    "\n",
    "# 5️⃣ Aperçu final\n",
    "print(\"✅ Données nettoyées :\", commerce.shape)\n",
    "print(commerce.head())\n",
    "\n",
    "\n"
   ]
  },
  {
   "cell_type": "markdown",
   "id": "c857b336",
   "metadata": {},
   "source": [
    "### Création du CSV commerce_nettoye"
   ]
  },
  {
   "cell_type": "code",
   "execution_count": 32,
   "id": "523c9c53",
   "metadata": {},
   "outputs": [],
   "source": [
    "commerce.to_csv(\"commerce_nettoye.csv\", sep=\";\", encoding=\"utf-8\", index=False)"
   ]
  }
 ],
 "metadata": {
  "kernelspec": {
   "display_name": "base",
   "language": "python",
   "name": "python3"
  },
  "language_info": {
   "codemirror_mode": {
    "name": "ipython",
    "version": 3
   },
   "file_extension": ".py",
   "mimetype": "text/x-python",
   "name": "python",
   "nbconvert_exporter": "python",
   "pygments_lexer": "ipython3",
   "version": "3.9.13"
  }
 },
 "nbformat": 4,
 "nbformat_minor": 5
}
