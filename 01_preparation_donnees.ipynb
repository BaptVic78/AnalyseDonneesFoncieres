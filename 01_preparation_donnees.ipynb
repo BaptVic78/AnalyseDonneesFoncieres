{
 "cells": [
  {
   "cell_type": "markdown",
   "id": "ca0cf7fa",
   "metadata": {},
   "source": [
    "# Préparation et nettoyage des données DVF\n",
    "\n",
    "**Objectif** : préparer un jeu de données propre pour l'analyse des **locaux commerciaux / boutiques** à **Paris** (arrondissements, prix/m², année, géolocalisation).\n",
    "\n"
   ]
  },
  {
   "cell_type": "code",
   "execution_count": 62,
   "id": "b833645a",
   "metadata": {},
   "outputs": [],
   "source": [
    "import pandas as pd\n",
    "import numpy as np\n",
    "import os"
   ]
  },
  {
   "cell_type": "code",
   "execution_count": 63,
   "id": "e16e937f",
   "metadata": {},
   "outputs": [
    {
     "name": "stderr",
     "output_type": "stream",
     "text": [
      "C:\\Users\\victo\\AppData\\Local\\Temp\\ipykernel_13904\\2023539279.py:1: DtypeWarning: Columns (8,10,12,14,16,17,18,20,22,24,35,36) have mixed types. Specify dtype option on import or set low_memory=False.\n",
      "  df = pd.read_csv('dvf.csv')\n"
     ]
    }
   ],
   "source": [
    "df = pd.read_csv('dvf.csv')"
   ]
  },
  {
   "cell_type": "markdown",
   "id": "7c614cdb",
   "metadata": {},
   "source": [
    "##### on filtre les colonnes importantes"
   ]
  },
  {
   "cell_type": "code",
   "execution_count": 64,
   "id": "ade3ec0e",
   "metadata": {},
   "outputs": [],
   "source": [
    "colonnes_importantes = [\n",
    "    'date_mutation',\n",
    "    'valeur_fonciere',\n",
    "    'code_postal',\n",
    "    'type_local',\n",
    "    'surface_reelle_bati',\n",
    "    'nombre_pieces_principales',\n",
    "    'longitude',\n",
    "    'latitude',\n",
    "    'adresse_nom_voie',\n",
    "    'nom_commune'\n",
    "]\n",
    "\n",
    "df = df[colonnes_importantes]"
   ]
  },
  {
   "cell_type": "markdown",
   "id": "5a3b2564",
   "metadata": {},
   "source": [
    "##### On enlève les lignes qui contiennent des valeurs NaN"
   ]
  },
  {
   "cell_type": "code",
   "execution_count": 65,
   "id": "c5e5745c",
   "metadata": {},
   "outputs": [],
   "source": [
    "df = df.dropna(subset=['valeur_fonciere', 'surface_reelle_bati', \n",
    "                       'nombre_pieces_principales',\n",
    "                       'latitude', 'longitude'])"
   ]
  },
  {
   "cell_type": "code",
   "execution_count": 66,
   "id": "2176c7c4",
   "metadata": {},
   "outputs": [
    {
     "data": {
      "text/plain": [
       "date_mutation                 0\n",
       "valeur_fonciere               0\n",
       "code_postal                  79\n",
       "type_local                    0\n",
       "surface_reelle_bati           0\n",
       "nombre_pieces_principales     0\n",
       "longitude                     0\n",
       "latitude                      0\n",
       "adresse_nom_voie              4\n",
       "nom_commune                   0\n",
       "dtype: int64"
      ]
     },
     "execution_count": 66,
     "metadata": {},
     "output_type": "execute_result"
    }
   ],
   "source": [
    "df.isna().sum()"
   ]
  },
  {
   "cell_type": "markdown",
   "id": "a8ca16f2",
   "metadata": {},
   "source": [
    "##### On modifie le typage data en datetime"
   ]
  },
  {
   "cell_type": "code",
   "execution_count": 67,
   "id": "2d3aa08d",
   "metadata": {},
   "outputs": [],
   "source": [
    "df['date_mutation'] = pd.to_datetime(df['date_mutation'], errors='coerce')"
   ]
  },
  {
   "cell_type": "markdown",
   "id": "8156051e",
   "metadata": {},
   "source": [
    "##### On ne retient que le type : \"Local industriel. commercial ou assimilé\""
   ]
  },
  {
   "cell_type": "code",
   "execution_count": 68,
   "id": "97c96cc8",
   "metadata": {},
   "outputs": [],
   "source": [
    "type_autorise = ['Local industriel. commercial ou assimilé']\n",
    "mask_type = df['type_local'].isin(type_autorise)\n",
    "df = df[mask_type]"
   ]
  },
  {
   "cell_type": "markdown",
   "id": "b8c8efc2",
   "metadata": {},
   "source": [
    "##### Puis on retire du dataframe la colonne \"type_local\""
   ]
  },
  {
   "cell_type": "code",
   "execution_count": 69,
   "id": "ede05669",
   "metadata": {},
   "outputs": [],
   "source": [
    "df = df.drop('type_local', axis=1)"
   ]
  },
  {
   "cell_type": "markdown",
   "id": "0aad3112",
   "metadata": {},
   "source": [
    "##### On s'intéresse uniquement au département de Paris"
   ]
  },
  {
   "cell_type": "code",
   "execution_count": 70,
   "id": "0b118ae4",
   "metadata": {},
   "outputs": [],
   "source": [
    "mask_paris = df['code_postal'].astype(str).str.startswith('75')\n",
    "df = df[mask_paris]"
   ]
  },
  {
   "cell_type": "markdown",
   "id": "eb650033",
   "metadata": {},
   "source": [
    "##### Création d'une feature prix m²"
   ]
  },
  {
   "cell_type": "code",
   "execution_count": 71,
   "id": "5a3e6c8d",
   "metadata": {},
   "outputs": [],
   "source": [
    "df['prix_m2'] = df['valeur_fonciere'] / df['surface_reelle_bati']"
   ]
  },
  {
   "cell_type": "markdown",
   "id": "3487239b",
   "metadata": {},
   "source": [
    "##### On supprime les valeurs aberrantes au m²"
   ]
  },
  {
   "cell_type": "code",
   "execution_count": 72,
   "id": "cb8fa493",
   "metadata": {},
   "outputs": [],
   "source": [
    "df = df[(df['prix_m2'] > 500) & (df['prix_m2'] < 50000)]"
   ]
  },
  {
   "cell_type": "markdown",
   "id": "fe01d335",
   "metadata": {},
   "source": [
    "##### Extraction de l'arrondissement (normalisation de code_postal)"
   ]
  },
  {
   "cell_type": "code",
   "execution_count": 73,
   "id": "d25f2691",
   "metadata": {},
   "outputs": [],
   "source": [
    "df['code_postal'] = df['code_postal'].astype(int).astype(str).str.zfill(5)\n",
    "df['arrondissement'] = pd.to_numeric(df['code_postal'].str[-2:], errors='coerce')\n",
    "df.loc[~df['arrondissement'].between(1,20), 'arrondissement'] = np.nan\n",
    "df['arrondissement'] = df['arrondissement'].dropna().astype(int)"
   ]
  },
  {
   "cell_type": "markdown",
   "id": "47ea6013",
   "metadata": {},
   "source": [
    "##### on supprime la colonne code_postal (c'est toujours Paris)"
   ]
  },
  {
   "cell_type": "code",
   "execution_count": 74,
   "id": "3bd761f9",
   "metadata": {},
   "outputs": [],
   "source": [
    "df = df.drop('code_postal', axis=1)"
   ]
  },
  {
   "cell_type": "markdown",
   "id": "f81df050",
   "metadata": {},
   "source": [
    "##### Certains nom de communes ne sont pas Paris. On les supprime"
   ]
  },
  {
   "cell_type": "code",
   "execution_count": 75,
   "id": "1ee29ff1",
   "metadata": {},
   "outputs": [],
   "source": [
    "df = df[df['nom_commune'].str.startswith('Paris')]"
   ]
  },
  {
   "cell_type": "markdown",
   "id": "7693ffeb",
   "metadata": {},
   "source": [
    "# Nettoyage BDD Loyer"
   ]
  },
  {
   "cell_type": "code",
   "execution_count": 76,
   "id": "72a6ec93",
   "metadata": {},
   "outputs": [],
   "source": [
    "loyer_df = pd.read_csv(\"loyers.csv\", sep=';', encoding='utf-8')"
   ]
  },
  {
   "cell_type": "markdown",
   "id": "90886a6a",
   "metadata": {},
   "source": [
    "##### On supprime les colonnes inutiles"
   ]
  },
  {
   "cell_type": "code",
   "execution_count": 77,
   "id": "0aee5a01",
   "metadata": {},
   "outputs": [],
   "source": [
    "colonnes_a_supprimer = [\"Secteurs géographiques\", \"Numéro du quartier\", \"Ville\",\"geo_shape\"]\n",
    "loyer_df = loyer_df.drop(columns=colonnes_a_supprimer, errors='ignore')"
   ]
  },
  {
   "cell_type": "markdown",
   "id": "9355f62e",
   "metadata": {},
   "source": [
    "##### Le dataframe ne contient pas de valeurs NaN ou null, ni de doublons"
   ]
  },
  {
   "cell_type": "markdown",
   "id": "9a16127d",
   "metadata": {},
   "source": [
    "##### Nettoyage des coordonnées GPS (format \"lat, lon\")"
   ]
  },
  {
   "cell_type": "code",
   "execution_count": 78,
   "id": "7f58b1c1",
   "metadata": {},
   "outputs": [],
   "source": [
    "loyer_df[['lat', 'lon']] = loyer_df['geo_point_2d'].str.split(',', expand=True)\n",
    "loyer_df['lat'] = loyer_df['lat'].astype(float)\n",
    "loyer_df['lon'] = loyer_df['lon'].astype(float)"
   ]
  },
  {
   "cell_type": "markdown",
   "id": "e2e3f6e6",
   "metadata": {},
   "source": [
    "suppression de la colonne 'geo_point_2d'"
   ]
  },
  {
   "cell_type": "code",
   "execution_count": 79,
   "id": "ad8b572f",
   "metadata": {},
   "outputs": [],
   "source": [
    "loyer_df = loyer_df.drop('geo_point_2d', axis=1)"
   ]
  },
  {
   "cell_type": "code",
   "execution_count": 80,
   "id": "07f4754d",
   "metadata": {},
   "outputs": [
    {
     "data": {
      "text/html": [
       "<div>\n",
       "<style scoped>\n",
       "    .dataframe tbody tr th:only-of-type {\n",
       "        vertical-align: middle;\n",
       "    }\n",
       "\n",
       "    .dataframe tbody tr th {\n",
       "        vertical-align: top;\n",
       "    }\n",
       "\n",
       "    .dataframe thead th {\n",
       "        text-align: right;\n",
       "    }\n",
       "</style>\n",
       "<table border=\"1\" class=\"dataframe\">\n",
       "  <thead>\n",
       "    <tr style=\"text-align: right;\">\n",
       "      <th></th>\n",
       "      <th>date_mutation</th>\n",
       "      <th>valeur_fonciere</th>\n",
       "      <th>surface_reelle_bati</th>\n",
       "      <th>nombre_pieces_principales</th>\n",
       "      <th>longitude</th>\n",
       "      <th>latitude</th>\n",
       "      <th>adresse_nom_voie</th>\n",
       "      <th>nom_commune</th>\n",
       "      <th>prix_m2</th>\n",
       "      <th>arrondissement</th>\n",
       "    </tr>\n",
       "  </thead>\n",
       "  <tbody>\n",
       "    <tr>\n",
       "      <th>3384378</th>\n",
       "      <td>2024-01-08</td>\n",
       "      <td>170000.0</td>\n",
       "      <td>14.0</td>\n",
       "      <td>0.0</td>\n",
       "      <td>2.351308</td>\n",
       "      <td>48.866263</td>\n",
       "      <td>PAS BASFOUR</td>\n",
       "      <td>Paris 2e Arrondissement</td>\n",
       "      <td>12142.857143</td>\n",
       "      <td>2.0</td>\n",
       "    </tr>\n",
       "    <tr>\n",
       "      <th>3384389</th>\n",
       "      <td>2024-01-04</td>\n",
       "      <td>650000.0</td>\n",
       "      <td>59.0</td>\n",
       "      <td>0.0</td>\n",
       "      <td>2.330483</td>\n",
       "      <td>48.874388</td>\n",
       "      <td>RUE JOUBERT</td>\n",
       "      <td>Paris 9e Arrondissement</td>\n",
       "      <td>11016.949153</td>\n",
       "      <td>9.0</td>\n",
       "    </tr>\n",
       "    <tr>\n",
       "      <th>3384458</th>\n",
       "      <td>2024-01-10</td>\n",
       "      <td>500000.0</td>\n",
       "      <td>51.0</td>\n",
       "      <td>0.0</td>\n",
       "      <td>2.354192</td>\n",
       "      <td>48.888191</td>\n",
       "      <td>RUE DOUDEAUVILLE</td>\n",
       "      <td>Paris 18e Arrondissement</td>\n",
       "      <td>9803.921569</td>\n",
       "      <td>18.0</td>\n",
       "    </tr>\n",
       "    <tr>\n",
       "      <th>3384464</th>\n",
       "      <td>2024-01-10</td>\n",
       "      <td>378000.0</td>\n",
       "      <td>60.0</td>\n",
       "      <td>0.0</td>\n",
       "      <td>2.370435</td>\n",
       "      <td>48.870213</td>\n",
       "      <td>RUE DU FBG DU TEMPLE</td>\n",
       "      <td>Paris 10e Arrondissement</td>\n",
       "      <td>6300.000000</td>\n",
       "      <td>10.0</td>\n",
       "    </tr>\n",
       "    <tr>\n",
       "      <th>3384465</th>\n",
       "      <td>2024-01-10</td>\n",
       "      <td>378000.0</td>\n",
       "      <td>46.0</td>\n",
       "      <td>0.0</td>\n",
       "      <td>2.370435</td>\n",
       "      <td>48.870213</td>\n",
       "      <td>RUE DU FBG DU TEMPLE</td>\n",
       "      <td>Paris 10e Arrondissement</td>\n",
       "      <td>8217.391304</td>\n",
       "      <td>10.0</td>\n",
       "    </tr>\n",
       "  </tbody>\n",
       "</table>\n",
       "</div>"
      ],
      "text/plain": [
       "        date_mutation  valeur_fonciere  surface_reelle_bati  \\\n",
       "3384378    2024-01-08         170000.0                 14.0   \n",
       "3384389    2024-01-04         650000.0                 59.0   \n",
       "3384458    2024-01-10         500000.0                 51.0   \n",
       "3384464    2024-01-10         378000.0                 60.0   \n",
       "3384465    2024-01-10         378000.0                 46.0   \n",
       "\n",
       "         nombre_pieces_principales  longitude   latitude  \\\n",
       "3384378                        0.0   2.351308  48.866263   \n",
       "3384389                        0.0   2.330483  48.874388   \n",
       "3384458                        0.0   2.354192  48.888191   \n",
       "3384464                        0.0   2.370435  48.870213   \n",
       "3384465                        0.0   2.370435  48.870213   \n",
       "\n",
       "             adresse_nom_voie               nom_commune       prix_m2  \\\n",
       "3384378           PAS BASFOUR   Paris 2e Arrondissement  12142.857143   \n",
       "3384389           RUE JOUBERT   Paris 9e Arrondissement  11016.949153   \n",
       "3384458      RUE DOUDEAUVILLE  Paris 18e Arrondissement   9803.921569   \n",
       "3384464  RUE DU FBG DU TEMPLE  Paris 10e Arrondissement   6300.000000   \n",
       "3384465  RUE DU FBG DU TEMPLE  Paris 10e Arrondissement   8217.391304   \n",
       "\n",
       "         arrondissement  \n",
       "3384378             2.0  \n",
       "3384389             9.0  \n",
       "3384458            18.0  \n",
       "3384464            10.0  \n",
       "3384465            10.0  "
      ]
     },
     "execution_count": 80,
     "metadata": {},
     "output_type": "execute_result"
    }
   ],
   "source": [
    "df.head()"
   ]
  },
  {
   "cell_type": "markdown",
   "id": "02c443ce",
   "metadata": {},
   "source": [
    "# Jointure du dataframe des valeurs foncières et de celui des loyers"
   ]
  },
  {
   "cell_type": "code",
   "execution_count": 81,
   "id": "27bd41dd",
   "metadata": {},
   "outputs": [],
   "source": [
    "from scipy.spatial import cKDTree"
   ]
  },
  {
   "cell_type": "code",
   "execution_count": 82,
   "id": "14155fa9",
   "metadata": {},
   "outputs": [],
   "source": [
    "coords_quartiers = loyer_df[['lat', 'lon']].values\n",
    "tree = cKDTree(coords_quartiers)"
   ]
  },
  {
   "cell_type": "code",
   "execution_count": 83,
   "id": "358a0be0",
   "metadata": {},
   "outputs": [],
   "source": [
    "coords_dvf = df[['latitude', 'longitude']].values"
   ]
  },
  {
   "cell_type": "code",
   "execution_count": 84,
   "id": "d96cb02d",
   "metadata": {},
   "outputs": [],
   "source": [
    "distances, indices = tree.query(coords_dvf)"
   ]
  },
  {
   "cell_type": "markdown",
   "id": "6797c496",
   "metadata": {},
   "source": [
    "Ajouter les colonnes au DataFrame DVF"
   ]
  },
  {
   "cell_type": "code",
   "execution_count": 85,
   "id": "e073df24",
   "metadata": {},
   "outputs": [],
   "source": [
    "df['quartier'] = loyer_df.iloc[indices]['Nom du quartier'].values\n",
    "df['numero_insee_quartier'] = loyer_df.iloc[indices]['Numéro INSEE du quartier'].values\n",
    "df['loyer_ref_m2'] = loyer_df.iloc[indices]['Loyers de référence'].values\n",
    "df['loyer_majore_m2'] = loyer_df.iloc[indices]['Loyers de référence majorés'].values\n",
    "df['loyer_minore_m2'] = loyer_df.iloc[indices]['Loyers de référence minorés'].values\n",
    "df['distance_quartier_m'] = distances * 111000  # Conversion approximative en mètres"
   ]
  },
  {
   "cell_type": "markdown",
   "id": "160885de",
   "metadata": {},
   "source": [
    "checking s'il y a pas des lignes ou le quartier est loin de la réalité"
   ]
  },
  {
   "cell_type": "code",
   "execution_count": 86,
   "id": "eb9f868f",
   "metadata": {},
   "outputs": [],
   "source": [
    "df = df[df['distance_quartier_m'] <= 1000]"
   ]
  },
  {
   "cell_type": "code",
   "execution_count": 87,
   "id": "ac7ce757",
   "metadata": {},
   "outputs": [
    {
     "data": {
      "text/html": [
       "<div>\n",
       "<style scoped>\n",
       "    .dataframe tbody tr th:only-of-type {\n",
       "        vertical-align: middle;\n",
       "    }\n",
       "\n",
       "    .dataframe tbody tr th {\n",
       "        vertical-align: top;\n",
       "    }\n",
       "\n",
       "    .dataframe thead th {\n",
       "        text-align: right;\n",
       "    }\n",
       "</style>\n",
       "<table border=\"1\" class=\"dataframe\">\n",
       "  <thead>\n",
       "    <tr style=\"text-align: right;\">\n",
       "      <th></th>\n",
       "      <th>date_mutation</th>\n",
       "      <th>valeur_fonciere</th>\n",
       "      <th>surface_reelle_bati</th>\n",
       "      <th>nombre_pieces_principales</th>\n",
       "      <th>longitude</th>\n",
       "      <th>latitude</th>\n",
       "      <th>adresse_nom_voie</th>\n",
       "      <th>nom_commune</th>\n",
       "      <th>prix_m2</th>\n",
       "      <th>arrondissement</th>\n",
       "      <th>quartier</th>\n",
       "      <th>numero_insee_quartier</th>\n",
       "      <th>loyer_ref_m2</th>\n",
       "      <th>loyer_majore_m2</th>\n",
       "      <th>loyer_minore_m2</th>\n",
       "      <th>distance_quartier_m</th>\n",
       "    </tr>\n",
       "  </thead>\n",
       "  <tbody>\n",
       "    <tr>\n",
       "      <th>3384378</th>\n",
       "      <td>2024-01-08</td>\n",
       "      <td>170000.0</td>\n",
       "      <td>14.0</td>\n",
       "      <td>0.0</td>\n",
       "      <td>2.351308</td>\n",
       "      <td>48.866263</td>\n",
       "      <td>PAS BASFOUR</td>\n",
       "      <td>Paris 2e Arrondissement</td>\n",
       "      <td>12142.857143</td>\n",
       "      <td>2.0</td>\n",
       "      <td>Bonne-Nouvelle</td>\n",
       "      <td>7510208</td>\n",
       "      <td>23.0</td>\n",
       "      <td>27.60</td>\n",
       "      <td>16.10</td>\n",
       "      <td>168.138266</td>\n",
       "    </tr>\n",
       "    <tr>\n",
       "      <th>3384389</th>\n",
       "      <td>2024-01-04</td>\n",
       "      <td>650000.0</td>\n",
       "      <td>59.0</td>\n",
       "      <td>0.0</td>\n",
       "      <td>2.330483</td>\n",
       "      <td>48.874388</td>\n",
       "      <td>RUE JOUBERT</td>\n",
       "      <td>Paris 9e Arrondissement</td>\n",
       "      <td>11016.949153</td>\n",
       "      <td>9.0</td>\n",
       "      <td>Chaussée-d'Antin</td>\n",
       "      <td>7510934</td>\n",
       "      <td>24.3</td>\n",
       "      <td>29.20</td>\n",
       "      <td>17.00</td>\n",
       "      <td>219.094129</td>\n",
       "    </tr>\n",
       "    <tr>\n",
       "      <th>3384458</th>\n",
       "      <td>2024-01-10</td>\n",
       "      <td>500000.0</td>\n",
       "      <td>51.0</td>\n",
       "      <td>0.0</td>\n",
       "      <td>2.354192</td>\n",
       "      <td>48.888191</td>\n",
       "      <td>RUE DOUDEAUVILLE</td>\n",
       "      <td>Paris 18e Arrondissement</td>\n",
       "      <td>9803.921569</td>\n",
       "      <td>18.0</td>\n",
       "      <td>Goutte-d'Or</td>\n",
       "      <td>7511871</td>\n",
       "      <td>20.4</td>\n",
       "      <td>24.48</td>\n",
       "      <td>14.28</td>\n",
       "      <td>462.845576</td>\n",
       "    </tr>\n",
       "    <tr>\n",
       "      <th>3384464</th>\n",
       "      <td>2024-01-10</td>\n",
       "      <td>378000.0</td>\n",
       "      <td>60.0</td>\n",
       "      <td>0.0</td>\n",
       "      <td>2.370435</td>\n",
       "      <td>48.870213</td>\n",
       "      <td>RUE DU FBG DU TEMPLE</td>\n",
       "      <td>Paris 10e Arrondissement</td>\n",
       "      <td>6300.000000</td>\n",
       "      <td>10.0</td>\n",
       "      <td>Folie-Méricourt</td>\n",
       "      <td>7511141</td>\n",
       "      <td>27.4</td>\n",
       "      <td>32.90</td>\n",
       "      <td>19.20</td>\n",
       "      <td>419.677569</td>\n",
       "    </tr>\n",
       "    <tr>\n",
       "      <th>3384465</th>\n",
       "      <td>2024-01-10</td>\n",
       "      <td>378000.0</td>\n",
       "      <td>46.0</td>\n",
       "      <td>0.0</td>\n",
       "      <td>2.370435</td>\n",
       "      <td>48.870213</td>\n",
       "      <td>RUE DU FBG DU TEMPLE</td>\n",
       "      <td>Paris 10e Arrondissement</td>\n",
       "      <td>8217.391304</td>\n",
       "      <td>10.0</td>\n",
       "      <td>Folie-Méricourt</td>\n",
       "      <td>7511141</td>\n",
       "      <td>27.4</td>\n",
       "      <td>32.90</td>\n",
       "      <td>19.20</td>\n",
       "      <td>419.677569</td>\n",
       "    </tr>\n",
       "  </tbody>\n",
       "</table>\n",
       "</div>"
      ],
      "text/plain": [
       "        date_mutation  valeur_fonciere  surface_reelle_bati  \\\n",
       "3384378    2024-01-08         170000.0                 14.0   \n",
       "3384389    2024-01-04         650000.0                 59.0   \n",
       "3384458    2024-01-10         500000.0                 51.0   \n",
       "3384464    2024-01-10         378000.0                 60.0   \n",
       "3384465    2024-01-10         378000.0                 46.0   \n",
       "\n",
       "         nombre_pieces_principales  longitude   latitude  \\\n",
       "3384378                        0.0   2.351308  48.866263   \n",
       "3384389                        0.0   2.330483  48.874388   \n",
       "3384458                        0.0   2.354192  48.888191   \n",
       "3384464                        0.0   2.370435  48.870213   \n",
       "3384465                        0.0   2.370435  48.870213   \n",
       "\n",
       "             adresse_nom_voie               nom_commune       prix_m2  \\\n",
       "3384378           PAS BASFOUR   Paris 2e Arrondissement  12142.857143   \n",
       "3384389           RUE JOUBERT   Paris 9e Arrondissement  11016.949153   \n",
       "3384458      RUE DOUDEAUVILLE  Paris 18e Arrondissement   9803.921569   \n",
       "3384464  RUE DU FBG DU TEMPLE  Paris 10e Arrondissement   6300.000000   \n",
       "3384465  RUE DU FBG DU TEMPLE  Paris 10e Arrondissement   8217.391304   \n",
       "\n",
       "         arrondissement          quartier  numero_insee_quartier  \\\n",
       "3384378             2.0    Bonne-Nouvelle                7510208   \n",
       "3384389             9.0  Chaussée-d'Antin                7510934   \n",
       "3384458            18.0       Goutte-d'Or                7511871   \n",
       "3384464            10.0   Folie-Méricourt                7511141   \n",
       "3384465            10.0   Folie-Méricourt                7511141   \n",
       "\n",
       "         loyer_ref_m2  loyer_majore_m2  loyer_minore_m2  distance_quartier_m  \n",
       "3384378          23.0            27.60            16.10           168.138266  \n",
       "3384389          24.3            29.20            17.00           219.094129  \n",
       "3384458          20.4            24.48            14.28           462.845576  \n",
       "3384464          27.4            32.90            19.20           419.677569  \n",
       "3384465          27.4            32.90            19.20           419.677569  "
      ]
     },
     "execution_count": 87,
     "metadata": {},
     "output_type": "execute_result"
    }
   ],
   "source": [
    "df.head()"
   ]
  },
  {
   "cell_type": "code",
   "execution_count": 89,
   "id": "33c4e2c9",
   "metadata": {},
   "outputs": [
    {
     "data": {
      "text/plain": [
       "nombre_pieces_principales\n",
       "0.0    2913\n",
       "Name: count, dtype: int64"
      ]
     },
     "execution_count": 89,
     "metadata": {},
     "output_type": "execute_result"
    }
   ],
   "source": [
    "df['nombre_pieces_principales'].value_counts()"
   ]
  },
  {
   "cell_type": "code",
   "execution_count": 90,
   "id": "6efefa71",
   "metadata": {},
   "outputs": [],
   "source": [
    "df.to_csv(\"dvf_loyers.csv\", sep=\";\", encoding=\"utf-8\", index=False)"
   ]
  }
 ],
 "metadata": {
  "kernelspec": {
   "display_name": "base",
   "language": "python",
   "name": "python3"
  },
  "language_info": {
   "codemirror_mode": {
    "name": "ipython",
    "version": 3
   },
   "file_extension": ".py",
   "mimetype": "text/x-python",
   "name": "python",
   "nbconvert_exporter": "python",
   "pygments_lexer": "ipython3",
   "version": "3.13.5"
  }
 },
 "nbformat": 4,
 "nbformat_minor": 5
}
