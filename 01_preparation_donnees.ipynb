{
 "cells": [
  {
   "cell_type": "markdown",
   "id": "ca0cf7fa",
   "metadata": {},
   "source": [
    "# Préparation et nettoyage des données DVF\n",
    "\n",
    "**Objectif** : préparer un jeu de données propre pour l'analyse des **locaux commerciaux / boutiques** à **Paris** (arrondissements, prix/m², année, géolocalisation).\n",
    "\n"
   ]
  },
  {
   "cell_type": "code",
   "execution_count": 2,
   "id": "b833645a",
   "metadata": {},
   "outputs": [],
   "source": [
    "import pandas as pd\n",
    "import numpy as np\n",
    "import os"
   ]
  },
  {
   "cell_type": "code",
   "execution_count": 3,
   "id": "e16e937f",
   "metadata": {},
   "outputs": [
    {
     "name": "stderr",
     "output_type": "stream",
     "text": [
      "C:\\Users\\victo\\AppData\\Local\\Temp\\ipykernel_25100\\2023539279.py:1: DtypeWarning: Columns (8,10,12,14,16,17,18,20,22,24,35,36) have mixed types. Specify dtype option on import or set low_memory=False.\n",
      "  df = pd.read_csv('dvf.csv')\n"
     ]
    }
   ],
   "source": [
    "df = pd.read_csv('dvf.csv')"
   ]
  },
  {
   "cell_type": "markdown",
   "id": "7c614cdb",
   "metadata": {},
   "source": [
    "##### on filtre les colonnes importantes"
   ]
  },
  {
   "cell_type": "code",
   "execution_count": 4,
   "id": "ade3ec0e",
   "metadata": {},
   "outputs": [],
   "source": [
    "colonnes_importantes = [\n",
    "    'date_mutation',\n",
    "    'valeur_fonciere',\n",
    "    'code_postal',\n",
    "    'type_local',\n",
    "    'surface_reelle_bati',\n",
    "    'nombre_pieces_principales',\n",
    "    'longitude',\n",
    "    'latitude',\n",
    "    'adresse_nom_voie',\n",
    "    'nom_commune'\n",
    "]\n",
    "\n",
    "df = df[colonnes_importantes]"
   ]
  },
  {
   "cell_type": "markdown",
   "id": "5a3b2564",
   "metadata": {},
   "source": [
    "##### On enlève les lignes qui contiennent des valeurs NaN"
   ]
  },
  {
   "cell_type": "code",
   "execution_count": 5,
   "id": "c5e5745c",
   "metadata": {},
   "outputs": [],
   "source": [
    "df = df.dropna(subset=['valeur_fonciere', 'surface_reelle_bati', \n",
    "                       'nombre_pieces_principales',\n",
    "                       'latitude', 'longitude'])"
   ]
  },
  {
   "cell_type": "code",
   "execution_count": 27,
   "id": "2176c7c4",
   "metadata": {},
   "outputs": [
    {
     "data": {
      "text/plain": [
       "date_mutation                 0\n",
       "valeur_fonciere               0\n",
       "code_postal                  79\n",
       "type_local                    0\n",
       "surface_reelle_bati           0\n",
       "nombre_pieces_principales     0\n",
       "longitude                     0\n",
       "latitude                      0\n",
       "adresse_nom_voie              4\n",
       "nom_commune                   0\n",
       "dtype: int64"
      ]
     },
     "execution_count": 27,
     "metadata": {},
     "output_type": "execute_result"
    }
   ],
   "source": [
    "df.isna().sum()"
   ]
  },
  {
   "cell_type": "markdown",
   "id": "a8ca16f2",
   "metadata": {},
   "source": [
    "##### On modifie le typage data en datetime"
   ]
  },
  {
   "cell_type": "code",
   "execution_count": 6,
   "id": "2d3aa08d",
   "metadata": {},
   "outputs": [],
   "source": [
    "df['date_mutation'] = pd.to_datetime(df['date_mutation'], errors='coerce')"
   ]
  },
  {
   "cell_type": "markdown",
   "id": "8156051e",
   "metadata": {},
   "source": [
    "##### On ne retient que le type : \"Local industriel. commercial ou assimilé\""
   ]
  },
  {
   "cell_type": "code",
   "execution_count": 7,
   "id": "97c96cc8",
   "metadata": {},
   "outputs": [],
   "source": [
    "type_autorise = ['Local industriel. commercial ou assimilé']\n",
    "mask_type = df['type_local'].isin(type_autorise)\n",
    "df = df[mask_type]"
   ]
  },
  {
   "cell_type": "markdown",
   "id": "b8c8efc2",
   "metadata": {},
   "source": [
    "##### Puis on retire du dataframe la colonne \"type_local\""
   ]
  },
  {
   "cell_type": "code",
   "execution_count": 8,
   "id": "ede05669",
   "metadata": {},
   "outputs": [],
   "source": [
    "df = df.drop('type_local', axis=1)"
   ]
  },
  {
   "cell_type": "markdown",
   "id": "0aad3112",
   "metadata": {},
   "source": [
    "##### On s'intéresse uniquement au département de Paris"
   ]
  },
  {
   "cell_type": "code",
   "execution_count": 9,
   "id": "0b118ae4",
   "metadata": {},
   "outputs": [],
   "source": [
    "mask_paris = df['code_postal'].astype(str).str.startswith('75')\n",
    "df = df[mask_paris]"
   ]
  },
  {
   "cell_type": "markdown",
   "id": "eb650033",
   "metadata": {},
   "source": [
    "##### Création d'une feature prix m²"
   ]
  },
  {
   "cell_type": "code",
   "execution_count": 10,
   "id": "5a3e6c8d",
   "metadata": {},
   "outputs": [],
   "source": [
    "df['prix_m2'] = df['valeur_fonciere'] / df['surface_reelle_bati']"
   ]
  },
  {
   "cell_type": "markdown",
   "id": "3487239b",
   "metadata": {},
   "source": [
    "##### On supprime les valeurs aberrantes au m²"
   ]
  },
  {
   "cell_type": "code",
   "execution_count": 11,
   "id": "cb8fa493",
   "metadata": {},
   "outputs": [],
   "source": [
    "df = df[(df['prix_m2'] > 500) & (df['prix_m2'] < 50000)]"
   ]
  },
  {
   "cell_type": "markdown",
   "id": "fe01d335",
   "metadata": {},
   "source": [
    "##### Extraction de l'arrondissement (normalisation de code_postal)"
   ]
  },
  {
   "cell_type": "code",
   "execution_count": 12,
   "id": "d25f2691",
   "metadata": {},
   "outputs": [],
   "source": [
    "df['code_postal'] = df['code_postal'].astype(int).astype(str).str.zfill(5)\n",
    "df['arrondissement'] = pd.to_numeric(df['code_postal'].str[-2:], errors='coerce')\n",
    "df.loc[~df['arrondissement'].between(1,20), 'arrondissement'] = np.nan\n",
    "df['arrondissement'] = df['arrondissement'].dropna().astype(int)"
   ]
  },
  {
   "cell_type": "markdown",
   "id": "47ea6013",
   "metadata": {},
   "source": [
    "##### on supprime la colonne code_postal (c'est toujours Paris)"
   ]
  },
  {
   "cell_type": "code",
   "execution_count": 13,
   "id": "3bd761f9",
   "metadata": {},
   "outputs": [],
   "source": [
    "df = df.drop('code_postal', axis=1)"
   ]
  },
  {
   "cell_type": "markdown",
   "id": "f81df050",
   "metadata": {},
   "source": [
    "##### Certains nom de communes ne sont pas Paris. On les supprime"
   ]
  },
  {
   "cell_type": "code",
   "execution_count": 14,
   "id": "1ee29ff1",
   "metadata": {},
   "outputs": [],
   "source": [
    "cond_valides_villes = df['nom_commune'].str.startswith('Paris')\n",
    "df = df[cond_valides_villes]"
   ]
  },
  {
   "cell_type": "code",
   "execution_count": 3,
   "id": "3db00dcb",
   "metadata": {},
   "outputs": [
    {
     "name": "stdout",
     "output_type": "stream",
     "text": [
      "✅ Fichier chargé : dvf_paris_commerces_clean.csv\n",
      "Lignes: 2998 | Colonnes: 15\n",
      "\n",
      "Colonnes : ['date_mutation', 'valeur_fonciere', 'adresse_nom_voie', 'code_postal', 'code_commune', 'type_local', 'surface_reelle_bati', 'nombre_pieces_principales', 'longitude', 'latitude', 'prix_m2', 'arrondissement', 'annee', 'mois', 'trimestre']\n",
      "  date_mutation  valeur_fonciere      adresse_nom_voie  code_postal  \\\n",
      "0    2024-01-08         170000.0           PAS BASFOUR        75002   \n",
      "1    2024-01-04         650000.0           RUE JOUBERT        75009   \n",
      "2    2024-01-10         500000.0      RUE DOUDEAUVILLE        75018   \n",
      "3    2024-01-10         378000.0  RUE DU FBG DU TEMPLE        75010   \n",
      "4    2024-01-10         378000.0  RUE DU FBG DU TEMPLE        75010   \n",
      "\n",
      "   code_commune                                type_local  \\\n",
      "0         75102  Local industriel. commercial ou assimilé   \n",
      "1         75109  Local industriel. commercial ou assimilé   \n",
      "2         75118  Local industriel. commercial ou assimilé   \n",
      "3         75110  Local industriel. commercial ou assimilé   \n",
      "4         75110  Local industriel. commercial ou assimilé   \n",
      "\n",
      "   surface_reelle_bati  nombre_pieces_principales  longitude   latitude  \\\n",
      "0                 14.0                        0.0   2.351308  48.866263   \n",
      "1                 59.0                        0.0   2.330483  48.874388   \n",
      "2                 51.0                        0.0   2.354192  48.888191   \n",
      "3                 60.0                        0.0   2.370435  48.870213   \n",
      "4                 46.0                        0.0   2.370435  48.870213   \n",
      "\n",
      "        prix_m2  arrondissement  annee  mois  trimestre  \n",
      "0  12142.857143               2   2024     1          1  \n",
      "1  11016.949153               9   2024     1          1  \n",
      "2   9803.921569              18   2024     1          1  \n",
      "3   6300.000000              10   2024     1          1  \n",
      "4   8217.391304              10   2024     1          1  \n",
      "\n",
      "--- Vérification des valeurs manquantes ---\n",
      "Aucune valeur manquante.\n",
      "\n",
      "--- Doublons exacts ---\n",
      "0 doublons détectés.\n",
      "\n",
      "Codes postaux non parisiens : 0\n",
      "Arrondissements invalides : 0\n",
      "\n",
      "--- Analyse des surfaces ---\n",
      "Surfaces manquantes : 0\n",
      "Surfaces < 5 m² : 5\n",
      "Surfaces > 5000 m² : 2\n",
      "count    2998.000000\n",
      "mean      148.933956\n",
      "std       359.679033\n",
      "min         2.000000\n",
      "25%        31.000000\n",
      "50%        60.000000\n",
      "75%       123.000000\n",
      "max      8720.000000\n",
      "Name: surface_reelle_bati, dtype: float64\n",
      "\n",
      "--- Analyse du prix au m² ---\n",
      "count     2998.000000\n",
      "mean     12059.394609\n",
      "std       9623.261241\n",
      "min        512.500000\n",
      "1%         776.965571\n",
      "5%        2006.018786\n",
      "25%       6002.016129\n",
      "50%       9321.839080\n",
      "75%      14403.628863\n",
      "95%      34690.753987\n",
      "99%      46259.636541\n",
      "max      49987.500000\n",
      "Name: prix_m2, dtype: float64\n",
      "prix_m2 < 200 : 0\n",
      "prix_m2 > 100000 : 0\n",
      "Outliers (IQR) : 273 (bornes -6600.4 - 27006.0)\n",
      "Outliers (z-score > 3.0) : 80\n",
      "\n",
      "--- Vérification des coordonnées géographiques ---\n",
      "Coordonnées manquantes : 0\n",
      "Latitude hors Paris (48.80–48.92) : 0\n",
      "Longitude hors Paris (2.25–2.42) : 0\n",
      "\n",
      "✅ Analyse terminée.\n"
     ]
    },
    {
     "data": {
      "image/png": "[encoded data removed]",
      "text/plain": [
       "<Figure size 640x480 with 1 Axes>"
      ]
     },
     "metadata": {},
     "output_type": "display_data"
    }
   ],
   "source": [
    "\n",
    "import matplotlib.pyplot as plt\n",
    "# === CONFIGURATION ===\n",
    "FILE_PATH = \"dvf_paris_commerces_clean.csv\"\n",
    "\n",
    "# Seuils de détection\n",
    "SMALL_SURFACE = 5       # m² (suspect si < 5)\n",
    "LARGE_SURFACE = 5000    # m² (suspect si > 5000)\n",
    "PRIX_M2_MIN = 200       # €/m²\n",
    "PRIX_M2_MAX = 100000    # €/m²\n",
    "IQR_MULT = 1.5          # multiplicateur IQR\n",
    "Z_THRESH = 3.0          # z-score\n",
    "\n",
    "# === CHARGEMENT ===\n",
    "df = pd.read_csv(FILE_PATH)\n",
    "print(\"✅ Fichier chargé :\", FILE_PATH)\n",
    "print(f\"Lignes: {len(df)} | Colonnes: {len(df.columns)}\")\n",
    "print(\"\\nColonnes :\", list(df.columns))\n",
    "\n",
    "print(df.head())\n",
    "# === VALEURS MANQUANTES ===\n",
    "print(\"\\n--- Vérification des valeurs manquantes ---\")\n",
    "missing = df.isna().sum()\n",
    "print(missing[missing > 0].sort_values(ascending=False) if missing.any() else \"Aucune valeur manquante.\")\n",
    "\n",
    "# === DÉTECTION DE DOUBLONS ===\n",
    "duplicates = df.duplicated().sum()\n",
    "print(f\"\\n--- Doublons exacts ---\\n{duplicates} doublons détectés.\")\n",
    "\n",
    "# === VALIDATION CODE POSTAL / ARRONDISSEMENT ===\n",
    "if 'code_postal' in df.columns:\n",
    "    bad_cp = df[~df['code_postal'].astype(str).str.match(r'75\\d{2}', na=False)]\n",
    "    print(f\"\\nCodes postaux non parisiens : {len(bad_cp)}\")\n",
    "if 'arrondissement' in df.columns:\n",
    "    bad_arr = df[~df['arrondissement'].between(1, 20, inclusive=\"both\")]\n",
    "    print(f\"Arrondissements invalides : {len(bad_arr)}\")\n",
    "\n",
    "# === SURFACE ===\n",
    "if 'surface_reelle_bati' in df.columns:\n",
    "    s = pd.to_numeric(df['surface_reelle_bati'], errors='coerce')\n",
    "    print(\"\\n--- Analyse des surfaces ---\")\n",
    "    print(f\"Surfaces manquantes : {s.isna().sum()}\")\n",
    "    print(f\"Surfaces < {SMALL_SURFACE} m² : {(s < SMALL_SURFACE).sum()}\")\n",
    "    print(f\"Surfaces > {LARGE_SURFACE} m² : {(s > LARGE_SURFACE).sum()}\")\n",
    "    print(s.describe())\n",
    "\n",
    "# === PRIX AU M² ===\n",
    "if 'prix_m2' in df.columns:\n",
    "    p = pd.to_numeric(df['prix_m2'], errors='coerce')\n",
    "    print(\"\\n--- Analyse du prix au m² ---\")\n",
    "    print(p.describe(percentiles=[0.01, 0.05, 0.25, 0.5, 0.75, 0.95, 0.99]))\n",
    "    print(f\"prix_m2 < {PRIX_M2_MIN} : {(p < PRIX_M2_MIN).sum()}\")\n",
    "    print(f\"prix_m2 > {PRIX_M2_MAX} : {(p > PRIX_M2_MAX).sum()}\")\n",
    "\n",
    "    # Détection des outliers\n",
    "    q1, q3 = p.quantile([0.25, 0.75])\n",
    "    iqr = q3 - q1\n",
    "    low, high = q1 - IQR_MULT * iqr, q3 + IQR_MULT * iqr\n",
    "    outliers_iqr = ((p < low) | (p > high)).sum()\n",
    "    print(f\"Outliers (IQR) : {outliers_iqr} (bornes {low:.1f} - {high:.1f})\")\n",
    "\n",
    "    z = (p - p.mean()) / p.std()\n",
    "    outliers_z = (abs(z) > Z_THRESH).sum()\n",
    "    print(f\"Outliers (z-score > {Z_THRESH}) : {outliers_z}\")\n",
    "\n",
    "# === COORDONNÉES GÉOGRAPHIQUES ===\n",
    "if 'latitude' in df.columns and 'longitude' in df.columns:\n",
    "    lat = pd.to_numeric(df['latitude'], errors='coerce')\n",
    "    lon = pd.to_numeric(df['longitude'], errors='coerce')\n",
    "    print(\"\\n--- Vérification des coordonnées géographiques ---\")\n",
    "    print(f\"Coordonnées manquantes : {(lat.isna() | lon.isna()).sum()}\")\n",
    "    print(f\"Latitude hors Paris (48.80–48.92) : {(~lat.between(48.80, 48.92)).sum()}\")\n",
    "    print(f\"Longitude hors Paris (2.25–2.42) : {(~lon.between(2.25, 2.42)).sum()}\")\n",
    "\n",
    "print(\"\\n✅ Analyse terminée.\")\n",
    "\n",
    "\n",
    "df['prix_m2'].hist(bins=50)\n",
    "plt.title(\"Distribution du prix au m² à Paris (locaux commerciaux)\")\n",
    "plt.xlabel(\"Prix au m² (€)\")\n",
    "plt.ylabel(\"Nombre de transactions\")\n",
    "plt.show()"
   ]
  }
 ],
 "metadata": {
  "kernelspec": {
   "display_name": "base",
   "language": "python",
   "name": "python3"
  },
  "language_info": {
   "codemirror_mode": {
    "name": "ipython",
    "version": 3
   },
   "file_extension": ".py",
   "mimetype": "text/x-python",
   "name": "python",
   "nbconvert_exporter": "python",
   "pygments_lexer": "ipython3",
   "version": "3.13.5"
  }
 },
 "nbformat": 4,
 "nbformat_minor": 5
}
