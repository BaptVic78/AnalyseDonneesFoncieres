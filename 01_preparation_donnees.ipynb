{
 "cells": [
  {
   "cell_type": "markdown",
   "id": "ca0cf7fa",
   "metadata": {},
   "source": [
    "# Préparation et nettoyage des données DVF\n",
    "\n",
    "**Objectif** : préparer un jeu de données propre pour l'analyse des **locaux commerciaux / boutiques** à **Paris** (arrondissements, prix/m², année, géolocalisation).\n",
    "\n"
   ]
  },
  {
   "cell_type": "code",
   "execution_count": 30,
   "id": "b833645a",
   "metadata": {},
   "outputs": [],
   "source": [
    "import pandas as pd\n",
    "import numpy as np\n",
    "import os"
   ]
  },
  {
   "cell_type": "code",
   "execution_count": 45,
   "id": "e16e937f",
   "metadata": {},
   "outputs": [
    {
     "name": "stderr",
     "output_type": "stream",
     "text": [
      "C:\\Users\\victo\\AppData\\Local\\Temp\\ipykernel_13904\\2023539279.py:1: DtypeWarning: Columns (8,10,12,14,16,17,18,20,22,24,35,36) have mixed types. Specify dtype option on import or set low_memory=False.\n",
      "  df = pd.read_csv('dvf.csv')\n"
     ]
    }
   ],
   "source": [
    "df = pd.read_csv('dvf.csv')"
   ]
  },
  {
   "cell_type": "markdown",
   "id": "7c614cdb",
   "metadata": {},
   "source": [
    "##### on filtre les colonnes importantes"
   ]
  },
  {
   "cell_type": "code",
   "execution_count": 46,
   "id": "ade3ec0e",
   "metadata": {},
   "outputs": [],
   "source": [
    "colonnes_importantes = [\n",
    "    'date_mutation',\n",
    "    'valeur_fonciere',\n",
    "    'code_postal',\n",
    "    'type_local',\n",
    "    'surface_reelle_bati',\n",
    "    'nombre_pieces_principales',\n",
    "    'longitude',\n",
    "    'latitude',\n",
    "    'adresse_nom_voie',\n",
    "    'nom_commune'\n",
    "]\n",
    "\n",
    "df = df[colonnes_importantes]"
   ]
  },
  {
   "cell_type": "markdown",
   "id": "5a3b2564",
   "metadata": {},
   "source": [
    "##### On enlève les lignes qui contiennent des valeurs NaN"
   ]
  },
  {
   "cell_type": "code",
   "execution_count": 47,
   "id": "c5e5745c",
   "metadata": {},
   "outputs": [],
   "source": [
    "df = df.dropna(subset=['valeur_fonciere', 'surface_reelle_bati', \n",
    "                       'nombre_pieces_principales',\n",
    "                       'latitude', 'longitude'])"
   ]
  },
  {
   "cell_type": "code",
   "execution_count": 48,
   "id": "2176c7c4",
   "metadata": {},
   "outputs": [
    {
     "data": {
      "text/plain": [
       "date_mutation                 0\n",
       "valeur_fonciere               0\n",
       "code_postal                  79\n",
       "type_local                    0\n",
       "surface_reelle_bati           0\n",
       "nombre_pieces_principales     0\n",
       "longitude                     0\n",
       "latitude                      0\n",
       "adresse_nom_voie              4\n",
       "nom_commune                   0\n",
       "dtype: int64"
      ]
     },
     "execution_count": 48,
     "metadata": {},
     "output_type": "execute_result"
    }
   ],
   "source": [
    "df.isna().sum()"
   ]
  },
  {
   "cell_type": "markdown",
   "id": "a8ca16f2",
   "metadata": {},
   "source": [
    "##### On modifie le typage data en datetime"
   ]
  },
  {
   "cell_type": "code",
   "execution_count": 49,
   "id": "2d3aa08d",
   "metadata": {},
   "outputs": [],
   "source": [
    "df['date_mutation'] = pd.to_datetime(df['date_mutation'], errors='coerce')"
   ]
  },
  {
   "cell_type": "markdown",
   "id": "8156051e",
   "metadata": {},
   "source": [
    "##### On ne retient que le type : \"Local industriel. commercial ou assimilé\""
   ]
  },
  {
   "cell_type": "code",
   "execution_count": 50,
   "id": "97c96cc8",
   "metadata": {},
   "outputs": [],
   "source": [
    "type_autorise = ['Local industriel. commercial ou assimilé']\n",
    "mask_type = df['type_local'].isin(type_autorise)\n",
    "df = df[mask_type]"
   ]
  },
  {
   "cell_type": "markdown",
   "id": "b8c8efc2",
   "metadata": {},
   "source": [
    "##### Puis on retire du dataframe la colonne \"type_local\""
   ]
  },
  {
   "cell_type": "code",
   "execution_count": 51,
   "id": "ede05669",
   "metadata": {},
   "outputs": [],
   "source": [
    "df = df.drop('type_local', axis=1)"
   ]
  },
  {
   "cell_type": "markdown",
   "id": "0aad3112",
   "metadata": {},
   "source": [
    "##### On s'intéresse uniquement au département de Paris"
   ]
  },
  {
   "cell_type": "code",
   "execution_count": 52,
   "id": "0b118ae4",
   "metadata": {},
   "outputs": [],
   "source": [
    "mask_paris = df['code_postal'].astype(str).str.startswith('75')\n",
    "df = df[mask_paris]"
   ]
  },
  {
   "cell_type": "markdown",
   "id": "eb650033",
   "metadata": {},
   "source": [
    "##### Création d'une feature prix m²"
   ]
  },
  {
   "cell_type": "code",
   "execution_count": 53,
   "id": "5a3e6c8d",
   "metadata": {},
   "outputs": [],
   "source": [
    "df['prix_m2'] = df['valeur_fonciere'] / df['surface_reelle_bati']"
   ]
  },
  {
   "cell_type": "markdown",
   "id": "3487239b",
   "metadata": {},
   "source": [
    "##### On supprime les valeurs aberrantes au m²"
   ]
  },
  {
   "cell_type": "code",
   "execution_count": 54,
   "id": "cb8fa493",
   "metadata": {},
   "outputs": [],
   "source": [
    "df = df[(df['prix_m2'] > 500) & (df['prix_m2'] < 50000)]"
   ]
  },
  {
   "cell_type": "markdown",
   "id": "fe01d335",
   "metadata": {},
   "source": [
    "##### Extraction de l'arrondissement (normalisation de code_postal)"
   ]
  },
  {
   "cell_type": "code",
   "execution_count": 55,
   "id": "d25f2691",
   "metadata": {},
   "outputs": [],
   "source": [
    "df['code_postal'] = df['code_postal'].astype(int).astype(str).str.zfill(5)\n",
    "df['arrondissement'] = pd.to_numeric(df['code_postal'].str[-2:], errors='coerce')\n",
    "df.loc[~df['arrondissement'].between(1,20), 'arrondissement'] = np.nan\n",
    "df['arrondissement'] = df['arrondissement'].dropna().astype(int)"
   ]
  },
  {
   "cell_type": "markdown",
   "id": "47ea6013",
   "metadata": {},
   "source": [
    "##### on supprime la colonne code_postal (c'est toujours Paris)"
   ]
  },
  {
   "cell_type": "code",
   "execution_count": 56,
   "id": "3bd761f9",
   "metadata": {},
   "outputs": [],
   "source": [
    "df = df.drop('code_postal', axis=1)"
   ]
  },
  {
   "cell_type": "markdown",
   "id": "f81df050",
   "metadata": {},
   "source": [
    "##### Certains nom de communes ne sont pas Paris. On les supprime"
   ]
  },
  {
   "cell_type": "code",
   "execution_count": 59,
   "id": "1ee29ff1",
   "metadata": {},
   "outputs": [],
   "source": [
    "df = df[df['nom_commune'].str.startswith('Paris')]"
   ]
  },
  {
   "cell_type": "markdown",
   "id": "d84629ac",
   "metadata": {},
   "source": [
    "enregistrement du fichier csv clean"
   ]
  },
  {
   "cell_type": "code",
   "execution_count": 61,
   "id": "3f5a06de",
   "metadata": {},
   "outputs": [],
   "source": [
    "df.to_csv(\"dvf_nettoye.csv\", sep=';', index=False, encoding='utf-8')"
   ]
  }
 ],
 "metadata": {
  "kernelspec": {
   "display_name": "base",
   "language": "python",
   "name": "python3"
  },
  "language_info": {
   "codemirror_mode": {
    "name": "ipython",
    "version": 3
   },
   "file_extension": ".py",
   "mimetype": "text/x-python",
   "name": "python",
   "nbconvert_exporter": "python",
   "pygments_lexer": "ipython3",
   "version": "3.13.5"
  }
 },
 "nbformat": 4,
 "nbformat_minor": 5
}
