{
 "cells": [
  {
   "cell_type": "markdown",
   "id": "ca0cf7fa",
   "metadata": {},
   "source": [
    "# Préparation et nettoyage des données DVF\n",
    "\n",
    "**Objectif** : préparer un jeu de données propre pour l'analyse des **locaux commerciaux / boutiques** à **Paris** (arrondissements, prix/m², année, géolocalisation).\n",
    "\n"
   ]
  },
  {
   "cell_type": "code",
   "execution_count": 1,
   "id": "b833645a",
   "metadata": {},
   "outputs": [],
   "source": [
    "import pandas as pd\n",
    "import numpy as np\n",
    "import os"
   ]
  },
  {
   "cell_type": "markdown",
   "id": "5548fb41",
   "metadata": {},
   "source": [
    "#### Lecture du fichier dvf.csv\n",
    "\n",
    "On définit en premier lieu les **colonnes utiles** qui vont nous servir pour l'extraction et le nettoyage des données, dans le but d'**optimiser la lecture du fichier csv** qui est assez lourd (*+3Go*). Toujours dans le même objectif, la lecture se fait par **chunk** de 100000 lignes. Durant le processus, on réalise :\n",
    "- La suppression des valeurs NaN\n",
    "- La modification du type de la colonne 'date_mutation' en datetime\n",
    "- La reduction des données au type \"Local industriel, commercial ou assimilé\"\n",
    "- La filtration pour conserver uniquement les biens sur Paris"
   ]
  },
  {
   "cell_type": "code",
   "execution_count": 29,
   "id": "e16e937f",
   "metadata": {},
   "outputs": [
    {
     "name": "stdout",
     "output_type": "stream",
     "text": [
      "Processing DVF file in chunks...\n",
      "Chunk 1: retained 0 rows\n",
      "Chunk 2: retained 6 rows\n",
      "Chunk 3: retained 19 rows\n",
      "Chunk 4: retained 0 rows\n",
      "Chunk 5: retained 0 rows\n",
      "Chunk 6: retained 0 rows\n",
      "Chunk 7: retained 0 rows\n",
      "Chunk 8: retained 0 rows\n",
      "Chunk 9: retained 0 rows\n",
      "Chunk 10: retained 0 rows\n",
      "Chunk 11: retained 0 rows\n",
      "Chunk 12: retained 0 rows\n",
      "Chunk 13: retained 0 rows\n",
      "Chunk 14: retained 0 rows\n",
      "Chunk 15: retained 0 rows\n",
      "Chunk 16: retained 0 rows\n",
      "Chunk 17: retained 0 rows\n",
      "Chunk 18: retained 0 rows\n",
      "Chunk 19: retained 0 rows\n",
      "Chunk 20: retained 0 rows\n",
      "Chunk 21: retained 0 rows\n",
      "Chunk 22: retained 0 rows\n",
      "Chunk 23: retained 0 rows\n",
      "Chunk 24: retained 0 rows\n",
      "Chunk 25: retained 0 rows\n",
      "Chunk 26: retained 0 rows\n",
      "Chunk 27: retained 0 rows\n",
      "Chunk 28: retained 0 rows\n",
      "Chunk 29: retained 0 rows\n",
      "Chunk 30: retained 0 rows\n",
      "Chunk 31: retained 0 rows\n",
      "Chunk 32: retained 0 rows\n",
      "Chunk 33: retained 1 rows\n",
      "Chunk 34: retained 0 rows\n",
      "Chunk 35: retained 3955 rows\n",
      "Chunk 36: retained 1782 rows\n",
      "Chunk 37: retained 0 rows\n",
      "Chunk 38: retained 10 rows\n",
      "Chunk 39: retained 21 rows\n",
      "Chunk 40: retained 0 rows\n",
      "Chunk 41: retained 0 rows\n",
      "Chunk 42: retained 0 rows\n",
      "Chunk 43: retained 0 rows\n",
      "Chunk 44: retained 0 rows\n",
      "Chunk 45: retained 0 rows\n",
      "Chunk 46: retained 0 rows\n",
      "Chunk 47: retained 0 rows\n",
      "Chunk 48: retained 0 rows\n",
      "Chunk 49: retained 0 rows\n",
      "Chunk 50: retained 0 rows\n",
      "Chunk 51: retained 0 rows\n",
      "Chunk 52: retained 0 rows\n",
      "Chunk 53: retained 0 rows\n",
      "Chunk 54: retained 0 rows\n",
      "Chunk 55: retained 0 rows\n",
      "Chunk 56: retained 0 rows\n",
      "Chunk 57: retained 0 rows\n",
      "Chunk 58: retained 0 rows\n",
      "Chunk 59: retained 0 rows\n",
      "Chunk 60: retained 0 rows\n",
      "Chunk 61: retained 0 rows\n",
      "Chunk 62: retained 0 rows\n",
      "Chunk 63: retained 0 rows\n",
      "Chunk 64: retained 0 rows\n",
      "Chunk 65: retained 0 rows\n",
      "Chunk 66: retained 0 rows\n",
      "Chunk 67: retained 0 rows\n",
      "Chunk 68: retained 0 rows\n",
      "Chunk 69: retained 0 rows\n",
      "Chunk 70: retained 0 rows\n",
      "Chunk 71: retained 0 rows\n",
      "Chunk 72: retained 0 rows\n",
      "Chunk 73: retained 0 rows\n",
      "Chunk 74: retained 0 rows\n",
      "Chunk 75: retained 0 rows\n",
      "Chunk 76: retained 0 rows\n",
      "Chunk 77: retained 0 rows\n",
      "Chunk 78: retained 0 rows\n",
      "Chunk 79: retained 0 rows\n",
      "Chunk 80: retained 0 rows\n",
      "Chunk 81: retained 0 rows\n",
      "Chunk 82: retained 5320 rows\n",
      "Chunk 83: retained 0 rows\n",
      "Chunk 84: retained 0 rows\n",
      "Chunk 85: retained 42 rows\n",
      "Chunk 86: retained 0 rows\n",
      "Chunk 87: retained 0 rows\n",
      "Chunk 88: retained 0 rows\n",
      "Chunk 89: retained 0 rows\n",
      "Chunk 90: retained 0 rows\n",
      "Chunk 91: retained 0 rows\n",
      "Chunk 92: retained 0 rows\n",
      "Chunk 93: retained 0 rows\n",
      "Chunk 94: retained 0 rows\n",
      "Chunk 95: retained 0 rows\n",
      "Chunk 96: retained 0 rows\n",
      "Chunk 97: retained 0 rows\n",
      "Chunk 98: retained 0 rows\n",
      "Chunk 99: retained 0 rows\n",
      "Chunk 100: retained 0 rows\n",
      "Chunk 101: retained 0 rows\n",
      "Chunk 102: retained 0 rows\n",
      "Chunk 103: retained 0 rows\n",
      "Chunk 104: retained 0 rows\n",
      "Chunk 105: retained 0 rows\n",
      "Chunk 106: retained 0 rows\n",
      "Chunk 107: retained 0 rows\n",
      "Chunk 108: retained 0 rows\n",
      "Chunk 109: retained 0 rows\n",
      "Chunk 110: retained 0 rows\n",
      "Chunk 111: retained 0 rows\n",
      "Chunk 112: retained 0 rows\n",
      "Chunk 113: retained 0 rows\n",
      "Chunk 114: retained 0 rows\n",
      "Chunk 115: retained 0 rows\n",
      "Chunk 116: retained 0 rows\n",
      "Chunk 117: retained 0 rows\n",
      "Chunk 118: retained 0 rows\n",
      "Chunk 119: retained 0 rows\n",
      "Chunk 120: retained 0 rows\n",
      "Chunk 121: retained 0 rows\n",
      "Chunk 122: retained 0 rows\n",
      "Chunk 123: retained 0 rows\n",
      "Chunk 124: retained 0 rows\n",
      "Chunk 125: retained 0 rows\n",
      "Chunk 126: retained 3 rows\n",
      "Chunk 127: retained 0 rows\n",
      "Chunk 128: retained 2244 rows\n",
      "Chunk 129: retained 3973 rows\n",
      "Chunk 130: retained 0 rows\n",
      "Chunk 131: retained 7 rows\n",
      "Chunk 132: retained 20 rows\n",
      "Chunk 133: retained 0 rows\n",
      "Chunk 134: retained 0 rows\n",
      "Chunk 135: retained 0 rows\n",
      "Chunk 136: retained 0 rows\n",
      "Chunk 137: retained 0 rows\n",
      "Chunk 138: retained 0 rows\n",
      "Chunk 139: retained 0 rows\n",
      "Chunk 140: retained 0 rows\n",
      "Chunk 141: retained 0 rows\n",
      "Chunk 142: retained 0 rows\n",
      "Chunk 143: retained 0 rows\n",
      "Chunk 144: retained 0 rows\n",
      "Chunk 145: retained 0 rows\n",
      "Chunk 146: retained 0 rows\n",
      "Chunk 147: retained 0 rows\n",
      "Chunk 148: retained 0 rows\n",
      "Chunk 149: retained 0 rows\n",
      "Chunk 150: retained 0 rows\n",
      "Chunk 151: retained 0 rows\n",
      "Chunk 152: retained 0 rows\n",
      "Chunk 153: retained 0 rows\n",
      "Chunk 154: retained 0 rows\n",
      "Chunk 155: retained 0 rows\n",
      "Chunk 156: retained 0 rows\n",
      "Chunk 157: retained 0 rows\n",
      "Chunk 158: retained 0 rows\n",
      "Chunk 159: retained 0 rows\n",
      "Chunk 160: retained 0 rows\n",
      "Chunk 161: retained 0 rows\n",
      "Chunk 162: retained 0 rows\n",
      "Chunk 163: retained 0 rows\n",
      "Chunk 164: retained 0 rows\n",
      "Chunk 165: retained 0 rows\n",
      "Chunk 166: retained 444 rows\n",
      "Chunk 167: retained 4565 rows\n",
      "Chunk 168: retained 0 rows\n",
      "Chunk 169: retained 23 rows\n",
      "Chunk 170: retained 8 rows\n",
      "Chunk 171: retained 0 rows\n",
      "Chunk 172: retained 0 rows\n",
      "Chunk 173: retained 0 rows\n",
      "Chunk 174: retained 0 rows\n",
      "Chunk 175: retained 0 rows\n",
      "Chunk 176: retained 0 rows\n",
      "Chunk 177: retained 0 rows\n",
      "Chunk 178: retained 0 rows\n",
      "Chunk 179: retained 0 rows\n",
      "Chunk 180: retained 0 rows\n",
      "Chunk 181: retained 0 rows\n",
      "Chunk 182: retained 0 rows\n",
      "Chunk 183: retained 0 rows\n",
      "Chunk 184: retained 0 rows\n",
      "Chunk 185: retained 0 rows\n",
      "Chunk 186: retained 0 rows\n",
      "Chunk 187: retained 0 rows\n",
      "Chunk 188: retained 0 rows\n",
      "Chunk 189: retained 0 rows\n",
      "Chunk 190: retained 0 rows\n",
      "Chunk 191: retained 0 rows\n",
      "Chunk 192: retained 0 rows\n",
      "Chunk 193: retained 0 rows\n",
      "Chunk 194: retained 0 rows\n",
      "Chunk 195: retained 0 rows\n",
      "Chunk 196: retained 0 rows\n",
      "Chunk 197: retained 0 rows\n",
      "Chunk 198: retained 0 rows\n",
      "Chunk 199: retained 0 rows\n",
      "Chunk 200: retained 0 rows\n",
      "Chunk 201: retained 3085 rows\n",
      "Chunk 202: retained 1581 rows\n",
      "\n",
      "Total rows after filtering: 27109\n"
     ]
    }
   ],
   "source": [
    "# Define columns to read upfront\n",
    "colonnes_a_lire = [\n",
    "    'date_mutation',\n",
    "    'valeur_fonciere',\n",
    "    'code_postal',\n",
    "    'type_local',\n",
    "    'surface_reelle_bati',\n",
    "    'nombre_pieces_principales',\n",
    "    'longitude',\n",
    "    'latitude',\n",
    "    'adresse_nom_voie',\n",
    "    'nom_commune'\n",
    "]\n",
    "\n",
    "# Process CSV in chunks\n",
    "chunk_size = 100000\n",
    "filtered_chunks = []\n",
    "\n",
    "print(\"Processing DVF file in chunks...\")\n",
    "for i, chunk in enumerate(pd.read_csv('dvf.csv', \n",
    "                                       usecols=colonnes_a_lire,\n",
    "                                       chunksize=chunk_size,\n",
    "                                       low_memory=False)):\n",
    "    \n",
    "    # Drop NaN values and create explicit copy\n",
    "    chunk = chunk.dropna(subset=['valeur_fonciere', 'surface_reelle_bati', \n",
    "                                  'nombre_pieces_principales',\n",
    "                                  'latitude', 'longitude']).copy()\n",
    "    \n",
    "    # Convert date\n",
    "    chunk['date_mutation'] = pd.to_datetime(chunk['date_mutation'], errors='coerce')\n",
    "    \n",
    "    # Filter by type_local\n",
    "    chunk = chunk[chunk['type_local'] == 'Local industriel. commercial ou assimilé'].copy()\n",
    "    \n",
    "    # Filter Paris postal codes\n",
    "    chunk = chunk[chunk['code_postal'].astype(str).str.startswith('75')].copy()\n",
    "    \n",
    "    if len(chunk) > 0:\n",
    "        filtered_chunks.append(chunk)\n",
    "    \n",
    "    print(f\"Chunk {i+1}: retained {len(chunk)} rows\")\n",
    "\n",
    "# Combine all filtered chunks\n",
    "df = pd.concat(filtered_chunks, ignore_index=True)\n",
    "print(f\"\\nTotal rows after filtering: {len(df)}\")"
   ]
  },
  {
   "cell_type": "markdown",
   "id": "5a3b2564",
   "metadata": {},
   "source": [
    "##### On vérifie si les colonnes restantes contiennent des valeurs NaN"
   ]
  },
  {
   "cell_type": "code",
   "execution_count": 30,
   "id": "2176c7c4",
   "metadata": {},
   "outputs": [
    {
     "data": {
      "text/plain": [
       "date_mutation                0\n",
       "valeur_fonciere              0\n",
       "adresse_nom_voie             0\n",
       "code_postal                  0\n",
       "nom_commune                  0\n",
       "type_local                   0\n",
       "surface_reelle_bati          0\n",
       "nombre_pieces_principales    0\n",
       "longitude                    0\n",
       "latitude                     0\n",
       "dtype: int64"
      ]
     },
     "execution_count": 30,
     "metadata": {},
     "output_type": "execute_result"
    }
   ],
   "source": [
    "df.isna().sum()"
   ]
  },
  {
   "cell_type": "markdown",
   "id": "b8c8efc2",
   "metadata": {},
   "source": [
    "##### Puis on retire du dataframe la colonne \"type_local\""
   ]
  },
  {
   "cell_type": "code",
   "execution_count": 31,
   "id": "ede05669",
   "metadata": {},
   "outputs": [],
   "source": [
    "df = df.drop('type_local', axis=1)"
   ]
  },
  {
   "cell_type": "markdown",
   "id": "eb650033",
   "metadata": {},
   "source": [
    "##### Création d'une feature prix m²"
   ]
  },
  {
   "cell_type": "code",
   "execution_count": 32,
   "id": "5a3e6c8d",
   "metadata": {},
   "outputs": [],
   "source": [
    "df['prix_m2'] = df['valeur_fonciere'] / df['surface_reelle_bati']"
   ]
  },
  {
   "cell_type": "markdown",
   "id": "3487239b",
   "metadata": {},
   "source": [
    "##### On supprime les valeurs aberrantes au m²"
   ]
  },
  {
   "cell_type": "code",
   "execution_count": 33,
   "id": "cb8fa493",
   "metadata": {},
   "outputs": [],
   "source": [
    "df = df[(df['prix_m2'] > 500) & (df['prix_m2'] < 50000)]"
   ]
  },
  {
   "cell_type": "markdown",
   "id": "fe01d335",
   "metadata": {},
   "source": [
    "##### Extraction de l'arrondissement (normalisation de code_postal)"
   ]
  },
  {
   "cell_type": "code",
   "execution_count": 34,
   "id": "d25f2691",
   "metadata": {},
   "outputs": [],
   "source": [
    "df['code_postal'] = df['code_postal'].astype(int).astype(str).str.zfill(5)\n",
    "df['arrondissement'] = pd.to_numeric(df['code_postal'].str[-2:], errors='coerce')\n",
    "df.loc[~df['arrondissement'].between(1,20), 'arrondissement'] = np.nan\n",
    "df['arrondissement'] = df['arrondissement'].dropna().astype(int)"
   ]
  },
  {
   "cell_type": "markdown",
   "id": "47ea6013",
   "metadata": {},
   "source": [
    "##### On supprime la colonne code_postal (c'est toujours Paris)"
   ]
  },
  {
   "cell_type": "code",
   "execution_count": 35,
   "id": "3bd761f9",
   "metadata": {},
   "outputs": [],
   "source": [
    "df = df.drop('code_postal', axis=1)"
   ]
  },
  {
   "cell_type": "markdown",
   "id": "f81df050",
   "metadata": {},
   "source": [
    "##### Certains noms de communes ne sont pas Paris, il faut donc les supprimer"
   ]
  },
  {
   "cell_type": "code",
   "execution_count": 36,
   "id": "1ee29ff1",
   "metadata": {},
   "outputs": [
    {
     "data": {
      "text/plain": [
       "(17586, 10)"
      ]
     },
     "execution_count": 36,
     "metadata": {},
     "output_type": "execute_result"
    }
   ],
   "source": [
    "df = df[df['nom_commune'].str.startswith('Paris')]\n",
    "df.shape"
   ]
  },
  {
   "cell_type": "markdown",
   "id": "7693ffeb",
   "metadata": {},
   "source": [
    "# Nettoyage BDD Loyer"
   ]
  },
  {
   "cell_type": "code",
   "execution_count": 37,
   "id": "72a6ec93",
   "metadata": {},
   "outputs": [],
   "source": [
    "loyer_df = pd.read_csv(\"loyers.csv\", sep=';', encoding='utf-8')"
   ]
  },
  {
   "cell_type": "markdown",
   "id": "90886a6a",
   "metadata": {},
   "source": [
    "##### On supprime les colonnes inutiles"
   ]
  },
  {
   "cell_type": "code",
   "execution_count": 38,
   "id": "0aee5a01",
   "metadata": {},
   "outputs": [],
   "source": [
    "colonnes_a_supprimer = [\"Secteurs géographiques\", \"Numéro du quartier\", \"Ville\",\"geo_shape\"]\n",
    "loyer_df = loyer_df.drop(columns=colonnes_a_supprimer, errors='ignore')"
   ]
  },
  {
   "cell_type": "markdown",
   "id": "9355f62e",
   "metadata": {},
   "source": [
    "##### Le dataframe ne contient pas de valeurs NaN ou null, ni de doublons"
   ]
  },
  {
   "cell_type": "markdown",
   "id": "9a16127d",
   "metadata": {},
   "source": [
    "##### Nettoyage des coordonnées GPS (format \"lat, lon\")"
   ]
  },
  {
   "cell_type": "code",
   "execution_count": 39,
   "id": "7f58b1c1",
   "metadata": {},
   "outputs": [],
   "source": [
    "loyer_df[['lat', 'lon']] = loyer_df['geo_point_2d'].str.split(',', expand=True)\n",
    "loyer_df['lat'] = loyer_df['lat'].astype(float)\n",
    "loyer_df['lon'] = loyer_df['lon'].astype(float)"
   ]
  },
  {
   "cell_type": "markdown",
   "id": "e2e3f6e6",
   "metadata": {},
   "source": [
    "##### Suppression de la colonne 'geo_point_2d'"
   ]
  },
  {
   "cell_type": "code",
   "execution_count": 40,
   "id": "ad8b572f",
   "metadata": {},
   "outputs": [],
   "source": [
    "loyer_df = loyer_df.drop('geo_point_2d', axis=1)"
   ]
  },
  {
   "cell_type": "code",
   "execution_count": 41,
   "id": "07f4754d",
   "metadata": {},
   "outputs": [
    {
     "data": {
      "text/html": [
       "<div>\n",
       "<style scoped>\n",
       "    .dataframe tbody tr th:only-of-type {\n",
       "        vertical-align: middle;\n",
       "    }\n",
       "\n",
       "    .dataframe tbody tr th {\n",
       "        vertical-align: top;\n",
       "    }\n",
       "\n",
       "    .dataframe thead th {\n",
       "        text-align: right;\n",
       "    }\n",
       "</style>\n",
       "<table border=\"1\" class=\"dataframe\">\n",
       "  <thead>\n",
       "    <tr style=\"text-align: right;\">\n",
       "      <th></th>\n",
       "      <th>date_mutation</th>\n",
       "      <th>valeur_fonciere</th>\n",
       "      <th>adresse_nom_voie</th>\n",
       "      <th>nom_commune</th>\n",
       "      <th>surface_reelle_bati</th>\n",
       "      <th>nombre_pieces_principales</th>\n",
       "      <th>longitude</th>\n",
       "      <th>latitude</th>\n",
       "      <th>prix_m2</th>\n",
       "      <th>arrondissement</th>\n",
       "    </tr>\n",
       "  </thead>\n",
       "  <tbody>\n",
       "    <tr>\n",
       "      <th>26</th>\n",
       "      <td>2020-01-06</td>\n",
       "      <td>878378.0</td>\n",
       "      <td>BD DE LA MADELEINE</td>\n",
       "      <td>Paris 1er Arrondissement</td>\n",
       "      <td>43.0</td>\n",
       "      <td>0.0</td>\n",
       "      <td>2.326882</td>\n",
       "      <td>48.869331</td>\n",
       "      <td>20427.395349</td>\n",
       "      <td>1.0</td>\n",
       "    </tr>\n",
       "    <tr>\n",
       "      <th>27</th>\n",
       "      <td>2020-01-13</td>\n",
       "      <td>475000.0</td>\n",
       "      <td>RUE DE WASHINGTON</td>\n",
       "      <td>Paris 8e Arrondissement</td>\n",
       "      <td>50.0</td>\n",
       "      <td>0.0</td>\n",
       "      <td>2.301658</td>\n",
       "      <td>48.872630</td>\n",
       "      <td>9500.000000</td>\n",
       "      <td>8.0</td>\n",
       "    </tr>\n",
       "    <tr>\n",
       "      <th>28</th>\n",
       "      <td>2020-01-03</td>\n",
       "      <td>800000.0</td>\n",
       "      <td>BD DE SEBASTOPOL</td>\n",
       "      <td>Paris 3e Arrondissement</td>\n",
       "      <td>125.0</td>\n",
       "      <td>0.0</td>\n",
       "      <td>2.351054</td>\n",
       "      <td>48.863055</td>\n",
       "      <td>6400.000000</td>\n",
       "      <td>3.0</td>\n",
       "    </tr>\n",
       "    <tr>\n",
       "      <th>29</th>\n",
       "      <td>2020-01-06</td>\n",
       "      <td>710000.0</td>\n",
       "      <td>RUE SAINT HONORE</td>\n",
       "      <td>Paris 1er Arrondissement</td>\n",
       "      <td>30.0</td>\n",
       "      <td>0.0</td>\n",
       "      <td>2.326348</td>\n",
       "      <td>48.866939</td>\n",
       "      <td>23666.666667</td>\n",
       "      <td>1.0</td>\n",
       "    </tr>\n",
       "    <tr>\n",
       "      <th>31</th>\n",
       "      <td>2020-01-09</td>\n",
       "      <td>17400000.0</td>\n",
       "      <td>RUE DU FAUBOURG SAINT HONORE</td>\n",
       "      <td>Paris 8e Arrondissement</td>\n",
       "      <td>387.0</td>\n",
       "      <td>0.0</td>\n",
       "      <td>2.309755</td>\n",
       "      <td>48.873496</td>\n",
       "      <td>44961.240310</td>\n",
       "      <td>8.0</td>\n",
       "    </tr>\n",
       "  </tbody>\n",
       "</table>\n",
       "</div>"
      ],
      "text/plain": [
       "   date_mutation  valeur_fonciere              adresse_nom_voie  \\\n",
       "26    2020-01-06         878378.0            BD DE LA MADELEINE   \n",
       "27    2020-01-13         475000.0             RUE DE WASHINGTON   \n",
       "28    2020-01-03         800000.0              BD DE SEBASTOPOL   \n",
       "29    2020-01-06         710000.0              RUE SAINT HONORE   \n",
       "31    2020-01-09       17400000.0  RUE DU FAUBOURG SAINT HONORE   \n",
       "\n",
       "                 nom_commune  surface_reelle_bati  nombre_pieces_principales  \\\n",
       "26  Paris 1er Arrondissement                 43.0                        0.0   \n",
       "27   Paris 8e Arrondissement                 50.0                        0.0   \n",
       "28   Paris 3e Arrondissement                125.0                        0.0   \n",
       "29  Paris 1er Arrondissement                 30.0                        0.0   \n",
       "31   Paris 8e Arrondissement                387.0                        0.0   \n",
       "\n",
       "    longitude   latitude       prix_m2  arrondissement  \n",
       "26   2.326882  48.869331  20427.395349             1.0  \n",
       "27   2.301658  48.872630   9500.000000             8.0  \n",
       "28   2.351054  48.863055   6400.000000             3.0  \n",
       "29   2.326348  48.866939  23666.666667             1.0  \n",
       "31   2.309755  48.873496  44961.240310             8.0  "
      ]
     },
     "execution_count": 41,
     "metadata": {},
     "output_type": "execute_result"
    }
   ],
   "source": [
    "df.head()"
   ]
  },
  {
   "cell_type": "markdown",
   "id": "02c443ce",
   "metadata": {},
   "source": [
    "# Jointure du dataframe des deux dataframes"
   ]
  },
  {
   "cell_type": "code",
   "execution_count": 42,
   "id": "27bd41dd",
   "metadata": {},
   "outputs": [],
   "source": [
    "from scipy.spatial import cKDTree"
   ]
  },
  {
   "cell_type": "code",
   "execution_count": 43,
   "id": "14155fa9",
   "metadata": {},
   "outputs": [],
   "source": [
    "coords_quartiers = loyer_df[['lat', 'lon']].values\n",
    "tree = cKDTree(coords_quartiers)"
   ]
  },
  {
   "cell_type": "code",
   "execution_count": 44,
   "id": "358a0be0",
   "metadata": {},
   "outputs": [],
   "source": [
    "coords_dvf = df[['latitude', 'longitude']].values"
   ]
  },
  {
   "cell_type": "code",
   "execution_count": 45,
   "id": "d96cb02d",
   "metadata": {},
   "outputs": [],
   "source": [
    "distances, indices = tree.query(coords_dvf)"
   ]
  },
  {
   "cell_type": "markdown",
   "id": "6797c496",
   "metadata": {},
   "source": [
    "#### Ajouter les colonnes au DataFrame DVF"
   ]
  },
  {
   "cell_type": "code",
   "execution_count": 46,
   "id": "e073df24",
   "metadata": {},
   "outputs": [],
   "source": [
    "df['quartier'] = loyer_df.iloc[indices]['Nom du quartier'].values\n",
    "df['numero_insee_quartier'] = loyer_df.iloc[indices]['Numéro INSEE du quartier'].values\n",
    "df['loyer_ref_m2'] = loyer_df.iloc[indices]['Loyers de référence'].values\n",
    "df['loyer_majore_m2'] = loyer_df.iloc[indices]['Loyers de référence majorés'].values\n",
    "df['loyer_minore_m2'] = loyer_df.iloc[indices]['Loyers de référence minorés'].values\n",
    "df['distance_quartier_m'] = distances * 111000  # Conversion approximative en mètres"
   ]
  },
  {
   "cell_type": "markdown",
   "id": "160885de",
   "metadata": {},
   "source": [
    "#### Checking s'il y a pas des lignes ou le quartier est loin de la réalité"
   ]
  },
  {
   "cell_type": "code",
   "execution_count": 47,
   "id": "eb9f868f",
   "metadata": {},
   "outputs": [],
   "source": [
    "df = df[df['distance_quartier_m'] <= 1000]"
   ]
  },
  {
   "cell_type": "code",
   "execution_count": 48,
   "id": "ac7ce757",
   "metadata": {},
   "outputs": [
    {
     "data": {
      "text/html": [
       "<div>\n",
       "<style scoped>\n",
       "    .dataframe tbody tr th:only-of-type {\n",
       "        vertical-align: middle;\n",
       "    }\n",
       "\n",
       "    .dataframe tbody tr th {\n",
       "        vertical-align: top;\n",
       "    }\n",
       "\n",
       "    .dataframe thead th {\n",
       "        text-align: right;\n",
       "    }\n",
       "</style>\n",
       "<table border=\"1\" class=\"dataframe\">\n",
       "  <thead>\n",
       "    <tr style=\"text-align: right;\">\n",
       "      <th></th>\n",
       "      <th>date_mutation</th>\n",
       "      <th>valeur_fonciere</th>\n",
       "      <th>adresse_nom_voie</th>\n",
       "      <th>nom_commune</th>\n",
       "      <th>surface_reelle_bati</th>\n",
       "      <th>nombre_pieces_principales</th>\n",
       "      <th>longitude</th>\n",
       "      <th>latitude</th>\n",
       "      <th>prix_m2</th>\n",
       "      <th>arrondissement</th>\n",
       "      <th>quartier</th>\n",
       "      <th>numero_insee_quartier</th>\n",
       "      <th>loyer_ref_m2</th>\n",
       "      <th>loyer_majore_m2</th>\n",
       "      <th>loyer_minore_m2</th>\n",
       "      <th>distance_quartier_m</th>\n",
       "    </tr>\n",
       "  </thead>\n",
       "  <tbody>\n",
       "    <tr>\n",
       "      <th>26</th>\n",
       "      <td>2020-01-06</td>\n",
       "      <td>878378.0</td>\n",
       "      <td>BD DE LA MADELEINE</td>\n",
       "      <td>Paris 1er Arrondissement</td>\n",
       "      <td>43.0</td>\n",
       "      <td>0.0</td>\n",
       "      <td>2.326882</td>\n",
       "      <td>48.869331</td>\n",
       "      <td>20427.395349</td>\n",
       "      <td>1.0</td>\n",
       "      <td>Place-Vendôme</td>\n",
       "      <td>7510104</td>\n",
       "      <td>29.3</td>\n",
       "      <td>35.16</td>\n",
       "      <td>20.51</td>\n",
       "      <td>318.554490</td>\n",
       "    </tr>\n",
       "    <tr>\n",
       "      <th>27</th>\n",
       "      <td>2020-01-13</td>\n",
       "      <td>475000.0</td>\n",
       "      <td>RUE DE WASHINGTON</td>\n",
       "      <td>Paris 8e Arrondissement</td>\n",
       "      <td>50.0</td>\n",
       "      <td>0.0</td>\n",
       "      <td>2.301658</td>\n",
       "      <td>48.872630</td>\n",
       "      <td>9500.000000</td>\n",
       "      <td>8.0</td>\n",
       "      <td>Faubourg-du-Roule</td>\n",
       "      <td>7510830</td>\n",
       "      <td>22.8</td>\n",
       "      <td>27.40</td>\n",
       "      <td>16.00</td>\n",
       "      <td>320.218020</td>\n",
       "    </tr>\n",
       "    <tr>\n",
       "      <th>28</th>\n",
       "      <td>2020-01-03</td>\n",
       "      <td>800000.0</td>\n",
       "      <td>BD DE SEBASTOPOL</td>\n",
       "      <td>Paris 3e Arrondissement</td>\n",
       "      <td>125.0</td>\n",
       "      <td>0.0</td>\n",
       "      <td>2.351054</td>\n",
       "      <td>48.863055</td>\n",
       "      <td>6400.000000</td>\n",
       "      <td>3.0</td>\n",
       "      <td>Sainte-Avoie</td>\n",
       "      <td>7510312</td>\n",
       "      <td>31.8</td>\n",
       "      <td>38.16</td>\n",
       "      <td>22.26</td>\n",
       "      <td>425.130070</td>\n",
       "    </tr>\n",
       "    <tr>\n",
       "      <th>29</th>\n",
       "      <td>2020-01-06</td>\n",
       "      <td>710000.0</td>\n",
       "      <td>RUE SAINT HONORE</td>\n",
       "      <td>Paris 1er Arrondissement</td>\n",
       "      <td>30.0</td>\n",
       "      <td>0.0</td>\n",
       "      <td>2.326348</td>\n",
       "      <td>48.866939</td>\n",
       "      <td>23666.666667</td>\n",
       "      <td>1.0</td>\n",
       "      <td>Place-Vendôme</td>\n",
       "      <td>7510104</td>\n",
       "      <td>29.3</td>\n",
       "      <td>35.16</td>\n",
       "      <td>20.51</td>\n",
       "      <td>248.094155</td>\n",
       "    </tr>\n",
       "    <tr>\n",
       "      <th>31</th>\n",
       "      <td>2020-01-09</td>\n",
       "      <td>17400000.0</td>\n",
       "      <td>RUE DU FAUBOURG SAINT HONORE</td>\n",
       "      <td>Paris 8e Arrondissement</td>\n",
       "      <td>387.0</td>\n",
       "      <td>0.0</td>\n",
       "      <td>2.309755</td>\n",
       "      <td>48.873496</td>\n",
       "      <td>44961.240310</td>\n",
       "      <td>8.0</td>\n",
       "      <td>Faubourg-du-Roule</td>\n",
       "      <td>7510830</td>\n",
       "      <td>22.8</td>\n",
       "      <td>27.40</td>\n",
       "      <td>16.00</td>\n",
       "      <td>629.632252</td>\n",
       "    </tr>\n",
       "  </tbody>\n",
       "</table>\n",
       "</div>"
      ],
      "text/plain": [
       "   date_mutation  valeur_fonciere              adresse_nom_voie  \\\n",
       "26    2020-01-06         878378.0            BD DE LA MADELEINE   \n",
       "27    2020-01-13         475000.0             RUE DE WASHINGTON   \n",
       "28    2020-01-03         800000.0              BD DE SEBASTOPOL   \n",
       "29    2020-01-06         710000.0              RUE SAINT HONORE   \n",
       "31    2020-01-09       17400000.0  RUE DU FAUBOURG SAINT HONORE   \n",
       "\n",
       "                 nom_commune  surface_reelle_bati  nombre_pieces_principales  \\\n",
       "26  Paris 1er Arrondissement                 43.0                        0.0   \n",
       "27   Paris 8e Arrondissement                 50.0                        0.0   \n",
       "28   Paris 3e Arrondissement                125.0                        0.0   \n",
       "29  Paris 1er Arrondissement                 30.0                        0.0   \n",
       "31   Paris 8e Arrondissement                387.0                        0.0   \n",
       "\n",
       "    longitude   latitude       prix_m2  arrondissement           quartier  \\\n",
       "26   2.326882  48.869331  20427.395349             1.0      Place-Vendôme   \n",
       "27   2.301658  48.872630   9500.000000             8.0  Faubourg-du-Roule   \n",
       "28   2.351054  48.863055   6400.000000             3.0       Sainte-Avoie   \n",
       "29   2.326348  48.866939  23666.666667             1.0      Place-Vendôme   \n",
       "31   2.309755  48.873496  44961.240310             8.0  Faubourg-du-Roule   \n",
       "\n",
       "    numero_insee_quartier  loyer_ref_m2  loyer_majore_m2  loyer_minore_m2  \\\n",
       "26                7510104          29.3            35.16            20.51   \n",
       "27                7510830          22.8            27.40            16.00   \n",
       "28                7510312          31.8            38.16            22.26   \n",
       "29                7510104          29.3            35.16            20.51   \n",
       "31                7510830          22.8            27.40            16.00   \n",
       "\n",
       "    distance_quartier_m  \n",
       "26           318.554490  \n",
       "27           320.218020  \n",
       "28           425.130070  \n",
       "29           248.094155  \n",
       "31           629.632252  "
      ]
     },
     "execution_count": 48,
     "metadata": {},
     "output_type": "execute_result"
    }
   ],
   "source": [
    "df.head()"
   ]
  },
  {
   "cell_type": "code",
   "execution_count": 49,
   "id": "33c4e2c9",
   "metadata": {},
   "outputs": [
    {
     "data": {
      "text/plain": [
       "nombre_pieces_principales\n",
       "0.0    16486\n",
       "Name: count, dtype: int64"
      ]
     },
     "execution_count": 49,
     "metadata": {},
     "output_type": "execute_result"
    }
   ],
   "source": [
    "df['nombre_pieces_principales'].value_counts()"
   ]
  },
  {
   "cell_type": "markdown",
   "id": "273964eb",
   "metadata": {},
   "source": [
    "#### Création du fichier final dvf_loyers.csv"
   ]
  },
  {
   "cell_type": "code",
   "execution_count": 50,
   "id": "6efefa71",
   "metadata": {},
   "outputs": [
    {
     "data": {
      "text/plain": [
       "(16486, 16)"
      ]
     },
     "execution_count": 50,
     "metadata": {},
     "output_type": "execute_result"
    }
   ],
   "source": [
    "df.to_csv(\"dvf_loyers.csv\", sep=\";\", encoding=\"utf-8\", index=False)\n",
    "df.shape"
   ]
  }
 ],
 "metadata": {
  "kernelspec": {
   "display_name": "base",
   "language": "python",
   "name": "python3"
  },
  "language_info": {
   "codemirror_mode": {
    "name": "ipython",
    "version": 3
   },
   "file_extension": ".py",
   "mimetype": "text/x-python",
   "name": "python",
   "nbconvert_exporter": "python",
   "pygments_lexer": "ipython3",
   "version": "3.13.5"
  }
 },
 "nbformat": 4,
 "nbformat_minor": 5
}
