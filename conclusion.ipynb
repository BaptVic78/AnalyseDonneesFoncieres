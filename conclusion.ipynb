{
 "cells": [
  {
   "cell_type": "code",
   "execution_count": 3,
   "id": "b43ca240",
   "metadata": {},
   "outputs": [
    {
     "name": "stdout",
     "output_type": "stream",
     "text": [
      "================================================================================\n",
      "                     SIMULATEUR D'INVESTISSEMENT IMMOBILIER                     \n",
      "                    Données DVF + Loyers de référence Paris                     \n",
      "================================================================================\n",
      "\n"
     ]
    },
    {
     "data": {
      "application/vnd.jupyter.widget-view+json": {
       "model_id": "c5c4a5191603436296adc6d4040ffb5b",
       "version_major": 2,
       "version_minor": 0
      },
      "text/plain": [
       "Dropdown(description='Bien:', layout=Layout(width='90%'), options=(('PAS BASFOUR, Paris 2e Arrondissement - 17…"
      ]
     },
     "metadata": {},
     "output_type": "display_data"
    },
    {
     "data": {
      "application/vnd.jupyter.widget-view+json": {
       "model_id": "467d3b4538934a389ef7c0b115362b21",
       "version_major": 2,
       "version_minor": 0
      },
      "text/plain": [
       "IntSlider(value=50000, description='Apport (€):', layout=Layout(width='80%'), max=500000, step=5000, style=Sli…"
      ]
     },
     "metadata": {},
     "output_type": "display_data"
    },
    {
     "data": {
      "application/vnd.jupyter.widget-view+json": {
       "model_id": "a674f6bd0007456c90b3fd901af507e4",
       "version_major": 2,
       "version_minor": 0
      },
      "text/plain": [
       "FloatSlider(value=3.5, description='Taux prêt (%):', layout=Layout(width='80%'), max=6.0, min=0.5, style=Slide…"
      ]
     },
     "metadata": {},
     "output_type": "display_data"
    },
    {
     "data": {
      "application/vnd.jupyter.widget-view+json": {
       "model_id": "3f7df139813143c18fe8d4ff12ec4d7f",
       "version_major": 2,
       "version_minor": 0
      },
      "text/plain": [
       "IntSlider(value=25, description='Durée (années):', layout=Layout(width='80%'), max=30, min=5, style=SliderStyl…"
      ]
     },
     "metadata": {},
     "output_type": "display_data"
    },
    {
     "data": {
      "application/vnd.jupyter.widget-view+json": {
       "model_id": "ab6eb02c7d784813bedc3453a11a7af0",
       "version_major": 2,
       "version_minor": 0
      },
      "text/plain": [
       "Output()"
      ]
     },
     "metadata": {},
     "output_type": "display_data"
    }
   ],
   "source": [
    "import pandas as pd\n",
    "import ipywidgets as widgets\n",
    "from IPython.display import display, clear_output\n",
    "import numpy as np\n",
    "\n",
    "# Charger les données\n",
    "df = pd.read_csv('dvf_loyers.csv', sep=';')\n",
    "\n",
    "# Nettoyer les données\n",
    "df = df.dropna(subset=['valeur_fonciere', 'surface_reelle_bati', 'loyer_ref_m2'])\n",
    "df = df[df['surface_reelle_bati'] > 0]\n",
    "df = df[df['loyer_ref_m2'] > 0]\n",
    "\n",
    "# Créer la liste des biens pour le dropdown\n",
    "df['bien_label'] = df.apply(\n",
    "    lambda row: f\"{row['adresse_nom_voie']}, {row['nom_commune']} - {row['valeur_fonciere']:,.0f}€ - {row['surface_reelle_bati']:.0f}m²\",\n",
    "    axis=1\n",
    ")\n",
    "\n",
    "# Widgets pour les paramètres\n",
    "bien_selector = widgets.Dropdown(\n",
    "    options=list(zip(df['bien_label'], df.index)),\n",
    "    description='Bien:',\n",
    "    style={'description_width': '150px'},\n",
    "    layout=widgets.Layout(width='90%')\n",
    ")\n",
    "\n",
    "apport_slider = widgets.IntSlider(\n",
    "    value=50000,\n",
    "    min=0,\n",
    "    max=500000,\n",
    "    step=5000,\n",
    "    description='Apport (€):',\n",
    "    style={'description_width': '150px'},\n",
    "    layout=widgets.Layout(width='80%')\n",
    ")\n",
    "\n",
    "taux_slider = widgets.FloatSlider(\n",
    "    value=3.5,\n",
    "    min=0.5,\n",
    "    max=6.0,\n",
    "    step=0.1,\n",
    "    description='Taux prêt (%):',\n",
    "    style={'description_width': '150px'},\n",
    "    layout=widgets.Layout(width='80%')\n",
    ")\n",
    "\n",
    "duree_slider = widgets.IntSlider(\n",
    "    value=25,\n",
    "    min=5,\n",
    "    max=30,\n",
    "    step=1,\n",
    "    description='Durée (années):',\n",
    "    style={'description_width': '150px'},\n",
    "    layout=widgets.Layout(width='80%')\n",
    ")\n",
    "\n",
    "output = widgets.Output()\n",
    "\n",
    "def calculer_mensualite(capital, taux_annuel, duree_annees):\n",
    "    \"\"\"Calcule la mensualité d'un prêt\"\"\"\n",
    "    if capital <= 0:\n",
    "        return 0\n",
    "    taux_mensuel = taux_annuel / 100 / 12\n",
    "    nb_mois = duree_annees * 12\n",
    "    if taux_mensuel == 0:\n",
    "        return capital / nb_mois\n",
    "    mensualite = capital * (taux_mensuel * (1 + taux_mensuel)**nb_mois) / ((1 + taux_mensuel)**nb_mois - 1)\n",
    "    return mensualite\n",
    "\n",
    "def afficher_resultats(change=None):\n",
    "    \"\"\"Affiche les résultats de la simulation\"\"\"\n",
    "    with output:\n",
    "        clear_output(wait=True)\n",
    "        \n",
    "        # Récupérer le bien sélectionné\n",
    "        idx = bien_selector.value\n",
    "        bien = df.loc[idx]\n",
    "        \n",
    "        # Paramètres de financement\n",
    "        prix_achat = bien['valeur_fonciere']\n",
    "        apport = apport_slider.value\n",
    "        taux = taux_slider.value\n",
    "        duree = duree_slider.value\n",
    "        \n",
    "        # Calculs\n",
    "        montant_emprunte = max(0, prix_achat - apport)\n",
    "        mensualite_pret = calculer_mensualite(montant_emprunte, taux, duree)\n",
    "        cout_total = mensualite_pret * duree * 12\n",
    "        cout_credit = cout_total - montant_emprunte\n",
    "        \n",
    "        # Calculs des loyers\n",
    "        surface = bien['surface_reelle_bati']\n",
    "        loyer_estime = surface * bien['loyer_ref_m2']\n",
    "        loyer_majore = surface * bien['loyer_majore_m2']\n",
    "        loyer_minore = surface * bien['loyer_minore_m2']\n",
    "        \n",
    "        # Charges estimées (25% du loyer)\n",
    "        charges_estimees = loyer_estime * 0.25\n",
    "        \n",
    "        # Cash-flow\n",
    "        cashflow_net = loyer_estime - mensualite_pret - charges_estimees\n",
    "        \n",
    "        # Rendements\n",
    "        rendement_brut = (loyer_estime * 12 / prix_achat) * 100\n",
    "        rendement_net = ((loyer_estime - charges_estimees) * 12 / prix_achat) * 100\n",
    "        \n",
    "        # Affichage formaté\n",
    "        print(\"\\n\" + \"-\"*80)\n",
    "        print(\"FINANCEMENT\")\n",
    "        print(\"-\"*80)\n",
    "        print(f\"Apport personnel:    {apport:>15,.0f} € ({apport/prix_achat*100:.1f}%)\")\n",
    "        print(f\"Montant emprunté:    {montant_emprunte:>15,.0f} €\")\n",
    "        print(f\"Coût total crédit:   {cout_total:>15,.0f} €\")\n",
    "        print(f\"Mensualité:          {mensualite_pret:>15,.0f} €/mois\")\n",
    "\n",
    "        print(\"\\n\" + \"-\"*80)\n",
    "        print(\"LOYERS ET RENTABILITE\")\n",
    "        print(\"-\"*80)\n",
    "        print(f\"Loyer MINORE:        {loyer_minore:>15,.0f} €/mois\")\n",
    "        print(f\"Loyer REFERENCE:     {loyer_estime:>15,.0f} €/mois\")\n",
    "        print(f\"Loyer MAJORE:        {loyer_majore:>15,.0f} €/mois\\n\")\n",
    "\n",
    "        print(f\"Loyer estimé:        {loyer_estime:>15,.0f} €/mois\")\n",
    "        print(f\"Loyer annuel:        {loyer_estime*12:>15,.0f} €\")\n",
    "        print(f\"Loyer/m²:            {bien['loyer_ref_m2']:>15.2f} €\")\n",
    "        print(f\"Charges estimées:    {charges_estimees:>15,.0f} €/mois (25%)\")\n",
    "        print(f\"(a la charge du locataire)\")\n",
    "        \n",
    "        cashflow_status = \"POSITIF\" if cashflow_net >= 0 else \"NEGATIF\"\n",
    "        print(f\"\\nCash-flow net:       {cashflow_net:>15,.0f} €/mois ({cashflow_status})\")\n",
    "        \n",
    "        print(f\"\\nRendement brut bien:      {rendement_brut:>15.2f} %\")\n",
    "        print(f\"Rendement net:       {rendement_net:>15.2f} %\")\n",
    "        \n",
    "\n",
    "# Observer les changements\n",
    "bien_selector.observe(afficher_resultats, names='value')\n",
    "apport_slider.observe(afficher_resultats, names='value')\n",
    "taux_slider.observe(afficher_resultats, names='value')\n",
    "duree_slider.observe(afficher_resultats, names='value')\n",
    "\n",
    "# Interface\n",
    "print(\"=\"*80)\n",
    "print(\"SIMULATEUR D'INVESTISSEMENT IMMOBILIER\".center(80))\n",
    "print(\"Données DVF + Loyers de référence Paris\".center(80))\n",
    "print(\"=\"*80)\n",
    "print()\n",
    "\n",
    "display(bien_selector)\n",
    "display(apport_slider)\n",
    "display(taux_slider)\n",
    "display(duree_slider)\n",
    "display(output)\n",
    "\n",
    "# Affichage initial\n",
    "afficher_resultats()"
   ]
  }
 ],
 "metadata": {
  "kernelspec": {
   "display_name": "base",
   "language": "python",
   "name": "python3"
  },
  "language_info": {
   "codemirror_mode": {
    "name": "ipython",
    "version": 3
   },
   "file_extension": ".py",
   "mimetype": "text/x-python",
   "name": "python",
   "nbconvert_exporter": "python",
   "pygments_lexer": "ipython3",
   "version": "3.13.5"
  }
 },
 "nbformat": 4,
 "nbformat_minor": 5
}
