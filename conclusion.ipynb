{
 "cells": [
  {
   "cell_type": "code",
   "execution_count": 1,
   "id": "17e6f060",
   "metadata": {},
   "outputs": [],
   "source": [
    "import pandas as pd\n",
    "import ipywidgets as widgets\n",
    "from IPython.display import display, clear_output\n",
    "import numpy as np\n",
    "\n",
    "\n",
    "# Charger les données (assurez-vous que le fichier 'dvf_loyers.csv' est dans le même dossier)\n",
    "# Si le fichier n'est pas trouvé, une erreur sera levée.\n",
    "try:\n",
    "    df = pd.read_csv('dvf_loyers.csv', sep=';')\n",
    "except FileNotFoundError:\n",
    "    print(\"Erreur: Le fichier 'dvf_loyers.csv' est introuvable.\")\n",
    "    print(\"Veuillez vous assurer que le fichier est dans le même répertoire que votre notebook.\")\n",
    "    # Crée un DataFrame vide pour éviter d'autres erreurs si le fichier n'est pas trouvé\n",
    "    df = pd.DataFrame(columns=['valeur_fonciere', 'surface_reelle_bati', 'loyer_ref_m2', 'adresse_nom_voie', 'nom_commune', 'loyer_majore_m2', 'loyer_minore_m2'])"
   ]
  },
  {
   "cell_type": "code",
   "execution_count": 2,
   "id": "1974e39e",
   "metadata": {},
   "outputs": [],
   "source": [
    "# Nettoyer les données\n",
    "df = df.dropna(subset=['valeur_fonciere', 'surface_reelle_bati', 'loyer_ref_m2', 'loyer_majore_m2', 'loyer_minore_m2'])\n",
    "df = df[df['surface_reelle_bati'] > 0]\n",
    "df = df[df['loyer_ref_m2'] > 0]"
   ]
  },
  {
   "cell_type": "code",
   "execution_count": 3,
   "id": "3a7db888",
   "metadata": {},
   "outputs": [],
   "source": [
    "# Créer la liste des biens pour le dropdown\n",
    "df['bien_label'] = df.apply(\n",
    "    lambda row: f\"{row['adresse_nom_voie']}, {row['nom_commune']} - {row['valeur_fonciere']:,.0f}€ - {row['surface_reelle_bati']:.0f}m²\",\n",
    "    axis=1\n",
    ")\n",
    "quartiers = [\"Tous\"] + sorted(df[\"nom_commune\"].unique().tolist())"
   ]
  },
  {
   "cell_type": "code",
   "execution_count": 4,
   "id": "024275b2",
   "metadata": {},
   "outputs": [],
   "source": [
    "# Widgets pour les paramètres\n",
    "quartier_selector = widgets.Dropdown(\n",
    "    options=quartiers,\n",
    "    value=\"Tous\",\n",
    "    description=\"Quartier :\",\n",
    "    style={'description_width': '150px'},\n",
    "    layout=widgets.Layout(width='90%')\n",
    ")\n",
    "bien_selector = widgets.Dropdown(\n",
    "    options=list(zip(df['bien_label'], df.index)),\n",
    "    description='Bien:',\n",
    "    style={'description_width': '150px'},\n",
    "    layout=widgets.Layout(width='90%')\n",
    ")\n",
    "\n",
    "apport_slider = widgets.IntSlider(\n",
    "    value=50000,\n",
    "    min=0,\n",
    "    max=500000,  # Cette valeur max sera maintenant dynamique\n",
    "    step=5000,\n",
    "    description='Apport (€):',\n",
    "    style={'description_width': '150px'},\n",
    "    layout=widgets.Layout(width='80%')\n",
    ")\n",
    "\n",
    "taux_slider = widgets.FloatSlider(\n",
    "    value=3.5,\n",
    "    min=0.0,\n",
    "    max=15.0,\n",
    "    step=0.1,\n",
    "    description='Taux prêt (%):',\n",
    "    style={'description_width': '150px'},\n",
    "    layout=widgets.Layout(width='80%')\n",
    ")\n",
    "\n",
    "duree_slider = widgets.IntSlider(\n",
    "    value=25,\n",
    "    min=5,\n",
    "    max=30,\n",
    "    step=1,\n",
    "    description='Durée (années):',\n",
    "    style={'description_width': '150px'},\n",
    "    layout=widgets.Layout(width='80%')\n",
    ")\n",
    "\n",
    "output = widgets.Output()"
   ]
  },
  {
   "cell_type": "code",
   "execution_count": 5,
   "id": "45fdc891",
   "metadata": {},
   "outputs": [],
   "source": [
    "def calculer_mensualite(capital, taux_annuel, duree_annees):\n",
    "    \"\"\"Calcule la mensualité d'un prêt\"\"\"\n",
    "    if capital <= 0:\n",
    "        return 0\n",
    "    taux_mensuel = taux_annuel / 100 / 12\n",
    "    nb_mois = duree_annees * 12\n",
    "    if taux_mensuel == 0:\n",
    "        return capital / nb_mois\n",
    "    mensualite = capital * (taux_mensuel * (1 + taux_mensuel)**nb_mois) / ((1 + taux_mensuel)**nb_mois - 1)\n",
    "    return mensualite"
   ]
  },
  {
   "cell_type": "code",
   "execution_count": 6,
   "id": "10505573",
   "metadata": {},
   "outputs": [],
   "source": [
    "def mettre_a_jour_biens(change=None):\n",
    "    \"\"\"Met à jour la liste des biens selon le quartier sélectionné\"\"\"\n",
    "    selected_quartier = quartier_selector.value\n",
    "    \n",
    "    if selected_quartier == \"Tous\":\n",
    "        df_filtre = df\n",
    "    else:\n",
    "        df_filtre = df[df[\"nom_commune\"] == selected_quartier]\n",
    "    \n",
    "    # Met à jour le dropdown des biens\n",
    "    bien_selector.options = list(zip(df_filtre['bien_label'], df_filtre.index))\n",
    "    \n",
    "    # Sélectionne le premier bien du filtre si dispo\n",
    "    if len(df_filtre) > 0:\n",
    "        bien_selector.value = df_filtre.index[0]\n"
   ]
  },
  {
   "cell_type": "code",
   "execution_count": 7,
   "id": "eda2c0ae",
   "metadata": {},
   "outputs": [],
   "source": [
    "def afficher_resultats(change=None):\n",
    "    \"\"\"Affiche les résultats de la simulation\"\"\"\n",
    "    with output:\n",
    "        clear_output(wait=True)\n",
    "        \n",
    "        # S'assurer qu'il y a des données à traiter\n",
    "        if df.empty or bien_selector.value is None:\n",
    "            print(\"Aucune donnée à afficher. Veuillez vérifier le chargement du fichier CSV.\")\n",
    "            return\n",
    "            \n",
    "        # Récupérer le bien sélectionné\n",
    "        idx = bien_selector.value\n",
    "        bien = df.loc[idx]\n",
    "        \n",
    "        # Paramètres de financement\n",
    "        prix_achat = bien['valeur_fonciere']\n",
    "\n",
    "        # --- MODIFICATION ---\n",
    "        # 1. Mettre à jour la valeur maximale du curseur d'apport avec le prix du bien\n",
    "        apport_slider.max = prix_achat\n",
    "        \n",
    "        # 2. Si l'apport actuel est supérieur au prix du bien, le ramener au maximum possible\n",
    "        if apport_slider.value > prix_achat:\n",
    "            apport_slider.value = prix_achat\n",
    "        # --- FIN DE LA MODIFICATION ---\n",
    "            \n",
    "        apport = apport_slider.value\n",
    "        taux = taux_slider.value\n",
    "        duree = duree_slider.value\n",
    "        \n",
    "        # Calculs\n",
    "        montant_emprunte = max(0, prix_achat - apport)\n",
    "        mensualite_pret = calculer_mensualite(montant_emprunte, taux, duree)\n",
    "        cout_total_credit = mensualite_pret * duree * 12\n",
    "        cout_total_projet = cout_total_credit + apport\n",
    "        \n",
    "        # Calculs des loyers\n",
    "        surface = bien['surface_reelle_bati']\n",
    "        loyer_estime = surface * bien['loyer_ref_m2']\n",
    "        loyer_majore = surface * bien['loyer_majore_m2']\n",
    "        loyer_minore = surface * bien['loyer_minore_m2']\n",
    "        \n",
    "        # Charges estimées (25% du loyer)\n",
    "        charges_estimees = loyer_estime * 0.25\n",
    "        \n",
    "        # Cash-flow\n",
    "        cashflow_net = loyer_estime - mensualite_pret\n",
    "        cashflow_max = loyer_majore - mensualite_pret\n",
    "        \n",
    "        # Rendements\n",
    "        rendement_brut = (loyer_estime * 12 / prix_achat) * 100 if prix_achat > 0 else 0\n",
    "        rendement_locatif_majore = (loyer_majore * 12 / prix_achat) * 100 if prix_achat > 0 else 0\n",
    "        \n",
    "        # Affichage formaté\n",
    "        print(\"\\n\" + \"-\"*80)\n",
    "        print(\"FINANCEMENT\")\n",
    "        print(\"-\"*80)\n",
    "        apport_pourcentage = (apport / prix_achat * 100) if prix_achat > 0 else 0\n",
    "        print(f\"Apport personnel:     {apport:>15,.0f} € ({apport_pourcentage:.1f}%)\")\n",
    "        print(f\"Montant emprunté:     {montant_emprunte:>15,.0f} €\")\n",
    "        print(f\"Mensualité du prêt:   {mensualite_pret:>15,.0f} €/mois\")\n",
    "        print(f\"Coût total du crédit: {cout_total_credit:>15,.0f} €\")\n",
    "        print(f\"Coût total du projet: {cout_total_projet:>15,.0f} € (Apport + Coût crédit)\")\n",
    "\n",
    "\n",
    "        print(\"\\n\" + \"-\"*80)\n",
    "        print(\"LOYERS ET RENTABILITÉ\")\n",
    "        print(\"-\"*80)\n",
    "        print(f\"Loyer MINORÉ:         {loyer_minore:>15,.0f} €/mois\")\n",
    "        print(f\"Loyer de RÉFÉRENCE:   {loyer_estime:>15,.0f} €/mois\")\n",
    "        print(f\"Loyer MAJORÉ:         {loyer_majore:>15,.0f} €/mois\\n\")\n",
    "\n",
    "        print(f\"Loyer annuel (réf.):  {loyer_estime*12:>15,.0f} €\")\n",
    "        print(f\"Loyer/m² (réf.):      {bien['loyer_ref_m2']:>15.2f} €\")\n",
    "        print(f\"Charges locatives:    {charges_estimees:>15,.0f} €/mois (estimé à 25%)\")\n",
    "        print(f\"(refacturées au locataire)\")\n",
    "        \n",
    "        cashflow_status_net = \"POSITIF\" if cashflow_net >= 0 else \"NÉGATIF\"\n",
    "        print(f\"\\nCash-flow net (réf.): {cashflow_net:>15,.0f} €/mois ({cashflow_status_net})\")\n",
    "        cashflow_status_max = \"POSITIF\" if cashflow_max >= 0 else \"NÉGATIF\"\n",
    "        print(f\"Cash-flow max (majoré):{cashflow_max:>15,.0f} €/mois ({cashflow_status_max})\")\n",
    "        \n",
    "        print(f\"\\nRendement brut (réf.):     {rendement_brut:>12.2f} %\")\n",
    "        print(f\"Rendement brut (majoré):   {rendement_locatif_majore:>12.2f} %\")\n"
   ]
  },
  {
   "cell_type": "code",
   "execution_count": 8,
   "id": "ed9b1a19",
   "metadata": {},
   "outputs": [],
   "source": [
    "# Observer les changements\n",
    "quartier_selector.observe(mettre_a_jour_biens, names='value')\n",
    "bien_selector.observe(afficher_resultats, names='value')\n",
    "apport_slider.observe(afficher_resultats, names='value')\n",
    "taux_slider.observe(afficher_resultats, names='value')\n",
    "duree_slider.observe(afficher_resultats, names='value')"
   ]
  },
  {
   "cell_type": "code",
   "execution_count": 9,
   "id": "b80ef2c5",
   "metadata": {},
   "outputs": [
    {
     "data": {
      "application/vnd.jupyter.widget-view+json": {
       "model_id": "13a9cf58d2f54386aa94b071d1f0c970",
       "version_major": 2,
       "version_minor": 0
      },
      "text/plain": [
       "Dropdown(description='Quartier :', layout=Layout(width='90%'), options=('Tous', 'Paris 10e Arrondissement', 'P…"
      ]
     },
     "metadata": {},
     "output_type": "display_data"
    },
    {
     "data": {
      "application/vnd.jupyter.widget-view+json": {
       "model_id": "749d171279a64d938dddfbabe6f6cdf6",
       "version_major": 2,
       "version_minor": 0
      },
      "text/plain": [
       "Dropdown(description='Bien:', layout=Layout(width='90%'), options=(('PAS BASFOUR, Paris 2e Arrondissement - 17…"
      ]
     },
     "metadata": {},
     "output_type": "display_data"
    },
    {
     "data": {
      "application/vnd.jupyter.widget-view+json": {
       "model_id": "201c3f7e5b904054995ea9f461d7b5eb",
       "version_major": 2,
       "version_minor": 0
      },
      "text/plain": [
       "IntSlider(value=50000, description='Apport (€):', layout=Layout(width='80%'), max=500000, step=5000, style=Sli…"
      ]
     },
     "metadata": {},
     "output_type": "display_data"
    },
    {
     "data": {
      "application/vnd.jupyter.widget-view+json": {
       "model_id": "d7b6d54b40c34ca2a1b500da633e2d9e",
       "version_major": 2,
       "version_minor": 0
      },
      "text/plain": [
       "FloatSlider(value=3.5, description='Taux prêt (%):', layout=Layout(width='80%'), max=15.0, style=SliderStyle(d…"
      ]
     },
     "metadata": {},
     "output_type": "display_data"
    },
    {
     "data": {
      "application/vnd.jupyter.widget-view+json": {
       "model_id": "92465b08a4be4c26b45639cd1a0164cd",
       "version_major": 2,
       "version_minor": 0
      },
      "text/plain": [
       "IntSlider(value=25, description='Durée (années):', layout=Layout(width='80%'), max=30, min=5, style=SliderStyl…"
      ]
     },
     "metadata": {},
     "output_type": "display_data"
    },
    {
     "data": {
      "application/vnd.jupyter.widget-view+json": {
       "model_id": "8e66495c868c463780815d513fe3d3bb",
       "version_major": 2,
       "version_minor": 0
      },
      "text/plain": [
       "Output()"
      ]
     },
     "metadata": {},
     "output_type": "display_data"
    }
   ],
   "source": [
    "# Affichage des widgets\n",
    "display(quartier_selector)\n",
    "display(bien_selector)\n",
    "display(apport_slider)\n",
    "display(taux_slider)\n",
    "display(duree_slider)\n",
    "display(output)\n",
    "\n",
    "# Affichage initial\n",
    "afficher_resultats()"
   ]
  },
  {
   "cell_type": "code",
   "execution_count": null,
   "id": "a42ccd76",
   "metadata": {},
   "outputs": [],
   "source": [
    "#commentaire"
   ]
  },
  {
   "cell_type": "code",
   "execution_count": null,
   "id": "22901fb6",
   "metadata": {},
   "outputs": [],
   "source": []
  },
  {
   "cell_type": "code",
   "execution_count": null,
   "id": "9d2170c9",
   "metadata": {},
   "outputs": [
    {
     "ename": "SyntaxError",
     "evalue": "invalid syntax (2167673405.py, line 5)",
     "output_type": "error",
     "traceback": [
      "\u001b[1;36m  Cell \u001b[1;32mIn[10], line 5\u001b[1;36m\u001b[0m\n\u001b[1;33m    prix locatif\u001b[0m\n\u001b[1;37m         ^\u001b[0m\n\u001b[1;31mSyntaxError\u001b[0m\u001b[1;31m:\u001b[0m invalid syntax\n"
     ]
    }
   ],
   "source": [
    "\"\"\"budget\n",
    "taux\n",
    "apport\n",
    "duree\n",
    "prix locatif\"\"\""
   ]
  },
  {
   "cell_type": "code",
   "execution_count": null,
   "id": "dcccca5d",
   "metadata": {},
   "outputs": [],
   "source": []
  },
  {
   "cell_type": "code",
   "execution_count": null,
   "id": "7ce18fb4",
   "metadata": {},
   "outputs": [],
   "source": []
  },
  {
   "cell_type": "code",
   "execution_count": null,
   "id": "ef560d84",
   "metadata": {},
   "outputs": [],
   "source": []
  },
  {
   "cell_type": "code",
   "execution_count": null,
   "id": "1cd71999",
   "metadata": {},
   "outputs": [],
   "source": []
  },
  {
   "cell_type": "code",
   "execution_count": null,
   "id": "48565f09",
   "metadata": {},
   "outputs": [],
   "source": []
  }
 ],
 "metadata": {
  "kernelspec": {
   "display_name": "base",
   "language": "python",
   "name": "python3"
  },
  "language_info": {
   "codemirror_mode": {
    "name": "ipython",
    "version": 3
   },
   "file_extension": ".py",
   "mimetype": "text/x-python",
   "name": "python",
   "nbconvert_exporter": "python",
   "pygments_lexer": "ipython3",
   "version": "3.13.5"
  }
 },
 "nbformat": 4,
 "nbformat_minor": 5
}
