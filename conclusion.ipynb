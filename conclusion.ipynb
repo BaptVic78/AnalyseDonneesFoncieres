{
 "cells": [
  {
   "cell_type": "code",
   "execution_count": null,
   "id": "17e6f060",
   "metadata": {},
   "outputs": [
    {
     "ename": "ModuleNotFoundError",
     "evalue": "No module named 'folium'",
     "output_type": "error",
     "traceback": [
      "\u001b[1;31m---------------------------------------------------------------------------\u001b[0m",
      "\u001b[1;31mModuleNotFoundError\u001b[0m                       Traceback (most recent call last)",
      "Cell \u001b[1;32mIn[89], line 6\u001b[0m\n\u001b[0;32m      3\u001b[0m \u001b[38;5;28;01mfrom\u001b[39;00m\u001b[38;5;250m \u001b[39m\u001b[38;5;21;01mIPython\u001b[39;00m\u001b[38;5;21;01m.\u001b[39;00m\u001b[38;5;21;01mdisplay\u001b[39;00m\u001b[38;5;250m \u001b[39m\u001b[38;5;28;01mimport\u001b[39;00m display, clear_output\n\u001b[0;32m      4\u001b[0m \u001b[38;5;28;01mimport\u001b[39;00m\u001b[38;5;250m \u001b[39m\u001b[38;5;21;01mnumpy\u001b[39;00m\u001b[38;5;250m \u001b[39m\u001b[38;5;28;01mas\u001b[39;00m\u001b[38;5;250m \u001b[39m\u001b[38;5;21;01mnp\u001b[39;00m\n\u001b[1;32m----> 6\u001b[0m \u001b[38;5;28;01mimport\u001b[39;00m\u001b[38;5;250m \u001b[39m\u001b[38;5;21;01mfolium\u001b[39;00m\n\u001b[0;32m      7\u001b[0m \u001b[38;5;28;01mfrom\u001b[39;00m\u001b[38;5;250m \u001b[39m\u001b[38;5;21;01mbranca\u001b[39;00m\u001b[38;5;21;01m.\u001b[39;00m\u001b[38;5;21;01mcolormap\u001b[39;00m\u001b[38;5;250m \u001b[39m\u001b[38;5;28;01mimport\u001b[39;00m linear\n\u001b[0;32m     10\u001b[0m \u001b[38;5;66;03m# Charger les données (assurez-vous que le fichier 'dvf_loyers.csv' est dans le même dossier)\u001b[39;00m\n\u001b[0;32m     11\u001b[0m \u001b[38;5;66;03m# Si le fichier n'est pas trouvé, une erreur sera levée.\u001b[39;00m\n",
      "\u001b[1;31mModuleNotFoundError\u001b[0m: No module named 'folium'"
     ]
    }
   ],
   "source": [
    "import pandas as pd\n",
    "import ipywidgets as widgets\n",
    "from IPython.display import display, clear_output\n",
    "import numpy as np\n",
    "\n",
    "\n",
    "# Charger les données (assurez-vous que le fichier 'dvf_loyers.csv' est dans le même dossier)\n",
    "# Si le fichier n'est pas trouvé, une erreur sera levée.\n",
    "try:\n",
    "    df = pd.read_csv('dvf_loyers.csv', sep=';')\n",
    "except FileNotFoundError:\n",
    "    print(\"Erreur: Le fichier 'dvf_loyers.csv' est introuvable.\")\n",
    "    print(\"Veuillez vous assurer que le fichier est dans le même répertoire que votre notebook.\")\n",
    "    # Crée un DataFrame vide pour éviter d'autres erreurs si le fichier n'est pas trouvé\n",
    "    df = pd.DataFrame(columns=['valeur_fonciere', 'surface_reelle_bati', 'loyer_ref_m2', 'adresse_nom_voie', 'nom_commune', 'loyer_majore_m2', 'loyer_minore_m2'])"
   ]
  },
  {
   "cell_type": "code",
   "execution_count": 81,
   "id": "1974e39e",
   "metadata": {},
   "outputs": [],
   "source": [
    "# Nettoyer les données\n",
    "df = df.dropna(subset=['valeur_fonciere', 'surface_reelle_bati', 'loyer_ref_m2', 'loyer_majore_m2', 'loyer_minore_m2'])\n",
    "df = df[df['surface_reelle_bati'] > 0]\n",
    "df = df[df['loyer_ref_m2'] > 0]"
   ]
  },
  {
   "cell_type": "code",
   "execution_count": 82,
   "id": "3a7db888",
   "metadata": {},
   "outputs": [],
   "source": [
    "# Créer la liste des biens pour le dropdown\n",
    "df['bien_label'] = df.apply(\n",
    "    lambda row: f\"{row['adresse_nom_voie']}, {row['nom_commune']} - {row['valeur_fonciere']:,.0f}€ - {row['surface_reelle_bati']:.0f}m²\",\n",
    "    axis=1\n",
    ")\n",
    "quartiers = [\"Tous\"] + sorted(df[\"nom_commune\"].unique().tolist())"
   ]
  },
  {
   "cell_type": "code",
   "execution_count": 83,
   "id": "024275b2",
   "metadata": {},
   "outputs": [],
   "source": [
    "# Widgets pour les paramètres\n",
    "quartier_selector = widgets.Dropdown(\n",
    "    options=quartiers,\n",
    "    value=\"Tous\",\n",
    "    description=\"Quartier :\",\n",
    "    style={'description_width': '150px'},\n",
    "    layout=widgets.Layout(width='90%')\n",
    ")\n",
    "bien_selector = widgets.Dropdown(\n",
    "    options=list(zip(df['bien_label'], df.index)),\n",
    "    description='Bien:',\n",
    "    style={'description_width': '150px'},\n",
    "    layout=widgets.Layout(width='90%')\n",
    ")\n",
    "\n",
    "apport_slider = widgets.IntSlider(\n",
    "    value=50000,\n",
    "    min=0,\n",
    "    max=500000,  # Cette valeur max sera maintenant dynamique\n",
    "    step=5000,\n",
    "    description='Apport (€):',\n",
    "    style={'description_width': '150px'},\n",
    "    layout=widgets.Layout(width='80%')\n",
    ")\n",
    "\n",
    "taux_slider = widgets.FloatSlider(\n",
    "    value=3.5,\n",
    "    min=0.0,\n",
    "    max=15.0,\n",
    "    step=0.1,\n",
    "    description='Taux prêt (%):',\n",
    "    style={'description_width': '150px'},\n",
    "    layout=widgets.Layout(width='80%')\n",
    ")\n",
    "\n",
    "duree_slider = widgets.IntSlider(\n",
    "    value=25,\n",
    "    min=5,\n",
    "    max=30,\n",
    "    step=1,\n",
    "    description='Durée (années):',\n",
    "    style={'description_width': '150px'},\n",
    "    layout=widgets.Layout(width='80%')\n",
    ")\n",
    "\n",
    "output = widgets.Output()"
   ]
  },
  {
   "cell_type": "code",
   "execution_count": 84,
   "id": "45fdc891",
   "metadata": {},
   "outputs": [],
   "source": [
    "def calculer_mensualite(capital, taux_annuel, duree_annees):\n",
    "    \"\"\"Calcule la mensualité d'un prêt\"\"\"\n",
    "    if capital <= 0:\n",
    "        return 0\n",
    "    taux_mensuel = taux_annuel / 100 / 12\n",
    "    nb_mois = duree_annees * 12\n",
    "    if taux_mensuel == 0:\n",
    "        return capital / nb_mois\n",
    "    mensualite = capital * (taux_mensuel * (1 + taux_mensuel)**nb_mois) / ((1 + taux_mensuel)**nb_mois - 1)\n",
    "    return mensualite"
   ]
  },
  {
   "cell_type": "code",
   "execution_count": 85,
   "id": "10505573",
   "metadata": {},
   "outputs": [],
   "source": [
    "def mettre_a_jour_biens(change=None):\n",
    "    \"\"\"Met à jour la liste des biens selon le quartier sélectionné\"\"\"\n",
    "    selected_quartier = quartier_selector.value\n",
    "    \n",
    "    if selected_quartier == \"Tous\":\n",
    "        df_filtre = df\n",
    "    else:\n",
    "        df_filtre = df[df[\"nom_commune\"] == selected_quartier]\n",
    "    \n",
    "    # Met à jour le dropdown des biens\n",
    "    bien_selector.options = list(zip(df_filtre['bien_label'], df_filtre.index))\n",
    "    \n",
    "    # Sélectionne le premier bien du filtre si dispo\n",
    "    if len(df_filtre) > 0:\n",
    "        bien_selector.value = df_filtre.index[0]\n"
   ]
  },
  {
   "cell_type": "code",
   "execution_count": 86,
   "id": "eda2c0ae",
   "metadata": {},
   "outputs": [],
   "source": [
    "def afficher_resultats(change=None):\n",
    "    \"\"\"Affiche les résultats de la simulation\"\"\"\n",
    "    with output:\n",
    "        clear_output(wait=True)\n",
    "        \n",
    "        # S'assurer qu'il y a des données à traiter\n",
    "        if df.empty or bien_selector.value is None:\n",
    "            print(\"Aucune donnée à afficher. Veuillez vérifier le chargement du fichier CSV.\")\n",
    "            return\n",
    "            \n",
    "        # Récupérer le bien sélectionné\n",
    "        idx = bien_selector.value\n",
    "        bien = df.loc[idx]\n",
    "        \n",
    "        # Paramètres de financement\n",
    "        prix_achat = bien['valeur_fonciere']\n",
    "\n",
    "        # --- MODIFICATION ---\n",
    "        # 1. Mettre à jour la valeur maximale du curseur d'apport avec le prix du bien\n",
    "        apport_slider.max = prix_achat\n",
    "        \n",
    "        # 2. Si l'apport actuel est supérieur au prix du bien, le ramener au maximum possible\n",
    "        if apport_slider.value > prix_achat:\n",
    "            apport_slider.value = prix_achat\n",
    "        # --- FIN DE LA MODIFICATION ---\n",
    "            \n",
    "        apport = apport_slider.value\n",
    "        taux = taux_slider.value\n",
    "        duree = duree_slider.value\n",
    "        \n",
    "        # Calculs\n",
    "        montant_emprunte = max(0, prix_achat - apport)\n",
    "        mensualite_pret = calculer_mensualite(montant_emprunte, taux, duree)\n",
    "        cout_total_credit = mensualite_pret * duree * 12\n",
    "        cout_total_projet = cout_total_credit + apport\n",
    "        \n",
    "        # Calculs des loyers\n",
    "        surface = bien['surface_reelle_bati']\n",
    "        loyer_estime = surface * bien['loyer_ref_m2']\n",
    "        loyer_majore = surface * bien['loyer_majore_m2']\n",
    "        loyer_minore = surface * bien['loyer_minore_m2']\n",
    "        \n",
    "        # Charges estimées (25% du loyer)\n",
    "        charges_estimees = loyer_estime * 0.25\n",
    "        \n",
    "        # Cash-flow\n",
    "        cashflow_net = loyer_estime - mensualite_pret\n",
    "        cashflow_max = loyer_majore - mensualite_pret\n",
    "        \n",
    "        # Rendements\n",
    "        rendement_brut = (loyer_estime * 12 / prix_achat) * 100 if prix_achat > 0 else 0\n",
    "        rendement_locatif_majore = (loyer_majore * 12 / prix_achat) * 100 if prix_achat > 0 else 0\n",
    "        \n",
    "        # Affichage formaté\n",
    "        print(\"\\n\" + \"-\"*80)\n",
    "        print(\"FINANCEMENT\")\n",
    "        print(\"-\"*80)\n",
    "        apport_pourcentage = (apport / prix_achat * 100) if prix_achat > 0 else 0\n",
    "        print(f\"Apport personnel:     {apport:>15,.0f} € ({apport_pourcentage:.1f}%)\")\n",
    "        print(f\"Montant emprunté:     {montant_emprunte:>15,.0f} €\")\n",
    "        print(f\"Mensualité du prêt:   {mensualite_pret:>15,.0f} €/mois\")\n",
    "        print(f\"Coût total du crédit: {cout_total_credit:>15,.0f} €\")\n",
    "        print(f\"Coût total du projet: {cout_total_projet:>15,.0f} € (Apport + Coût crédit)\")\n",
    "\n",
    "\n",
    "        print(\"\\n\" + \"-\"*80)\n",
    "        print(\"LOYERS ET RENTABILITÉ\")\n",
    "        print(\"-\"*80)\n",
    "        print(f\"Loyer MINORÉ:         {loyer_minore:>15,.0f} €/mois\")\n",
    "        print(f\"Loyer de RÉFÉRENCE:   {loyer_estime:>15,.0f} €/mois\")\n",
    "        print(f\"Loyer MAJORÉ:         {loyer_majore:>15,.0f} €/mois\\n\")\n",
    "\n",
    "        print(f\"Loyer annuel (réf.):  {loyer_estime*12:>15,.0f} €\")\n",
    "        print(f\"Loyer/m² (réf.):      {bien['loyer_ref_m2']:>15.2f} €\")\n",
    "        print(f\"Charges locatives:    {charges_estimees:>15,.0f} €/mois (estimé à 25%)\")\n",
    "        print(f\"(refacturées au locataire)\")\n",
    "        \n",
    "        cashflow_status_net = \"✅ POSITIF\" if cashflow_net >= 0 else \"❌ NÉGATIF\"\n",
    "        print(f\"\\nCash-flow net (réf.): {cashflow_net:>15,.0f} €/mois ({cashflow_status_net})\")\n",
    "        cashflow_status_max = \"✅ POSITIF\" if cashflow_max >= 0 else \"❌ NÉGATIF\"\n",
    "        print(f\"Cash-flow max (majoré):{cashflow_max:>15,.0f} €/mois ({cashflow_status_max})\")\n",
    "        \n",
    "        print(f\"\\nRendement brut (réf.):     {rendement_brut:>12.2f} %\")\n",
    "        print(f\"Rendement brut (majoré):   {rendement_locatif_majore:>12.2f} %\")\n"
   ]
  },
  {
   "cell_type": "code",
   "execution_count": 87,
   "id": "ed9b1a19",
   "metadata": {},
   "outputs": [],
   "source": [
    "# Observer les changements\n",
    "quartier_selector.observe(mettre_a_jour_biens, names='value')\n",
    "bien_selector.observe(afficher_resultats, names='value')\n",
    "apport_slider.observe(afficher_resultats, names='value')\n",
    "taux_slider.observe(afficher_resultats, names='value')\n",
    "duree_slider.observe(afficher_resultats, names='value')"
   ]
  },
  {
   "cell_type": "code",
   "execution_count": 88,
   "id": "b80ef2c5",
   "metadata": {},
   "outputs": [
    {
     "data": {
      "application/vnd.jupyter.widget-view+json": {
       "model_id": "ccbb0e1b64b9451899ab1cb6af64fb2e",
       "version_major": 2,
       "version_minor": 0
      },
      "text/plain": [
       "Dropdown(description='Quartier :', layout=Layout(width='90%'), options=('Tous', 'Paris 10e Arrondissement', 'P…"
      ]
     },
     "metadata": {},
     "output_type": "display_data"
    },
    {
     "data": {
      "application/vnd.jupyter.widget-view+json": {
       "model_id": "9f8976fb12104a238aa3a2af6d4f4593",
       "version_major": 2,
       "version_minor": 0
      },
      "text/plain": [
       "Dropdown(description='Bien:', layout=Layout(width='90%'), options=(('PAS BASFOUR, Paris 2e Arrondissement - 17…"
      ]
     },
     "metadata": {},
     "output_type": "display_data"
    },
    {
     "data": {
      "application/vnd.jupyter.widget-view+json": {
       "model_id": "a68f55904fa54794922c12fd3c8a6eab",
       "version_major": 2,
       "version_minor": 0
      },
      "text/plain": [
       "IntSlider(value=50000, description='Apport (€):', layout=Layout(width='80%'), max=500000, step=5000, style=Sli…"
      ]
     },
     "metadata": {},
     "output_type": "display_data"
    },
    {
     "data": {
      "application/vnd.jupyter.widget-view+json": {
       "model_id": "bb10e71fa1764d319b9e95ba6c7e5b74",
       "version_major": 2,
       "version_minor": 0
      },
      "text/plain": [
       "FloatSlider(value=3.5, description='Taux prêt (%):', layout=Layout(width='80%'), max=15.0, style=SliderStyle(d…"
      ]
     },
     "metadata": {},
     "output_type": "display_data"
    },
    {
     "data": {
      "application/vnd.jupyter.widget-view+json": {
       "model_id": "3f8eeccf8a3f46a484f8b23217df0dfa",
       "version_major": 2,
       "version_minor": 0
      },
      "text/plain": [
       "IntSlider(value=25, description='Durée (années):', layout=Layout(width='80%'), max=30, min=5, style=SliderStyl…"
      ]
     },
     "metadata": {},
     "output_type": "display_data"
    },
    {
     "data": {
      "application/vnd.jupyter.widget-view+json": {
       "model_id": "fc0d6a5dd7de4145974dc74f948f731a",
       "version_major": 2,
       "version_minor": 0
      },
      "text/plain": [
       "Output()"
      ]
     },
     "metadata": {},
     "output_type": "display_data"
    }
   ],
   "source": [
    "# Affichage des widgets\n",
    "display(quartier_selector)\n",
    "display(bien_selector)\n",
    "display(apport_slider)\n",
    "display(taux_slider)\n",
    "display(duree_slider)\n",
    "display(output)\n",
    "\n",
    "# Affichage initial\n",
    "afficher_resultats()"
   ]
  },
  {
   "cell_type": "code",
   "execution_count": 91,
   "id": "22901fb6",
   "metadata": {},
   "outputs": [
    {
     "ename": "ValueError",
     "evalue": "Invalid property specified for object of type plotly.graph_objs.scattermapbox.Marker: 'line'\n\nDid you mean \"size\"?\n\n    Valid properties:\n        allowoverlap\n            Flag to draw all symbols, even if they overlap.\n        angle\n            Sets the marker orientation from true North, in degrees\n            clockwise. When using the \"auto\" default, no rotation\n            would be applied in perspective views which is\n            different from using a zero angle.\n        anglesrc\n            Sets the source reference on Chart Studio Cloud for\n            `angle`.\n        autocolorscale\n            Determines whether the colorscale is a default palette\n            (`autocolorscale: true`) or the palette determined by\n            `marker.colorscale`. Has an effect only if in\n            `marker.color` is set to a numerical array. In case\n            `colorscale` is unspecified or `autocolorscale` is\n            true, the default palette will be chosen according to\n            whether numbers in the `color` array are all positive,\n            all negative or mixed.\n        cauto\n            Determines whether or not the color domain is computed\n            with respect to the input data (here in `marker.color`)\n            or the bounds set in `marker.cmin` and `marker.cmax`\n            Has an effect only if in `marker.color` is set to a\n            numerical array. Defaults to `false` when `marker.cmin`\n            and `marker.cmax` are set by the user.\n        cmax\n            Sets the upper bound of the color domain. Has an effect\n            only if in `marker.color` is set to a numerical array.\n            Value should have the same units as in `marker.color`\n            and if set, `marker.cmin` must be set as well.\n        cmid\n            Sets the mid-point of the color domain by scaling\n            `marker.cmin` and/or `marker.cmax` to be equidistant to\n            this point. Has an effect only if in `marker.color` is\n            set to a numerical array. Value should have the same\n            units as in `marker.color`. Has no effect when\n            `marker.cauto` is `false`.\n        cmin\n            Sets the lower bound of the color domain. Has an effect\n            only if in `marker.color` is set to a numerical array.\n            Value should have the same units as in `marker.color`\n            and if set, `marker.cmax` must be set as well.\n        color\n            Sets the marker color. It accepts either a specific\n            color or an array of numbers that are mapped to the\n            colorscale relative to the max and min values of the\n            array or relative to `marker.cmin` and `marker.cmax` if\n            set.\n        coloraxis\n            Sets a reference to a shared color axis. References to\n            these shared color axes are \"coloraxis\", \"coloraxis2\",\n            \"coloraxis3\", etc. Settings for these shared color axes\n            are set in the layout, under `layout.coloraxis`,\n            `layout.coloraxis2`, etc. Note that multiple color\n            scales can be linked to the same color axis.\n        colorbar\n            :class:`plotly.graph_objects.scattermapbox.marker.Color\n            Bar` instance or dict with compatible properties\n        colorscale\n            Sets the colorscale. Has an effect only if in\n            `marker.color` is set to a numerical array. The\n            colorscale must be an array containing arrays mapping a\n            normalized value to an rgb, rgba, hex, hsl, hsv, or\n            named color string. At minimum, a mapping for the\n            lowest (0) and highest (1) values are required. For\n            example, `[[0, 'rgb(0,0,255)'], [1, 'rgb(255,0,0)']]`.\n            To control the bounds of the colorscale in color space,\n            use `marker.cmin` and `marker.cmax`. Alternatively,\n            `colorscale` may be a palette name string of the\n            following list: Blackbody,Bluered,Blues,Cividis,Earth,E\n            lectric,Greens,Greys,Hot,Jet,Picnic,Portland,Rainbow,Rd\n            Bu,Reds,Viridis,YlGnBu,YlOrRd.\n        colorsrc\n            Sets the source reference on Chart Studio Cloud for\n            `color`.\n        opacity\n            Sets the marker opacity.\n        opacitysrc\n            Sets the source reference on Chart Studio Cloud for\n            `opacity`.\n        reversescale\n            Reverses the color mapping if true. Has an effect only\n            if in `marker.color` is set to a numerical array. If\n            true, `marker.cmin` will correspond to the last color\n            in the array and `marker.cmax` will correspond to the\n            first color.\n        showscale\n            Determines whether or not a colorbar is displayed for\n            this trace. Has an effect only if in `marker.color` is\n            set to a numerical array.\n        size\n            Sets the marker size (in px).\n        sizemin\n            Has an effect only if `marker.size` is set to a\n            numerical array. Sets the minimum size (in px) of the\n            rendered marker points.\n        sizemode\n            Has an effect only if `marker.size` is set to a\n            numerical array. Sets the rule for which the data in\n            `size` is converted to pixels.\n        sizeref\n            Has an effect only if `marker.size` is set to a\n            numerical array. Sets the scale factor used to\n            determine the rendered size of marker points. Use with\n            `sizemin` and `sizemode`.\n        sizesrc\n            Sets the source reference on Chart Studio Cloud for\n            `size`.\n        symbol\n            Sets the marker symbol. Full list:\n            https://www.mapbox.com/maki-icons/ Note that the array\n            `marker.color` and `marker.size` are only available for\n            \"circle\" symbols.\n        symbolsrc\n            Sets the source reference on Chart Studio Cloud for\n            `symbol`.\n        \nDid you mean \"size\"?\n\nBad property path:\nline\n^^^^",
     "output_type": "error",
     "traceback": [
      "\u001b[1;31m---------------------------------------------------------------------------\u001b[0m",
      "\u001b[1;31mValueError\u001b[0m                                Traceback (most recent call last)",
      "Cell \u001b[1;32mIn[91], line 110\u001b[0m\n\u001b[0;32m    105\u001b[0m     \u001b[38;5;28;01mreturn\u001b[39;00m fig\n\u001b[0;32m    108\u001b[0m \u001b[38;5;66;03m# --- EXEMPLES D’APPEL ---\u001b[39;00m\n\u001b[0;32m    109\u001b[0m \u001b[38;5;66;03m# 1) Si tu utilises tes sliders : \u001b[39;00m\n\u001b[1;32m--> 110\u001b[0m fig \u001b[38;5;241m=\u001b[39m carte_biens(apport_slider\u001b[38;5;241m.\u001b[39mvalue, taux_slider\u001b[38;5;241m.\u001b[39mvalue, duree_slider\u001b[38;5;241m.\u001b[39mvalue, quartier_selector\u001b[38;5;241m.\u001b[39mvalue \u001b[38;5;28;01mif\u001b[39;00m \u001b[38;5;124m'\u001b[39m\u001b[38;5;124mquartier_selector\u001b[39m\u001b[38;5;124m'\u001b[39m \u001b[38;5;129;01min\u001b[39;00m \u001b[38;5;28mglobals\u001b[39m() \u001b[38;5;28;01melse\u001b[39;00m \u001b[38;5;124m\"\u001b[39m\u001b[38;5;124mTous\u001b[39m\u001b[38;5;124m\"\u001b[39m)\n\u001b[0;32m    111\u001b[0m fig\u001b[38;5;241m.\u001b[39mshow()\n",
      "Cell \u001b[1;32mIn[91], line 91\u001b[0m, in \u001b[0;36mcarte_biens\u001b[1;34m(apport, taux, duree, quartier)\u001b[0m\n\u001b[0;32m     80\u001b[0m fig\u001b[38;5;241m.\u001b[39mupdate_layout(\n\u001b[0;32m     81\u001b[0m     mapbox_style\u001b[38;5;241m=\u001b[39m\u001b[38;5;124m\"\u001b[39m\u001b[38;5;124mopen-street-map\u001b[39m\u001b[38;5;124m\"\u001b[39m,\n\u001b[0;32m     82\u001b[0m     margin\u001b[38;5;241m=\u001b[39m\u001b[38;5;28mdict\u001b[39m(l\u001b[38;5;241m=\u001b[39m\u001b[38;5;241m0\u001b[39m, r\u001b[38;5;241m=\u001b[39m\u001b[38;5;241m0\u001b[39m, t\u001b[38;5;241m=\u001b[39m\u001b[38;5;241m40\u001b[39m, b\u001b[38;5;241m=\u001b[39m\u001b[38;5;241m0\u001b[39m),\n\u001b[1;32m   (...)\u001b[0m\n\u001b[0;32m     87\u001b[0m     title\u001b[38;5;241m=\u001b[39m\u001b[38;5;124mf\u001b[39m\u001b[38;5;124m\"\u001b[39m\u001b[38;5;124mBiens – Cashflow net (réf) après charges — Quartier: \u001b[39m\u001b[38;5;132;01m{\u001b[39;00mquartier\u001b[38;5;132;01m}\u001b[39;00m\u001b[38;5;124m\"\u001b[39m\n\u001b[0;32m     88\u001b[0m )\n\u001b[0;32m     90\u001b[0m \u001b[38;5;66;03m# Hover lisible\u001b[39;00m\n\u001b[1;32m---> 91\u001b[0m fig\u001b[38;5;241m.\u001b[39mupdate_traces(\n\u001b[0;32m     92\u001b[0m     marker\u001b[38;5;241m=\u001b[39m\u001b[38;5;28mdict\u001b[39m(size\u001b[38;5;241m=\u001b[39m\u001b[38;5;241m10\u001b[39m, line\u001b[38;5;241m=\u001b[39m\u001b[38;5;28mdict\u001b[39m(width\u001b[38;5;241m=\u001b[39m\u001b[38;5;241m0.5\u001b[39m, color\u001b[38;5;241m=\u001b[39m\u001b[38;5;124m\"\u001b[39m\u001b[38;5;124mblack\u001b[39m\u001b[38;5;124m\"\u001b[39m)),\n\u001b[0;32m     93\u001b[0m     hovertemplate\u001b[38;5;241m=\u001b[39m(\n\u001b[0;32m     94\u001b[0m         \u001b[38;5;124m\"\u001b[39m\u001b[38;5;124m<b>\u001b[39m\u001b[38;5;124m%\u001b[39m\u001b[38;5;132;01m{hovertext}\u001b[39;00m\u001b[38;5;124m</b><br>\u001b[39m\u001b[38;5;124m\"\u001b[39m  \u001b[38;5;66;03m# adresse\u001b[39;00m\n\u001b[0;32m     95\u001b[0m         \u001b[38;5;124m\"\u001b[39m\u001b[38;5;124mCommune: \u001b[39m\u001b[38;5;124m%\u001b[39m\u001b[38;5;132;01m{customdata[1]}\u001b[39;00m\u001b[38;5;124m<br>\u001b[39m\u001b[38;5;124m\"\u001b[39m\n\u001b[0;32m     96\u001b[0m         \u001b[38;5;124m\"\u001b[39m\u001b[38;5;124mPrix: \u001b[39m\u001b[38;5;124m%\u001b[39m\u001b[38;5;132;01m{customdata[2]}\u001b[39;00m\u001b[38;5;124m €<br>\u001b[39m\u001b[38;5;124m\"\u001b[39m\n\u001b[0;32m     97\u001b[0m         \u001b[38;5;124m\"\u001b[39m\u001b[38;5;124mSurface: \u001b[39m\u001b[38;5;124m%\u001b[39m\u001b[38;5;132;01m{customdata[3]}\u001b[39;00m\u001b[38;5;124m m²<br>\u001b[39m\u001b[38;5;124m\"\u001b[39m\n\u001b[0;32m     98\u001b[0m         \u001b[38;5;124m\"\u001b[39m\u001b[38;5;124m<b>Loyers (€/mois)</b> min \u001b[39m\u001b[38;5;124m%\u001b[39m\u001b[38;5;132;01m{customdata[4]}\u001b[39;00m\u001b[38;5;124m | réf \u001b[39m\u001b[38;5;124m%\u001b[39m\u001b[38;5;132;01m{customdata[5]}\u001b[39;00m\u001b[38;5;124m | max \u001b[39m\u001b[38;5;124m%\u001b[39m\u001b[38;5;132;01m{customdata[6]}\u001b[39;00m\u001b[38;5;124m<br>\u001b[39m\u001b[38;5;124m\"\u001b[39m\n\u001b[0;32m     99\u001b[0m         \u001b[38;5;124m\"\u001b[39m\u001b[38;5;124mMensualité: \u001b[39m\u001b[38;5;124m%\u001b[39m\u001b[38;5;132;01m{customdata[7]}\u001b[39;00m\u001b[38;5;124m €/mois<br>\u001b[39m\u001b[38;5;124m\"\u001b[39m\n\u001b[0;32m    100\u001b[0m         \u001b[38;5;124m\"\u001b[39m\u001b[38;5;124m<b>Cashflow net (€/mois)</b> min \u001b[39m\u001b[38;5;124m%\u001b[39m\u001b[38;5;132;01m{customdata[8]}\u001b[39;00m\u001b[38;5;124m | <b>réf \u001b[39m\u001b[38;5;124m%\u001b[39m\u001b[38;5;132;01m{customdata[9]}\u001b[39;00m\u001b[38;5;124m</b> | max \u001b[39m\u001b[38;5;124m%\u001b[39m\u001b[38;5;132;01m{customdata[10]}\u001b[39;00m\u001b[38;5;124m<br>\u001b[39m\u001b[38;5;124m\"\u001b[39m\n\u001b[0;32m    101\u001b[0m         \u001b[38;5;124m\"\u001b[39m\u001b[38;5;124mStatut: \u001b[39m\u001b[38;5;124m%\u001b[39m\u001b[38;5;132;01m{customdata[11]}\u001b[39;00m\u001b[38;5;124m<extra></extra>\u001b[39m\u001b[38;5;124m\"\u001b[39m\n\u001b[0;32m    102\u001b[0m     )\n\u001b[0;32m    103\u001b[0m )\n\u001b[0;32m    105\u001b[0m \u001b[38;5;28;01mreturn\u001b[39;00m fig\n",
      "File \u001b[1;32mc:\\Users\\simon\\anaconda3\\Lib\\site-packages\\plotly\\graph_objs\\_figure.py:762\u001b[0m, in \u001b[0;36mFigure.update_traces\u001b[1;34m(self, patch, selector, row, col, secondary_y, overwrite, **kwargs)\u001b[0m\n\u001b[0;32m    699\u001b[0m \u001b[38;5;28;01mdef\u001b[39;00m\u001b[38;5;250m \u001b[39m\u001b[38;5;21mupdate_traces\u001b[39m(\n\u001b[0;32m    700\u001b[0m     \u001b[38;5;28mself\u001b[39m,\n\u001b[0;32m    701\u001b[0m     patch\u001b[38;5;241m=\u001b[39m\u001b[38;5;28;01mNone\u001b[39;00m,\n\u001b[1;32m   (...)\u001b[0m\n\u001b[0;32m    707\u001b[0m     \u001b[38;5;241m*\u001b[39m\u001b[38;5;241m*\u001b[39mkwargs,\n\u001b[0;32m    708\u001b[0m ) \u001b[38;5;241m-\u001b[39m\u001b[38;5;241m>\u001b[39m \u001b[38;5;124m\"\u001b[39m\u001b[38;5;124mFigure\u001b[39m\u001b[38;5;124m\"\u001b[39m:\n\u001b[0;32m    709\u001b[0m \u001b[38;5;250m    \u001b[39m\u001b[38;5;124;03m\"\"\"\u001b[39;00m\n\u001b[0;32m    710\u001b[0m \n\u001b[0;32m    711\u001b[0m \u001b[38;5;124;03m    Perform a property update operation on all traces that satisfy the\u001b[39;00m\n\u001b[1;32m   (...)\u001b[0m\n\u001b[0;32m    760\u001b[0m \n\u001b[0;32m    761\u001b[0m \u001b[38;5;124;03m    \"\"\"\u001b[39;00m\n\u001b[1;32m--> 762\u001b[0m     \u001b[38;5;28;01mreturn\u001b[39;00m \u001b[38;5;28msuper\u001b[39m(Figure, \u001b[38;5;28mself\u001b[39m)\u001b[38;5;241m.\u001b[39mupdate_traces(\n\u001b[0;32m    763\u001b[0m         patch, selector, row, col, secondary_y, overwrite, \u001b[38;5;241m*\u001b[39m\u001b[38;5;241m*\u001b[39mkwargs\n\u001b[0;32m    764\u001b[0m     )\n",
      "File \u001b[1;32mc:\\Users\\simon\\anaconda3\\Lib\\site-packages\\plotly\\basedatatypes.py:1364\u001b[0m, in \u001b[0;36mBaseFigure.update_traces\u001b[1;34m(self, patch, selector, row, col, secondary_y, overwrite, **kwargs)\u001b[0m\n\u001b[0;32m   1310\u001b[0m \u001b[38;5;250m\u001b[39m\u001b[38;5;124;03m\"\"\"\u001b[39;00m\n\u001b[0;32m   1311\u001b[0m \u001b[38;5;124;03mPerform a property update operation on all traces that satisfy the\u001b[39;00m\n\u001b[0;32m   1312\u001b[0m \u001b[38;5;124;03mspecified selection criteria\u001b[39;00m\n\u001b[1;32m   (...)\u001b[0m\n\u001b[0;32m   1359\u001b[0m \u001b[38;5;124;03m    Returns the Figure object that the method was called on\u001b[39;00m\n\u001b[0;32m   1360\u001b[0m \u001b[38;5;124;03m\"\"\"\u001b[39;00m\n\u001b[0;32m   1361\u001b[0m \u001b[38;5;28;01mfor\u001b[39;00m trace \u001b[38;5;129;01min\u001b[39;00m \u001b[38;5;28mself\u001b[39m\u001b[38;5;241m.\u001b[39mselect_traces(\n\u001b[0;32m   1362\u001b[0m     selector\u001b[38;5;241m=\u001b[39mselector, row\u001b[38;5;241m=\u001b[39mrow, col\u001b[38;5;241m=\u001b[39mcol, secondary_y\u001b[38;5;241m=\u001b[39msecondary_y\n\u001b[0;32m   1363\u001b[0m ):\n\u001b[1;32m-> 1364\u001b[0m     trace\u001b[38;5;241m.\u001b[39mupdate(patch, overwrite\u001b[38;5;241m=\u001b[39moverwrite, \u001b[38;5;241m*\u001b[39m\u001b[38;5;241m*\u001b[39mkwargs)\n\u001b[0;32m   1365\u001b[0m \u001b[38;5;28;01mreturn\u001b[39;00m \u001b[38;5;28mself\u001b[39m\n",
      "File \u001b[1;32mc:\\Users\\simon\\anaconda3\\Lib\\site-packages\\plotly\\basedatatypes.py:5131\u001b[0m, in \u001b[0;36mBasePlotlyType.update\u001b[1;34m(self, dict1, overwrite, **kwargs)\u001b[0m\n\u001b[0;32m   5129\u001b[0m     \u001b[38;5;28;01mwith\u001b[39;00m \u001b[38;5;28mself\u001b[39m\u001b[38;5;241m.\u001b[39mfigure\u001b[38;5;241m.\u001b[39mbatch_update():\n\u001b[0;32m   5130\u001b[0m         BaseFigure\u001b[38;5;241m.\u001b[39m_perform_update(\u001b[38;5;28mself\u001b[39m, dict1, overwrite\u001b[38;5;241m=\u001b[39moverwrite)\n\u001b[1;32m-> 5131\u001b[0m         BaseFigure\u001b[38;5;241m.\u001b[39m_perform_update(\u001b[38;5;28mself\u001b[39m, kwargs, overwrite\u001b[38;5;241m=\u001b[39moverwrite)\n\u001b[0;32m   5132\u001b[0m \u001b[38;5;28;01melse\u001b[39;00m:\n\u001b[0;32m   5133\u001b[0m     BaseFigure\u001b[38;5;241m.\u001b[39m_perform_update(\u001b[38;5;28mself\u001b[39m, dict1, overwrite\u001b[38;5;241m=\u001b[39moverwrite)\n",
      "File \u001b[1;32mc:\\Users\\simon\\anaconda3\\Lib\\site-packages\\plotly\\basedatatypes.py:3913\u001b[0m, in \u001b[0;36mBaseFigure._perform_update\u001b[1;34m(plotly_obj, update_obj, overwrite)\u001b[0m\n\u001b[0;32m   3907\u001b[0m validator \u001b[38;5;241m=\u001b[39m plotly_obj\u001b[38;5;241m.\u001b[39m_get_prop_validator(key)\n\u001b[0;32m   3909\u001b[0m \u001b[38;5;28;01mif\u001b[39;00m \u001b[38;5;28misinstance\u001b[39m(validator, CompoundValidator) \u001b[38;5;129;01mand\u001b[39;00m \u001b[38;5;28misinstance\u001b[39m(val, \u001b[38;5;28mdict\u001b[39m):\n\u001b[0;32m   3910\u001b[0m \n\u001b[0;32m   3911\u001b[0m     \u001b[38;5;66;03m# Update compound objects recursively\u001b[39;00m\n\u001b[0;32m   3912\u001b[0m     \u001b[38;5;66;03m# plotly_obj[key].update(val)\u001b[39;00m\n\u001b[1;32m-> 3913\u001b[0m     BaseFigure\u001b[38;5;241m.\u001b[39m_perform_update(plotly_obj[key], val)\n\u001b[0;32m   3914\u001b[0m \u001b[38;5;28;01melif\u001b[39;00m \u001b[38;5;28misinstance\u001b[39m(validator, CompoundArrayValidator):\n\u001b[0;32m   3915\u001b[0m     \u001b[38;5;28;01mif\u001b[39;00m plotly_obj[key]:\n\u001b[0;32m   3916\u001b[0m         \u001b[38;5;66;03m# plotly_obj has an existing non-empty array for key\u001b[39;00m\n\u001b[0;32m   3917\u001b[0m         \u001b[38;5;66;03m# In this case we merge val into the existing elements\u001b[39;00m\n",
      "File \u001b[1;32mc:\\Users\\simon\\anaconda3\\Lib\\site-packages\\plotly\\basedatatypes.py:3890\u001b[0m, in \u001b[0;36mBaseFigure._perform_update\u001b[1;34m(plotly_obj, update_obj, overwrite)\u001b[0m\n\u001b[0;32m   3888\u001b[0m     err \u001b[38;5;241m=\u001b[39m _check_path_in_prop_tree(plotly_obj, key, error_cast\u001b[38;5;241m=\u001b[39m\u001b[38;5;167;01mValueError\u001b[39;00m)\n\u001b[0;32m   3889\u001b[0m     \u001b[38;5;28;01mif\u001b[39;00m err \u001b[38;5;129;01mis\u001b[39;00m \u001b[38;5;129;01mnot\u001b[39;00m \u001b[38;5;28;01mNone\u001b[39;00m:\n\u001b[1;32m-> 3890\u001b[0m         \u001b[38;5;28;01mraise\u001b[39;00m err\n\u001b[0;32m   3892\u001b[0m \u001b[38;5;66;03m# Convert update_obj to dict\u001b[39;00m\n\u001b[0;32m   3893\u001b[0m \u001b[38;5;66;03m# --------------------------\u001b[39;00m\n\u001b[0;32m   3894\u001b[0m \u001b[38;5;28;01mif\u001b[39;00m \u001b[38;5;28misinstance\u001b[39m(update_obj, BasePlotlyType):\n",
      "\u001b[1;31mValueError\u001b[0m: Invalid property specified for object of type plotly.graph_objs.scattermapbox.Marker: 'line'\n\nDid you mean \"size\"?\n\n    Valid properties:\n        allowoverlap\n            Flag to draw all symbols, even if they overlap.\n        angle\n            Sets the marker orientation from true North, in degrees\n            clockwise. When using the \"auto\" default, no rotation\n            would be applied in perspective views which is\n            different from using a zero angle.\n        anglesrc\n            Sets the source reference on Chart Studio Cloud for\n            `angle`.\n        autocolorscale\n            Determines whether the colorscale is a default palette\n            (`autocolorscale: true`) or the palette determined by\n            `marker.colorscale`. Has an effect only if in\n            `marker.color` is set to a numerical array. In case\n            `colorscale` is unspecified or `autocolorscale` is\n            true, the default palette will be chosen according to\n            whether numbers in the `color` array are all positive,\n            all negative or mixed.\n        cauto\n            Determines whether or not the color domain is computed\n            with respect to the input data (here in `marker.color`)\n            or the bounds set in `marker.cmin` and `marker.cmax`\n            Has an effect only if in `marker.color` is set to a\n            numerical array. Defaults to `false` when `marker.cmin`\n            and `marker.cmax` are set by the user.\n        cmax\n            Sets the upper bound of the color domain. Has an effect\n            only if in `marker.color` is set to a numerical array.\n            Value should have the same units as in `marker.color`\n            and if set, `marker.cmin` must be set as well.\n        cmid\n            Sets the mid-point of the color domain by scaling\n            `marker.cmin` and/or `marker.cmax` to be equidistant to\n            this point. Has an effect only if in `marker.color` is\n            set to a numerical array. Value should have the same\n            units as in `marker.color`. Has no effect when\n            `marker.cauto` is `false`.\n        cmin\n            Sets the lower bound of the color domain. Has an effect\n            only if in `marker.color` is set to a numerical array.\n            Value should have the same units as in `marker.color`\n            and if set, `marker.cmax` must be set as well.\n        color\n            Sets the marker color. It accepts either a specific\n            color or an array of numbers that are mapped to the\n            colorscale relative to the max and min values of the\n            array or relative to `marker.cmin` and `marker.cmax` if\n            set.\n        coloraxis\n            Sets a reference to a shared color axis. References to\n            these shared color axes are \"coloraxis\", \"coloraxis2\",\n            \"coloraxis3\", etc. Settings for these shared color axes\n            are set in the layout, under `layout.coloraxis`,\n            `layout.coloraxis2`, etc. Note that multiple color\n            scales can be linked to the same color axis.\n        colorbar\n            :class:`plotly.graph_objects.scattermapbox.marker.Color\n            Bar` instance or dict with compatible properties\n        colorscale\n            Sets the colorscale. Has an effect only if in\n            `marker.color` is set to a numerical array. The\n            colorscale must be an array containing arrays mapping a\n            normalized value to an rgb, rgba, hex, hsl, hsv, or\n            named color string. At minimum, a mapping for the\n            lowest (0) and highest (1) values are required. For\n            example, `[[0, 'rgb(0,0,255)'], [1, 'rgb(255,0,0)']]`.\n            To control the bounds of the colorscale in color space,\n            use `marker.cmin` and `marker.cmax`. Alternatively,\n            `colorscale` may be a palette name string of the\n            following list: Blackbody,Bluered,Blues,Cividis,Earth,E\n            lectric,Greens,Greys,Hot,Jet,Picnic,Portland,Rainbow,Rd\n            Bu,Reds,Viridis,YlGnBu,YlOrRd.\n        colorsrc\n            Sets the source reference on Chart Studio Cloud for\n            `color`.\n        opacity\n            Sets the marker opacity.\n        opacitysrc\n            Sets the source reference on Chart Studio Cloud for\n            `opacity`.\n        reversescale\n            Reverses the color mapping if true. Has an effect only\n            if in `marker.color` is set to a numerical array. If\n            true, `marker.cmin` will correspond to the last color\n            in the array and `marker.cmax` will correspond to the\n            first color.\n        showscale\n            Determines whether or not a colorbar is displayed for\n            this trace. Has an effect only if in `marker.color` is\n            set to a numerical array.\n        size\n            Sets the marker size (in px).\n        sizemin\n            Has an effect only if `marker.size` is set to a\n            numerical array. Sets the minimum size (in px) of the\n            rendered marker points.\n        sizemode\n            Has an effect only if `marker.size` is set to a\n            numerical array. Sets the rule for which the data in\n            `size` is converted to pixels.\n        sizeref\n            Has an effect only if `marker.size` is set to a\n            numerical array. Sets the scale factor used to\n            determine the rendered size of marker points. Use with\n            `sizemin` and `sizemode`.\n        sizesrc\n            Sets the source reference on Chart Studio Cloud for\n            `size`.\n        symbol\n            Sets the marker symbol. Full list:\n            https://www.mapbox.com/maki-icons/ Note that the array\n            `marker.color` and `marker.size` are only available for\n            \"circle\" symbols.\n        symbolsrc\n            Sets the source reference on Chart Studio Cloud for\n            `symbol`.\n        \nDid you mean \"size\"?\n\nBad property path:\nline\n^^^^"
     ]
    }
   ],
   "source": [
    "import pandas as pd\n",
    "import plotly.express as px\n",
    "\n",
    "import matplotlib.pyplot as plt\n",
    "import seaborn as sns\n",
    "\n",
    "# --- FONCTION : construit la carte ---\n",
    "def carte_biens(apport, taux, duree, quartier=\"Tous\"):\n",
    "    # 1) Filtre quartier\n",
    "    if quartier == \"Tous\":\n",
    "        base = df.copy()\n",
    "    else:\n",
    "        base = df[df[\"nom_commune\"] == quartier].copy()\n",
    "    if base.empty:\n",
    "        raise ValueError(\"Aucun bien pour ce filtre.\")\n",
    "\n",
    "    # 2) Vérifs colonnes géo\n",
    "    if not {\"latitude\", \"longitude\"}.issubset(base.columns):\n",
    "        raise ValueError(\"Il faut des colonnes 'latitude' et 'longitude' dans df.\")\n",
    "\n",
    "    # 3) Calculs loyer / mensualité / cashflow\n",
    "    base[\"prix\"]     = base[\"valeur_fonciere\"].astype(float)\n",
    "    base[\"surface\"]  = base[\"surface_reelle_bati\"].astype(float)\n",
    "    base[\"loyer_ref\"] = (base[\"surface\"] * base[\"loyer_ref_m2\"]).astype(float)\n",
    "    base[\"loyer_min\"] = (base[\"surface\"] * base[\"loyer_minore_m2\"]).astype(float)\n",
    "    base[\"loyer_max\"] = (base[\"surface\"] * base[\"loyer_majore_m2\"]).astype(float)\n",
    "\n",
    "    def mensualite(capital, taux_annuel, duree_annees):\n",
    "        if capital <= 0:\n",
    "            return 0.0\n",
    "        tm = taux_annuel / 100 / 12\n",
    "        n  = int(duree_annees * 12)\n",
    "        if tm == 0:\n",
    "            return capital / n\n",
    "        return capital * (tm * (1 + tm)**n) / ((1 + tm)**n - 1)\n",
    "\n",
    "    base[\"mensualite\"] = base[\"prix\"].apply(lambda p: mensualite(max(0, p - apport), taux, duree))\n",
    "\n",
    "    # Charges estimées (25% du loyer) → à ajuster si tu veux un autre modèle\n",
    "    base[\"charges_ref\"] = base[\"loyer_ref\"] * 0.25\n",
    "    base[\"charges_min\"] = base[\"loyer_min\"] * 0.25\n",
    "    base[\"charges_max\"] = base[\"loyer_max\"] * 0.25\n",
    "\n",
    "    base[\"cf_net_ref\"] = base[\"loyer_ref\"] - base[\"charges_ref\"] - base[\"mensualite\"]\n",
    "    base[\"cf_net_min\"] = base[\"loyer_min\"] - base[\"charges_min\"] - base[\"mensualite\"]\n",
    "    base[\"cf_net_max\"] = base[\"loyer_max\"] - base[\"charges_max\"] - base[\"mensualite\"]\n",
    "\n",
    "    # Statut autofinancement (sur loyer de référence)\n",
    "    base[\"autofin\"] = (base[\"cf_net_ref\"] >= 0).map({True: \"Autofinancé\", False: \"Non autofinancé\"})\n",
    "\n",
    "    # 4) Figure Plotly Mapbox (OpenStreetMap, pas besoin de token)\n",
    "    hover = {\n",
    "        \"adresse_nom_voie\": True,\n",
    "        \"nom_commune\": True,\n",
    "        \"prix\": \":,.0f\",\n",
    "        \"surface\": \":.0f\",\n",
    "        \"loyer_min\": \":,.0f\",\n",
    "        \"loyer_ref\": \":,.0f\",\n",
    "        \"loyer_max\": \":,.0f\",\n",
    "        \"mensualite\": \":,.0f\",\n",
    "        \"cf_net_min\": \":,.0f\",\n",
    "        \"cf_net_ref\": \":,.0f\",\n",
    "        \"cf_net_max\": \":,.0f\",\n",
    "        \"autofin\": True,\n",
    "        \"latitude\": False,\n",
    "        \"longitude\": False,\n",
    "    }\n",
    "\n",
    "    fig = px.scatter_mapbox(\n",
    "        base,\n",
    "        lat=\"latitude\", lon=\"longitude\",\n",
    "        color=\"cf_net_ref\",              # dégradé rouge→vert\n",
    "        color_continuous_scale=\"RdYlGn\",\n",
    "        size=None,\n",
    "        hover_data=hover,\n",
    "        hover_name=\"adresse_nom_voie\",\n",
    "        zoom=11,\n",
    "        height=650\n",
    "    )\n",
    "    fig.update_layout(\n",
    "        mapbox_style=\"open-street-map\",\n",
    "        margin=dict(l=0, r=0, t=40, b=0),\n",
    "        coloraxis_colorbar=dict(\n",
    "            title=\"CF net (réf) €/mois\",\n",
    "            ticks=\"outside\"\n",
    "        ),\n",
    "        title=f\"Biens – Cashflow net (réf) après charges — Quartier: {quartier}\"\n",
    "    )\n",
    "\n",
    "    # Hover lisible\n",
    "    fig.update_traces(\n",
    "        marker=dict(size=10, line=dict(width=0.5, color=\"black\")),\n",
    "        hovertemplate=(\n",
    "            \"<b>%{hovertext}</b><br>\"  # adresse\n",
    "            \"Commune: %{customdata[1]}<br>\"\n",
    "            \"Prix: %{customdata[2]} €<br>\"\n",
    "            \"Surface: %{customdata[3]} m²<br>\"\n",
    "            \"<b>Loyers (€/mois)</b> min %{customdata[4]} | réf %{customdata[5]} | max %{customdata[6]}<br>\"\n",
    "            \"Mensualité: %{customdata[7]} €/mois<br>\"\n",
    "            \"<b>Cashflow net (€/mois)</b> min %{customdata[8]} | <b>réf %{customdata[9]}</b> | max %{customdata[10]}<br>\"\n",
    "            \"Statut: %{customdata[11]}<extra></extra>\"\n",
    "        )\n",
    "    )\n",
    "\n",
    "    return fig\n",
    "\n",
    "\n",
    "# --- EXEMPLES D’APPEL ---\n",
    "# 1) Si tu utilises tes sliders : \n",
    "fig = carte_biens(apport_slider.value, taux_slider.value, duree_slider.value, quartier_selector.value if 'quartier_selector' in globals() else \"Tous\")\n",
    "fig.show()\n",
    "\n",
    "# 2) Sans widgets, valeurs fixes :\n",
    "# fig = carte_biens(apport=50000, taux=3.5, duree=25, quartier=\"Tous\")\n",
    "# fig.show()\n"
   ]
  },
  {
   "cell_type": "code",
   "execution_count": null,
   "id": "9d2170c9",
   "metadata": {},
   "outputs": [],
   "source": [
    "budget\n",
    "taux\n",
    "apport\n",
    "duree\n",
    "prix locatif \n"
   ]
  },
  {
   "cell_type": "code",
   "execution_count": null,
   "id": "7ce18fb4",
   "metadata": {},
   "outputs": [],
   "source": []
  },
  {
   "cell_type": "code",
   "execution_count": null,
   "id": "ef560d84",
   "metadata": {},
   "outputs": [],
   "source": []
  },
  {
   "cell_type": "code",
   "execution_count": null,
   "id": "1cd71999",
   "metadata": {},
   "outputs": [],
   "source": []
  },
  {
   "cell_type": "code",
   "execution_count": null,
   "id": "48565f09",
   "metadata": {},
   "outputs": [],
   "source": []
  }
 ],
 "metadata": {
  "kernelspec": {
   "display_name": "base",
   "language": "python",
   "name": "python3"
  },
  "language_info": {
   "codemirror_mode": {
    "name": "ipython",
    "version": 3
   },
   "file_extension": ".py",
   "mimetype": "text/x-python",
   "name": "python",
   "nbconvert_exporter": "python",
   "pygments_lexer": "ipython3",
   "version": "3.13.5"
  }
 },
 "nbformat": 4,
 "nbformat_minor": 5
}
