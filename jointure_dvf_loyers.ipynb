{
 "cells": [
  {
   "cell_type": "markdown",
   "id": "513aecfa",
   "metadata": {},
   "source": [
    "# Jointure du dataframe des valeurs foncières et de celui des loyers"
   ]
  },
  {
   "cell_type": "code",
   "execution_count": 9,
   "id": "c45dce2b",
   "metadata": {},
   "outputs": [],
   "source": [
    "import pandas as pd\n",
    "from scipy.spatial import cKDTree\n",
    "import numpy as np"
   ]
  },
  {
   "cell_type": "markdown",
   "id": "1a3fc853",
   "metadata": {},
   "source": [
    "récupération des 2 dataframe clean"
   ]
  },
  {
   "cell_type": "code",
   "execution_count": 10,
   "id": "fde147dd",
   "metadata": {},
   "outputs": [],
   "source": [
    "dvf_df = pd.read_csv(\"dvf_nettoye.csv\", sep=\";\", encoding=\"utf-8\")\n",
    "loyers_df = pd.read_csv(\"loyers_nettoye.csv\", sep=\";\", encoding=\"utf-8\")"
   ]
  },
  {
   "cell_type": "code",
   "execution_count": 11,
   "id": "80add7a9",
   "metadata": {},
   "outputs": [],
   "source": [
    "coords_quartiers = loyers_df[['lat', 'lon']].values\n",
    "tree = cKDTree(coords_quartiers)"
   ]
  },
  {
   "cell_type": "code",
   "execution_count": 12,
   "id": "f19b58bc",
   "metadata": {},
   "outputs": [],
   "source": [
    "coords_dvf = dvf_df[['latitude', 'longitude']].values"
   ]
  },
  {
   "cell_type": "code",
   "execution_count": 13,
   "id": "9270119a",
   "metadata": {},
   "outputs": [],
   "source": [
    "distances, indices = tree.query(coords_dvf)"
   ]
  },
  {
   "cell_type": "markdown",
   "id": "acede64c",
   "metadata": {},
   "source": [
    "Ajouter les colonnes au DataFrame DVF"
   ]
  },
  {
   "cell_type": "code",
   "execution_count": null,
   "id": "23a550af",
   "metadata": {},
   "outputs": [],
   "source": [
    "dvf_df['quartier'] = loyers_df.iloc[indices]['Nom du quartier'].values\n",
    "dvf_df['numero_insee_quartier'] = loyers_df.iloc[indices]['Numéro INSEE du quartier'].values\n",
    "dvf_df['loyer_ref_m2'] = loyers_df.iloc[indices]['Loyers de référence'].values\n",
    "dvf_df['loyer_majore_m2'] = loyers_df.iloc[indices]['Loyers de référence majorés'].values\n",
    "dvf_df['loyer_minore_m2'] = loyers_df.iloc[indices]['Loyers de référence minorés'].values\n",
    "dvf_df['distance_quartier_m'] = distances * 111000  # Conversion approximative en mètres"
   ]
  },
  {
   "cell_type": "markdown",
   "id": "7f03c5f1",
   "metadata": {},
   "source": [
    "checking s'il y a pas des lignes ou le quartier est loin de la réalité"
   ]
  },
  {
   "cell_type": "code",
   "execution_count": 19,
   "id": "a67f4d2c",
   "metadata": {},
   "outputs": [
    {
     "data": {
      "text/plain": [
       "(214, 16)"
      ]
     },
     "execution_count": 19,
     "metadata": {},
     "output_type": "execute_result"
    }
   ],
   "source": [
    "dvf_df[dvf_df['distance_quartier_m'] > 1000].shape"
   ]
  },
  {
   "cell_type": "code",
   "execution_count": null,
   "id": "cb433bbc",
   "metadata": {},
   "outputs": [],
   "source": []
  }
 ],
 "metadata": {
  "kernelspec": {
   "display_name": "base",
   "language": "python",
   "name": "python3"
  },
  "language_info": {
   "codemirror_mode": {
    "name": "ipython",
    "version": 3
   },
   "file_extension": ".py",
   "mimetype": "text/x-python",
   "name": "python",
   "nbconvert_exporter": "python",
   "pygments_lexer": "ipython3",
   "version": "3.13.5"
  }
 },
 "nbformat": 4,
 "nbformat_minor": 5
}
