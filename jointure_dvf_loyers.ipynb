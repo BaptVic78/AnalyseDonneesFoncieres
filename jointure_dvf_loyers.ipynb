{
 "cells": [
  {
   "cell_type": "markdown",
   "id": "513aecfa",
   "metadata": {},
   "source": [
    "# Jointure du dataframe des valeurs foncières et de celui des loyers"
   ]
  },
  {
   "cell_type": "code",
   "execution_count": 1,
   "id": "c45dce2b",
   "metadata": {},
   "outputs": [],
   "source": [
    "import pandas as pd\n",
    "from scipy.spatial import cKDTree\n",
    "import numpy as np"
   ]
  },
  {
   "cell_type": "markdown",
   "id": "1a3fc853",
   "metadata": {},
   "source": [
    "récupération des 2 dataframe clean"
   ]
  },
  {
   "cell_type": "code",
   "execution_count": 2,
   "id": "fde147dd",
   "metadata": {},
   "outputs": [],
   "source": [
    "dvf_df = pd.read_csv(\"dvf_nettoye.csv\", sep=\";\", encoding=\"utf-8\")\n",
    "loyers_df = pd.read_csv(\"loyers_nettoye.csv\", sep=\";\", encoding=\"utf-8\")"
   ]
  },
  {
   "cell_type": "code",
   "execution_count": 3,
   "id": "80add7a9",
   "metadata": {},
   "outputs": [],
   "source": [
    "coords_quartiers = loyers_df[['lat', 'lon']].values\n",
    "tree = cKDTree(coords_quartiers)"
   ]
  },
  {
   "cell_type": "code",
   "execution_count": 4,
   "id": "f19b58bc",
   "metadata": {},
   "outputs": [],
   "source": [
    "coords_dvf = dvf_df[['latitude', 'longitude']].values"
   ]
  },
  {
   "cell_type": "code",
   "execution_count": 5,
   "id": "9270119a",
   "metadata": {},
   "outputs": [],
   "source": [
    "distances, indices = tree.query(coords_dvf)"
   ]
  },
  {
   "cell_type": "markdown",
   "id": "acede64c",
   "metadata": {},
   "source": [
    "Ajouter les colonnes au DataFrame DVF"
   ]
  },
  {
   "cell_type": "code",
   "execution_count": 6,
   "id": "23a550af",
   "metadata": {},
   "outputs": [],
   "source": [
    "dvf_df['quartier'] = loyers_df.iloc[indices]['Nom du quartier'].values\n",
    "dvf_df['numero_insee_quartier'] = loyers_df.iloc[indices]['Numéro INSEE du quartier'].values\n",
    "dvf_df['loyer_ref_m2'] = loyers_df.iloc[indices]['Loyers de référence'].values\n",
    "dvf_df['loyer_majore_m2'] = loyers_df.iloc[indices]['Loyers de référence majorés'].values\n",
    "dvf_df['loyer_minore_m2'] = loyers_df.iloc[indices]['Loyers de référence minorés'].values\n",
    "dvf_df['distance_quartier_m'] = distances * 111000  # Conversion approximative en mètres"
   ]
  },
  {
   "cell_type": "markdown",
   "id": "7f03c5f1",
   "metadata": {},
   "source": [
    "checking s'il y a pas des lignes ou le quartier est loin de la réalité"
   ]
  },
  {
   "cell_type": "code",
   "execution_count": null,
   "id": "a67f4d2c",
   "metadata": {},
   "outputs": [],
   "source": [
    "dvf_df = dvf_df[dvf_df['distance_quartier_m'] <= 1000]"
   ]
  },
  {
   "cell_type": "code",
   "execution_count": 9,
   "id": "ebc2933a",
   "metadata": {},
   "outputs": [
    {
     "data": {
      "text/html": [
       "<div>\n",
       "<style scoped>\n",
       "    .dataframe tbody tr th:only-of-type {\n",
       "        vertical-align: middle;\n",
       "    }\n",
       "\n",
       "    .dataframe tbody tr th {\n",
       "        vertical-align: top;\n",
       "    }\n",
       "\n",
       "    .dataframe thead th {\n",
       "        text-align: right;\n",
       "    }\n",
       "</style>\n",
       "<table border=\"1\" class=\"dataframe\">\n",
       "  <thead>\n",
       "    <tr style=\"text-align: right;\">\n",
       "      <th></th>\n",
       "      <th>date_mutation</th>\n",
       "      <th>valeur_fonciere</th>\n",
       "      <th>surface_reelle_bati</th>\n",
       "      <th>nombre_pieces_principales</th>\n",
       "      <th>longitude</th>\n",
       "      <th>latitude</th>\n",
       "      <th>adresse_nom_voie</th>\n",
       "      <th>nom_commune</th>\n",
       "      <th>prix_m2</th>\n",
       "      <th>arrondissement</th>\n",
       "      <th>quartier</th>\n",
       "      <th>numero_insee_quartier</th>\n",
       "      <th>loyer_ref_m2</th>\n",
       "      <th>loyer_majore_m2</th>\n",
       "      <th>loyer_minore_m2</th>\n",
       "      <th>distance_quartier_m</th>\n",
       "    </tr>\n",
       "  </thead>\n",
       "  <tbody>\n",
       "    <tr>\n",
       "      <th>0</th>\n",
       "      <td>2024-01-08</td>\n",
       "      <td>170000.0</td>\n",
       "      <td>14.0</td>\n",
       "      <td>0.0</td>\n",
       "      <td>2.351308</td>\n",
       "      <td>48.866263</td>\n",
       "      <td>PAS BASFOUR</td>\n",
       "      <td>Paris 2e Arrondissement</td>\n",
       "      <td>12142.857143</td>\n",
       "      <td>2.0</td>\n",
       "      <td>Bonne-Nouvelle</td>\n",
       "      <td>7510208</td>\n",
       "      <td>23.0</td>\n",
       "      <td>27.60</td>\n",
       "      <td>16.10</td>\n",
       "      <td>168.138266</td>\n",
       "    </tr>\n",
       "    <tr>\n",
       "      <th>1</th>\n",
       "      <td>2024-01-04</td>\n",
       "      <td>650000.0</td>\n",
       "      <td>59.0</td>\n",
       "      <td>0.0</td>\n",
       "      <td>2.330483</td>\n",
       "      <td>48.874388</td>\n",
       "      <td>RUE JOUBERT</td>\n",
       "      <td>Paris 9e Arrondissement</td>\n",
       "      <td>11016.949153</td>\n",
       "      <td>9.0</td>\n",
       "      <td>Chaussée-d'Antin</td>\n",
       "      <td>7510934</td>\n",
       "      <td>24.3</td>\n",
       "      <td>29.20</td>\n",
       "      <td>17.00</td>\n",
       "      <td>219.094129</td>\n",
       "    </tr>\n",
       "    <tr>\n",
       "      <th>2</th>\n",
       "      <td>2024-01-10</td>\n",
       "      <td>500000.0</td>\n",
       "      <td>51.0</td>\n",
       "      <td>0.0</td>\n",
       "      <td>2.354192</td>\n",
       "      <td>48.888191</td>\n",
       "      <td>RUE DOUDEAUVILLE</td>\n",
       "      <td>Paris 18e Arrondissement</td>\n",
       "      <td>9803.921569</td>\n",
       "      <td>18.0</td>\n",
       "      <td>Goutte-d'Or</td>\n",
       "      <td>7511871</td>\n",
       "      <td>20.4</td>\n",
       "      <td>24.48</td>\n",
       "      <td>14.28</td>\n",
       "      <td>462.845576</td>\n",
       "    </tr>\n",
       "    <tr>\n",
       "      <th>3</th>\n",
       "      <td>2024-01-10</td>\n",
       "      <td>378000.0</td>\n",
       "      <td>60.0</td>\n",
       "      <td>0.0</td>\n",
       "      <td>2.370435</td>\n",
       "      <td>48.870213</td>\n",
       "      <td>RUE DU FBG DU TEMPLE</td>\n",
       "      <td>Paris 10e Arrondissement</td>\n",
       "      <td>6300.000000</td>\n",
       "      <td>10.0</td>\n",
       "      <td>Folie-Méricourt</td>\n",
       "      <td>7511141</td>\n",
       "      <td>27.4</td>\n",
       "      <td>32.90</td>\n",
       "      <td>19.20</td>\n",
       "      <td>419.677569</td>\n",
       "    </tr>\n",
       "    <tr>\n",
       "      <th>4</th>\n",
       "      <td>2024-01-10</td>\n",
       "      <td>378000.0</td>\n",
       "      <td>46.0</td>\n",
       "      <td>0.0</td>\n",
       "      <td>2.370435</td>\n",
       "      <td>48.870213</td>\n",
       "      <td>RUE DU FBG DU TEMPLE</td>\n",
       "      <td>Paris 10e Arrondissement</td>\n",
       "      <td>8217.391304</td>\n",
       "      <td>10.0</td>\n",
       "      <td>Folie-Méricourt</td>\n",
       "      <td>7511141</td>\n",
       "      <td>27.4</td>\n",
       "      <td>32.90</td>\n",
       "      <td>19.20</td>\n",
       "      <td>419.677569</td>\n",
       "    </tr>\n",
       "  </tbody>\n",
       "</table>\n",
       "</div>"
      ],
      "text/plain": [
       "  date_mutation  valeur_fonciere  surface_reelle_bati  \\\n",
       "0    2024-01-08         170000.0                 14.0   \n",
       "1    2024-01-04         650000.0                 59.0   \n",
       "2    2024-01-10         500000.0                 51.0   \n",
       "3    2024-01-10         378000.0                 60.0   \n",
       "4    2024-01-10         378000.0                 46.0   \n",
       "\n",
       "   nombre_pieces_principales  longitude   latitude      adresse_nom_voie  \\\n",
       "0                        0.0   2.351308  48.866263           PAS BASFOUR   \n",
       "1                        0.0   2.330483  48.874388           RUE JOUBERT   \n",
       "2                        0.0   2.354192  48.888191      RUE DOUDEAUVILLE   \n",
       "3                        0.0   2.370435  48.870213  RUE DU FBG DU TEMPLE   \n",
       "4                        0.0   2.370435  48.870213  RUE DU FBG DU TEMPLE   \n",
       "\n",
       "                nom_commune       prix_m2  arrondissement          quartier  \\\n",
       "0   Paris 2e Arrondissement  12142.857143             2.0    Bonne-Nouvelle   \n",
       "1   Paris 9e Arrondissement  11016.949153             9.0  Chaussée-d'Antin   \n",
       "2  Paris 18e Arrondissement   9803.921569            18.0       Goutte-d'Or   \n",
       "3  Paris 10e Arrondissement   6300.000000            10.0   Folie-Méricourt   \n",
       "4  Paris 10e Arrondissement   8217.391304            10.0   Folie-Méricourt   \n",
       "\n",
       "   numero_insee_quartier  loyer_ref_m2  loyer_majore_m2  loyer_minore_m2  \\\n",
       "0                7510208          23.0            27.60            16.10   \n",
       "1                7510934          24.3            29.20            17.00   \n",
       "2                7511871          20.4            24.48            14.28   \n",
       "3                7511141          27.4            32.90            19.20   \n",
       "4                7511141          27.4            32.90            19.20   \n",
       "\n",
       "   distance_quartier_m  \n",
       "0           168.138266  \n",
       "1           219.094129  \n",
       "2           462.845576  \n",
       "3           419.677569  \n",
       "4           419.677569  "
      ]
     },
     "execution_count": 9,
     "metadata": {},
     "output_type": "execute_result"
    }
   ],
   "source": [
    "dvf_df.head()"
   ]
  },
  {
   "cell_type": "code",
   "execution_count": 10,
   "id": "cbc19dbf",
   "metadata": {},
   "outputs": [],
   "source": [
    "dvf_df.to_csv(\"dvf_loyers.csv\", sep=\";\", encoding=\"utf-8\", index=False)"
   ]
  }
 ],
 "metadata": {
  "kernelspec": {
   "display_name": "base",
   "language": "python",
   "name": "python3"
  },
  "language_info": {
   "codemirror_mode": {
    "name": "ipython",
    "version": 3
   },
   "file_extension": ".py",
   "mimetype": "text/x-python",
   "name": "python",
   "nbconvert_exporter": "python",
   "pygments_lexer": "ipython3",
   "version": "3.13.5"
  }
 },
 "nbformat": 4,
 "nbformat_minor": 5
}
